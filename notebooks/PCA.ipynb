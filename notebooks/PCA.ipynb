{
  "nbformat": 4,
  "nbformat_minor": 0,
  "metadata": {
    "kernelspec": {
      "name": "python3",
      "display_name": "Python 3"
    },
    "language_info": {
      "codemirror_mode": {
        "name": "ipython",
        "version": 3
      },
      "file_extension": ".py",
      "mimetype": "text/x-python",
      "name": "python",
      "nbconvert_exporter": "python",
      "pygments_lexer": "ipython3",
      "version": "3.6.8"
    },
    "colab": {
      "name": "PCA.ipynb",
      "version": "0.3.2",
      "provenance": [],
      "toc_visible": true
    },
    "accelerator": "GPU"
  },
  "cells": [
    {
      "cell_type": "code",
      "metadata": {
        "id": "1iPqz_UB70p8",
        "colab_type": "code",
        "colab": {}
      },
      "source": [
        ""
      ],
      "execution_count": 0,
      "outputs": []
    },
    {
      "cell_type": "code",
      "metadata": {
        "id": "3sQfvS1v71sM",
        "colab_type": "code",
        "outputId": "aa45c591-b0f0-49fe-c523-8d5325f981ec",
        "colab": {
          "base_uri": "https://localhost:8080/",
          "height": 122
        }
      },
      "source": [
        "from google.colab import drive\n",
        "drive.mount('/content/drive')"
      ],
      "execution_count": 0,
      "outputs": [
        {
          "output_type": "stream",
          "text": [
            "Go to this URL in a browser: https://accounts.google.com/o/oauth2/auth?client_id=947318989803-6bn6qk8qdgf4n4g3pfee6491hc0brc4i.apps.googleusercontent.com&redirect_uri=urn%3Aietf%3Awg%3Aoauth%3A2.0%3Aoob&scope=email%20https%3A%2F%2Fwww.googleapis.com%2Fauth%2Fdocs.test%20https%3A%2F%2Fwww.googleapis.com%2Fauth%2Fdrive%20https%3A%2F%2Fwww.googleapis.com%2Fauth%2Fdrive.photos.readonly%20https%3A%2F%2Fwww.googleapis.com%2Fauth%2Fpeopleapi.readonly&response_type=code\n",
            "\n",
            "Enter your authorization code:\n",
            "··········\n",
            "Mounted at /content/drive\n"
          ],
          "name": "stdout"
        }
      ]
    },
    {
      "cell_type": "code",
      "metadata": {
        "id": "1N-lS61a7Vpq",
        "colab_type": "code",
        "colab": {}
      },
      "source": [
        "import cv2 as cv\n",
        "import matplotlib.pyplot as plt\n",
        "import numpy as np\n",
        "import os\n",
        "from sklearn.preprocessing import StandardScaler\n",
        "from sklearn.decomposition import PCA as pca\n",
        "from sklearn.preprocessing import MinMaxScaler\n",
        "import plotly.plotly as py\n",
        "import plotly.tools as tls"
      ],
      "execution_count": 0,
      "outputs": []
    },
    {
      "cell_type": "code",
      "metadata": {
        "id": "nbBQ8Ai8d0Dc",
        "colab_type": "code",
        "colab": {}
      },
      "source": [
        "tls.set_credentials_file(username=\"franklinsierrajer\", api_key=\"mpznaSNAFRoC7K9BLMwa\")"
      ],
      "execution_count": 0,
      "outputs": []
    },
    {
      "cell_type": "markdown",
      "metadata": {
        "id": "XqcKaDSs7Vpv",
        "colab_type": "text"
      },
      "source": [
        "## Conjunto de todas las imagenes promedio"
      ]
    },
    {
      "cell_type": "code",
      "metadata": {
        "id": "-EQHqptC7Vpx",
        "colab_type": "code",
        "outputId": "b778f992-7b2a-40f5-a344-4de900dd26fc",
        "colab": {
          "base_uri": "https://localhost:8080/",
          "height": 153
        }
      },
      "source": [
        "path_classes = \"/content/drive/My Drive/Polyps (1)/Experimentos/Polipos/notebooks/mix_avg_img/\"\n",
        "classes_names = os.listdir(path_classes)\n",
        "classes_names = np.sort(classes_names)\n",
        "print (classes_names)\n",
        "dic_img ={}\n",
        "\n",
        "for i, name_class in enumerate(classes_names):\n",
        "    dic_img[classes_names[i]] = np.array(os.listdir(path_classes+classes_names[i]))\n",
        "    print (\"class: \", name_class, \"total \", len(dic_img[classes_names[i]]))"
      ],
      "execution_count": 23,
      "outputs": [
        {
          "output_type": "stream",
          "text": [
            "['adenomaNbi' 'adenomaWl' 'hyperplasNbi' 'hyperplasWl' 'serratedNbi'\n",
            " 'serratedWl']\n",
            "class:  adenomaNbi total  40\n",
            "class:  adenomaWl total  40\n",
            "class:  hyperplasNbi total  21\n",
            "class:  hyperplasWl total  21\n",
            "class:  serratedNbi total  15\n",
            "class:  serratedWl total  15\n"
          ],
          "name": "stdout"
        }
      ]
    },
    {
      "cell_type": "code",
      "metadata": {
        "id": "PxetB9dM7Vp2",
        "colab_type": "code",
        "outputId": "66989375-ddf8-46e5-cbbe-cf59f1ed6555",
        "colab": {
          "base_uri": "https://localhost:8080/",
          "height": 119
        }
      },
      "source": [
        "x1 = []\n",
        "y1 = []\n",
        "resize_value = 100\n",
        "for i, classes in enumerate(classes_names):\n",
        "    print((i+1), \"clase: \", classes, \" target: \", (i+1), \" total: \", len(dic_img[classes]))\n",
        "    for img_name in dic_img[classes]:\n",
        "        path_image = path_classes+classes+'/'+img_name\n",
        "        img = cv.resize(cv.imread(path_image,0),(100,100))*1.\n",
        "        flatt_img = img.reshape(resize_value*resize_value)\n",
        "        x1.append(flatt_img)\n",
        "        y1.append(i+1)\n",
        "x1 = np.r_[x1]        \n",
        "y1 = np.r_[y1]"
      ],
      "execution_count": 24,
      "outputs": [
        {
          "output_type": "stream",
          "text": [
            "1 clase:  adenomaNbi  target:  1  total:  40\n",
            "2 clase:  adenomaWl  target:  2  total:  40\n",
            "3 clase:  hyperplasNbi  target:  3  total:  21\n",
            "4 clase:  hyperplasWl  target:  4  total:  21\n",
            "5 clase:  serratedNbi  target:  5  total:  15\n",
            "6 clase:  serratedWl  target:  6  total:  15\n"
          ],
          "name": "stdout"
        }
      ]
    },
    {
      "cell_type": "code",
      "metadata": {
        "id": "FCrtfoqf7Vp6",
        "colab_type": "code",
        "outputId": "1941a9c6-aff4-4bd9-fac4-44e1690f05d5",
        "colab": {
          "base_uri": "https://localhost:8080/",
          "height": 34
        }
      },
      "source": [
        "x1.shape"
      ],
      "execution_count": 25,
      "outputs": [
        {
          "output_type": "execute_result",
          "data": {
            "text/plain": [
              "(152, 10000)"
            ]
          },
          "metadata": {
            "tags": []
          },
          "execution_count": 25
        }
      ]
    },
    {
      "cell_type": "code",
      "metadata": {
        "id": "cNAy66TAymio",
        "colab_type": "code",
        "colab": {
          "base_uri": "https://localhost:8080/",
          "height": 238
        },
        "outputId": "b7d642e0-145a-4bc7-c9e2-c0ba5ff8bdf2"
      },
      "source": [
        "x1 = StandardScaler().fit_transform(x1)\n",
        "x1"
      ],
      "execution_count": 26,
      "outputs": [
        {
          "output_type": "execute_result",
          "data": {
            "text/plain": [
              "array([[ 2.35555517,  2.35555517,  2.35555517, ...,  2.40471646,\n",
              "         2.3721131 ,  2.3721131 ],\n",
              "       [-0.25156414, -0.25156414, -0.25156414, ..., -0.2375744 ,\n",
              "        -0.24064915, -0.24064915],\n",
              "       [-0.25156414, -0.25156414, -0.25156414, ..., -0.2375744 ,\n",
              "        -0.24064915, -0.24064915],\n",
              "       ...,\n",
              "       [-0.25156414, -0.25156414, -0.25156414, ..., -0.2375744 ,\n",
              "        -0.24064915, -0.24064915],\n",
              "       [-0.25156414, -0.25156414, -0.25156414, ..., -0.2375744 ,\n",
              "        -0.24064915, -0.24064915],\n",
              "       [-0.25156414, -0.25156414, -0.25156414, ..., -0.2375744 ,\n",
              "        -0.24064915, -0.24064915]])"
            ]
          },
          "metadata": {
            "tags": []
          },
          "execution_count": 26
        }
      ]
    },
    {
      "cell_type": "markdown",
      "metadata": {
        "id": "WLH15scM7Vp-",
        "colab_type": "text"
      },
      "source": [
        "## Conjunto de todas las imagenes varianza"
      ]
    },
    {
      "cell_type": "code",
      "metadata": {
        "id": "4Pw6RYC27Vp_",
        "colab_type": "code",
        "outputId": "6018b5bb-417c-4509-d926-d734ab86c435",
        "colab": {
          "base_uri": "https://localhost:8080/",
          "height": 153
        }
      },
      "source": [
        "path_classes = \"/content/drive/My Drive/Polyps (1)/Experimentos/Polipos/notebooks/mix_var_img/\"\n",
        "classes_names = os.listdir(path_classes)\n",
        "classes_names = np.sort(classes_names)\n",
        "print (classes_names)\n",
        "dic_img ={}\n",
        "\n",
        "for i, name_class in enumerate(classes_names):\n",
        "    dic_img[classes_names[i]] = np.array(os.listdir(path_classes+classes_names[i]))\n",
        "    print (\"class: \", name_class, \"total \", len(dic_img[classes_names[i]]))"
      ],
      "execution_count": 27,
      "outputs": [
        {
          "output_type": "stream",
          "text": [
            "['adenomaNbi' 'adenomaWl' 'hiperplasNbi' 'hiperplasWl' 'serratedNbi'\n",
            " 'serratedWl']\n",
            "class:  adenomaNbi total  40\n",
            "class:  adenomaWl total  40\n",
            "class:  hiperplasNbi total  21\n",
            "class:  hiperplasWl total  21\n",
            "class:  serratedNbi total  15\n",
            "class:  serratedWl total  15\n"
          ],
          "name": "stdout"
        }
      ]
    },
    {
      "cell_type": "code",
      "metadata": {
        "id": "iSrYFD6y7VqD",
        "colab_type": "code",
        "outputId": "94533eb4-0607-4b21-a3f9-52a973063adb",
        "colab": {
          "base_uri": "https://localhost:8080/",
          "height": 119
        }
      },
      "source": [
        "x2 = []\n",
        "y2 = []\n",
        "resize_value = 100\n",
        "for i, classes in enumerate(classes_names):\n",
        "    print((i+1), \"clase: \", classes, \" target: \", (i+1), \" total: \", len(dic_img[classes]))\n",
        "    for img_name in dic_img[classes]:\n",
        "        path_image = path_classes+classes+'/'+img_name\n",
        "        img = cv.resize(cv.imread(path_image,0),(100,100))*1.\n",
        "        flatt_img = img.reshape(resize_value*resize_value)\n",
        "        x2.append(flatt_img)\n",
        "        y2.append(i+1)\n",
        "x2 = np.r_[x2]        \n",
        "y2 = np.r_[y2]"
      ],
      "execution_count": 28,
      "outputs": [
        {
          "output_type": "stream",
          "text": [
            "1 clase:  adenomaNbi  target:  1  total:  40\n",
            "2 clase:  adenomaWl  target:  2  total:  40\n",
            "3 clase:  hiperplasNbi  target:  3  total:  21\n",
            "4 clase:  hiperplasWl  target:  4  total:  21\n",
            "5 clase:  serratedNbi  target:  5  total:  15\n",
            "6 clase:  serratedWl  target:  6  total:  15\n"
          ],
          "name": "stdout"
        }
      ]
    },
    {
      "cell_type": "code",
      "metadata": {
        "id": "C_FfIiDo7VqG",
        "colab_type": "code",
        "outputId": "894cff88-1099-4648-f26a-f1459269ef82",
        "colab": {
          "base_uri": "https://localhost:8080/",
          "height": 34
        }
      },
      "source": [
        "x2.shape"
      ],
      "execution_count": 29,
      "outputs": [
        {
          "output_type": "execute_result",
          "data": {
            "text/plain": [
              "(152, 10000)"
            ]
          },
          "metadata": {
            "tags": []
          },
          "execution_count": 29
        }
      ]
    },
    {
      "cell_type": "code",
      "metadata": {
        "id": "79ZY0jxYzcyb",
        "colab_type": "code",
        "colab": {}
      },
      "source": [
        "x2 = StandardScaler().fit_transform(x2)"
      ],
      "execution_count": 0,
      "outputs": []
    },
    {
      "cell_type": "markdown",
      "metadata": {
        "id": "IJ_YeQZb7VqK",
        "colab_type": "text"
      },
      "source": [
        "## Conjunto de todas las imagenes derivadas"
      ]
    },
    {
      "cell_type": "code",
      "metadata": {
        "id": "EQlwSPGW7VqL",
        "colab_type": "code",
        "outputId": "0dc8af9e-4634-42ab-9df7-ac7a9f9b3e25",
        "colab": {
          "base_uri": "https://localhost:8080/",
          "height": 153
        }
      },
      "source": [
        "path_classes = \"/content/drive/My Drive/Polyps (1)/Experimentos/Polipos/notebooks/mix_der_img/\"\n",
        "classes_names = os.listdir(path_classes)\n",
        "classes_names = np.sort(classes_names)\n",
        "print (classes_names)\n",
        "dic_img ={}\n",
        "\n",
        "for i, name_class in enumerate(classes_names):\n",
        "    dic_img[classes_names[i]] = np.array(os.listdir(path_classes+classes_names[i]))\n",
        "    print (\"class: \", name_class, \"total \", len(dic_img[classes_names[i]]))"
      ],
      "execution_count": 31,
      "outputs": [
        {
          "output_type": "stream",
          "text": [
            "['adenomaNbi' 'adenomaWl' 'hiperplasNbi' 'hiperplasWl' 'serratedNbi'\n",
            " 'serratedWl']\n",
            "class:  adenomaNbi total  40\n",
            "class:  adenomaWl total  40\n",
            "class:  hiperplasNbi total  21\n",
            "class:  hiperplasWl total  21\n",
            "class:  serratedNbi total  15\n",
            "class:  serratedWl total  15\n"
          ],
          "name": "stdout"
        }
      ]
    },
    {
      "cell_type": "code",
      "metadata": {
        "id": "G8o0--2G7VqO",
        "colab_type": "code",
        "outputId": "88c9c35a-ee72-467b-d07d-b7ab9fe9da88",
        "colab": {
          "base_uri": "https://localhost:8080/",
          "height": 119
        }
      },
      "source": [
        "x3 = []\n",
        "y3 = []\n",
        "resize_value = 100\n",
        "for i, classes in enumerate(classes_names):\n",
        "    print((i+1), \"clase: \", classes, \" target: \", (i+1), \" total: \", len(dic_img[classes]))\n",
        "    for img_name in dic_img[classes]:\n",
        "        path_image = path_classes+classes+'/'+img_name\n",
        "        img = cv.resize(cv.imread(path_image,0),(100,100))*1.\n",
        "        flatt_img = img.reshape(resize_value*resize_value)\n",
        "        x3.append(flatt_img)\n",
        "        y3.append(i+1)\n",
        "x3 = np.r_[x3]        \n",
        "y3 = np.r_[y3]"
      ],
      "execution_count": 32,
      "outputs": [
        {
          "output_type": "stream",
          "text": [
            "1 clase:  adenomaNbi  target:  1  total:  40\n",
            "2 clase:  adenomaWl  target:  2  total:  40\n",
            "3 clase:  hiperplasNbi  target:  3  total:  21\n",
            "4 clase:  hiperplasWl  target:  4  total:  21\n",
            "5 clase:  serratedNbi  target:  5  total:  15\n",
            "6 clase:  serratedWl  target:  6  total:  15\n"
          ],
          "name": "stdout"
        }
      ]
    },
    {
      "cell_type": "code",
      "metadata": {
        "id": "Zn_ni7-o7VqT",
        "colab_type": "code",
        "colab": {}
      },
      "source": [
        "x3 = StandardScaler().fit_transform(x3)"
      ],
      "execution_count": 0,
      "outputs": []
    },
    {
      "cell_type": "markdown",
      "metadata": {
        "id": "5jF9Ua2L7VqY",
        "colab_type": "text"
      },
      "source": [
        "# Juntando todo"
      ]
    },
    {
      "cell_type": "markdown",
      "metadata": {
        "id": "yQqWk7EtxEdS",
        "colab_type": "text"
      },
      "source": [
        "Analisis del discriminante lineal\n",
        "\n",
        "Estandarizar los datos\n",
        "\n",
        "* Obtener los valores y vectores propios de la matriz de covarianza o de correlaciones o la tecnica del singular vector descompostion.\n",
        "* Ordenar los valores propios de manera descente y quedar con los p mayores para disminuir el numero de variables\n",
        "* Constriuir la matriz de proyeccion W a partir de los p valores propios\n",
        "\n",
        "\n",
        "\n",
        "\n",
        "\n"
      ]
    },
    {
      "cell_type": "code",
      "metadata": {
        "id": "DXxAlI3c7Vqd",
        "colab_type": "code",
        "colab": {}
      },
      "source": [
        "img_mix = np.concatenate((x1, x2, x3), axis = 1)"
      ],
      "execution_count": 0,
      "outputs": []
    },
    {
      "cell_type": "code",
      "metadata": {
        "id": "dY5k9a1c0RZO",
        "colab_type": "code",
        "colab": {
          "base_uri": "https://localhost:8080/",
          "height": 34
        },
        "outputId": "bbccb2ff-460c-4c3e-defa-848e8304732f"
      },
      "source": [
        "img_mix.shape"
      ],
      "execution_count": 35,
      "outputs": [
        {
          "output_type": "execute_result",
          "data": {
            "text/plain": [
              "(152, 30000)"
            ]
          },
          "metadata": {
            "tags": []
          },
          "execution_count": 35
        }
      ]
    },
    {
      "cell_type": "markdown",
      "metadata": {
        "id": "xSHqcx370gIH",
        "colab_type": "text"
      },
      "source": [
        "##Calculo la descomposición de los valores y vectores propios\n",
        "\n",
        "**Valores propios:**  Determinan la magnitud (varianza de datos)\n",
        "\n",
        "**Vectores propios:** Determinan las direcciones en el nuevo espacio vectorial"
      ]
    },
    {
      "cell_type": "markdown",
      "metadata": {
        "id": "Htrc8ARL7QVl",
        "colab_type": "text"
      },
      "source": [
        "####Usando la matriz de covarianza"
      ]
    },
    {
      "cell_type": "code",
      "metadata": {
        "id": "DPGX2BeQ3CJ1",
        "colab_type": "code",
        "colab": {}
      },
      "source": [
        "mat_cov = np.cov(img_mix)"
      ],
      "execution_count": 0,
      "outputs": []
    },
    {
      "cell_type": "code",
      "metadata": {
        "id": "xzUEO8E8515e",
        "colab_type": "code",
        "colab": {
          "base_uri": "https://localhost:8080/",
          "height": 714
        },
        "outputId": "f9f6386b-3534-4823-ce05-66cc810296c4"
      },
      "source": [
        "eig_vals, eig_vectors = np.linalg.eig(mat_cov)\n",
        "print(\"Valores propios \\n%s\" %eig_vals)\n",
        "print(\"Vectores propios \\n%s\" %eig_vectors)"
      ],
      "execution_count": 37,
      "outputs": [
        {
          "output_type": "stream",
          "text": [
            "Valores propios \n",
            "[12.80440416 11.06148026  9.84619021  7.97000504  7.1642055   6.29644486\n",
            "  5.4857812   4.97403877  4.19857398  3.20149768  3.0567039   2.62122563\n",
            "  2.37280972  2.21217399  1.93531249  1.76831306  1.70194831  1.55862678\n",
            "  1.53738632  1.47560005  1.32492895  1.17791405  1.16573066  1.08306845\n",
            "  1.02191096  1.00176801  0.9660245   0.91855155  0.88901979  0.86663511\n",
            "  0.81614656  0.78698727  0.76828713  0.72211795  0.70031332  0.69679514\n",
            "  0.68568524  0.675813    0.65376673  0.56799642  0.62920214  0.59841653\n",
            "  0.61286339  0.55522017  0.54350031  0.52660053  0.51370607  0.47567589\n",
            "  0.49669801  0.48821274  0.44143271  0.43081747  0.42576631  0.39404593\n",
            "  0.40970437  0.40457302  0.37960797  0.37094227  0.36852318  0.3565105\n",
            "  0.35265373  0.33905383  0.333771    0.32744281  0.31709342  0.29838346\n",
            "  0.3008097   0.          0.29185366  0.29410864  0.27900653  0.27445691\n",
            "  0.26342872  0.2692821   0.24571753  0.26094886  0.25801773  0.25502559\n",
            "  0.24722361  0.24003392  0.23349445  0.22980426  0.03259237  0.04094969\n",
            "  0.22095822  0.21944568  0.2174017   0.21527976  0.20616162  0.04774426\n",
            "  0.0492789   0.05394526  0.05752339  0.19988663  0.19319263  0.19107374\n",
            "  0.18763189  0.18507021  0.18183786  0.18049439  0.1790886   0.17492363\n",
            "  0.05980862  0.06282901  0.16995617  0.16658501  0.06487969  0.06732832\n",
            "  0.07014238  0.07224657  0.07330391  0.07601026  0.16086001  0.15855584\n",
            "  0.15721367  0.1498684   0.15266962  0.153779    0.14499355  0.14122466\n",
            "  0.14079343  0.07795815  0.13859963  0.07943016  0.1350519   0.13305501\n",
            "  0.13041981  0.12499169  0.08210299  0.08251884  0.08511197  0.09019416\n",
            "  0.08732813  0.09284202  0.12254148  0.1218786   0.08126571  0.09708366\n",
            "  0.11723658  0.09440397  0.09367052  0.11524866  0.09850712  0.10227459\n",
            "  0.10351437  0.10482731  0.10944438  0.10749649  0.11257417  0.10813106\n",
            "  0.11229719  0.12817616]\n",
            "Vectores propios \n",
            "[[ 5.46476521e-02  7.62581681e-02  1.12288225e-02 ...  3.74992075e-02\n",
            "   2.35437570e-02 -1.99118633e-04]\n",
            " [ 6.69876253e-02  5.67550892e-03  8.29525736e-02 ...  7.47279428e-03\n",
            "   3.00123669e-02  2.45830335e-02]\n",
            " [ 1.67248460e-01  7.95045291e-02  1.10979871e-01 ...  1.52445218e-02\n",
            "  -2.03710548e-01 -1.77062622e-02]\n",
            " ...\n",
            " [-5.65697885e-02 -6.41041751e-02  1.30515930e-01 ...  3.60137566e-02\n",
            "   3.69379985e-02  1.79070422e-02]\n",
            " [-6.46751065e-02 -7.28721836e-02  1.27972802e-01 ...  1.25882756e-02\n",
            "   4.06145047e-02 -1.08399846e-02]\n",
            " [-1.06142288e-01 -8.04673548e-02 -1.27789404e-03 ...  5.30505203e-03\n",
            "   1.21559279e-02 -9.78807582e-03]]\n"
          ],
          "name": "stdout"
        }
      ]
    },
    {
      "cell_type": "markdown",
      "metadata": {
        "id": "DVVgJzW37YMT",
        "colab_type": "text"
      },
      "source": [
        "####Usando la matriz de correlaciones"
      ]
    },
    {
      "cell_type": "markdown",
      "metadata": {
        "id": "GmgfS0y57rh4",
        "colab_type": "text"
      },
      "source": [
        "Normalizacion de la matriz de covarianza."
      ]
    },
    {
      "cell_type": "code",
      "metadata": {
        "id": "T7IdMitg7xUu",
        "colab_type": "code",
        "colab": {
          "base_uri": "https://localhost:8080/",
          "height": 238
        },
        "outputId": "92d077ef-9bd5-44eb-bdde-957e68bef8df"
      },
      "source": [
        "mat_corr = np.corrcoef(img_mix)\n",
        "mat_corr"
      ],
      "execution_count": 38,
      "outputs": [
        {
          "output_type": "execute_result",
          "data": {
            "text/plain": [
              "array([[ 1.        , -0.14018994, -0.18393524, ..., -0.2328545 ,\n",
              "        -0.06795439, -0.14575289],\n",
              "       [-0.14018994,  1.        ,  0.45971896, ...,  0.1480684 ,\n",
              "         0.04205711,  0.01995273],\n",
              "       [-0.18393524,  0.45971896,  1.        , ..., -0.06066143,\n",
              "         0.10033741, -0.14571561],\n",
              "       ...,\n",
              "       [-0.2328545 ,  0.1480684 , -0.06066143, ...,  1.        ,\n",
              "         0.2052187 ,  0.13241624],\n",
              "       [-0.06795439,  0.04205711,  0.10033741, ...,  0.2052187 ,\n",
              "         1.        ,  0.14981642],\n",
              "       [-0.14575289,  0.01995273, -0.14571561, ...,  0.13241624,\n",
              "         0.14981642,  1.        ]])"
            ]
          },
          "metadata": {
            "tags": []
          },
          "execution_count": 38
        }
      ]
    },
    {
      "cell_type": "code",
      "metadata": {
        "id": "e4yvFN0Rlb4U",
        "colab_type": "code",
        "colab": {}
      },
      "source": [
        "eig_vals, eig_vectors = np.linalg.eig(mat_corr)"
      ],
      "execution_count": 0,
      "outputs": []
    },
    {
      "cell_type": "markdown",
      "metadata": {
        "id": "pEMHFClX9fPz",
        "colab_type": "text"
      },
      "source": [
        "##Las componenetes principales"
      ]
    },
    {
      "cell_type": "code",
      "metadata": {
        "id": "EnhRVMY-W4HH",
        "colab_type": "code",
        "colab": {}
      },
      "source": [
        "scaler = MinMaxScaler(feature_range=[0,1])"
      ],
      "execution_count": 0,
      "outputs": []
    },
    {
      "cell_type": "code",
      "metadata": {
        "id": "6I7tkgbrW_Un",
        "colab_type": "code",
        "colab": {}
      },
      "source": [
        "data_rescaled = scaler.fit_transform(img_mix)"
      ],
      "execution_count": 0,
      "outputs": []
    },
    {
      "cell_type": "code",
      "metadata": {
        "id": "SQ0D4z5p-Oit",
        "colab_type": "code",
        "colab": {}
      },
      "source": [
        "pca = pca().fit(data_rescaled)"
      ],
      "execution_count": 0,
      "outputs": []
    },
    {
      "cell_type": "code",
      "metadata": {
        "id": "MmoH1T2NVhjx",
        "colab_type": "code",
        "colab": {
          "base_uri": "https://localhost:8080/",
          "height": 295
        },
        "outputId": "a5c6e276-5d2c-436d-f504-6c176e2ff77a"
      },
      "source": [
        "#dibujo la suma de la varianza acumulativa\n",
        "plt.figure()\n",
        "plt.plot(np.cumsum(pca.explained_variance_ratio_))\n",
        "plt.xlabel('Number of components')\n",
        "plt.ylabel('Variance (%)') #for each component\n",
        "plt.title('Polyp dataset explained variance')\n",
        "plt.show()"
      ],
      "execution_count": 78,
      "outputs": [
        {
          "output_type": "display_data",
          "data": {
            "image/png": "[encoded data removed]",
            "text/plain": [
              "<Figure size 432x288 with 1 Axes>"
            ]
          },
          "metadata": {
            "tags": []
          }
        }
      ]
    },
    {
      "cell_type": "markdown",
      "metadata": {
        "id": "rEUHcTo7YklF",
        "colab_type": "text"
      },
      "source": [
        "### Otro enfoque"
      ]
    },
    {
      "cell_type": "code",
      "metadata": {
        "id": "H9_9KL5jYnUY",
        "colab_type": "code",
        "colab": {}
      },
      "source": [
        "# Make a list of (eigenvalue, eigenvector) tuples\n",
        "eig_pairs = [(np.abs(eig_vals[i]), eig_vectors[:,i]) for i in range(len(eig_vals))]\n",
        "\n",
        "# Sort the (eigenvalue, eigenvector) tuples from high to low\n",
        "eig_pairs.sort()\n",
        "eig_pairs.reverse()"
      ],
      "execution_count": 0,
      "outputs": []
    },
    {
      "cell_type": "code",
      "metadata": {
        "id": "K9X9rxoCZu0R",
        "colab_type": "code",
        "colab": {
          "base_uri": "https://localhost:8080/",
          "height": 1000
        },
        "outputId": "4f6b9f79-944c-4112-833b-bda0e4c6f54a"
      },
      "source": [
        "# Visually confirm that the list is correctly sorted by decreasing eigenvalues\n",
        "print('Eigenvalues in descending order:')\n",
        "for i in eig_pairs:\n",
        "    print(i[0])"
      ],
      "execution_count": 80,
      "outputs": [
        {
          "output_type": "stream",
          "text": [
            "Eigenvalues in descending order:\n",
            "17.565906746267373\n",
            "12.126867172304198\n",
            "9.725367101249017\n",
            "8.552643323151084\n",
            "7.259918523379769\n",
            "5.846184836077637\n",
            "5.6153281437304825\n",
            "5.125340149824022\n",
            "3.95017064976915\n",
            "3.373007453114776\n",
            "2.9592194680242296\n",
            "2.714784159598074\n",
            "2.4776391973306904\n",
            "2.2716513342232676\n",
            "2.0606813361283267\n",
            "1.9298506679509695\n",
            "1.8253091103115038\n",
            "1.7024037746228287\n",
            "1.611796353577087\n",
            "1.5000113656155205\n",
            "1.4423717800644065\n",
            "1.406677402999576\n",
            "1.3352375736855648\n",
            "1.2489949314115572\n",
            "1.1913483089694445\n",
            "1.1470140864777956\n",
            "1.1134125723150643\n",
            "1.0752918617971219\n",
            "1.0112314674242535\n",
            "0.9999202488816605\n",
            "0.9704838894770688\n",
            "0.9258657154005066\n",
            "0.8987387183503043\n",
            "0.8743748003305156\n",
            "0.826455750430198\n",
            "0.804381321392931\n",
            "0.772059723929425\n",
            "0.7649409029163414\n",
            "0.7423621198123533\n",
            "0.7095821204524186\n",
            "0.6929377677660798\n",
            "0.6809502802322058\n",
            "0.6417467078539262\n",
            "0.6210341807370112\n",
            "0.6086444608184096\n",
            "0.5881978220242473\n",
            "0.577829696907594\n",
            "0.5628293998181438\n",
            "0.5539425161378023\n",
            "0.5346053512705793\n",
            "0.5240738607570444\n",
            "0.5193147017257688\n",
            "0.5129216051053032\n",
            "0.5081107337154656\n",
            "0.4882940904116648\n",
            "0.4636012536436129\n",
            "0.4628314212230393\n",
            "0.4533619568432717\n",
            "0.4499010916930273\n",
            "0.4442413439467384\n",
            "0.4396712866101008\n",
            "0.42726974335008633\n",
            "0.42098797151909245\n",
            "0.41458528185619103\n",
            "0.408731097543752\n",
            "0.40358225951597665\n",
            "0.3960555375121771\n",
            "0.394013825248259\n",
            "0.3853231192325586\n",
            "0.37485450733453785\n",
            "0.36556841803825557\n",
            "0.3578015165078585\n",
            "0.3562175422791887\n",
            "0.3482542922624845\n",
            "0.3441964588005492\n",
            "0.33243803252527193\n",
            "0.3308190242807008\n",
            "0.32166911409413407\n",
            "0.3138109810901974\n",
            "0.3082324318453457\n",
            "0.30681537404440123\n",
            "0.30386770809124375\n",
            "0.29648808217188044\n",
            "0.2920233862329331\n",
            "0.28738843320277285\n",
            "0.2834709605605326\n",
            "0.27647467316932745\n",
            "0.2746676273470222\n",
            "0.27258307837264634\n",
            "0.2675893762343243\n",
            "0.2638735115908938\n",
            "0.26119166645921704\n",
            "0.2596624072274953\n",
            "0.2550583377334418\n",
            "0.24761477421606035\n",
            "0.24401089208022517\n",
            "0.24190545727878132\n",
            "0.23792042370759328\n",
            "0.2354061237258388\n",
            "0.23395379338471264\n",
            "0.22677003383397862\n",
            "0.22328030573601484\n",
            "0.2217331169075905\n",
            "0.21941707934590154\n",
            "0.21551125917497704\n",
            "0.21411694726490507\n",
            "0.2123138345077921\n",
            "0.20638994380321726\n",
            "0.2041778778321394\n",
            "0.20031316082555628\n",
            "0.19836327298125456\n",
            "0.1950840048001295\n",
            "0.19136136394388684\n",
            "0.1878039685485433\n",
            "0.185848272626642\n",
            "0.18509457637999605\n",
            "0.18186908294628795\n",
            "0.1776938389674174\n",
            "0.1737511126510587\n",
            "0.1712736789043736\n",
            "0.17011353189802816\n",
            "0.16591098055454206\n",
            "0.16442557608682593\n",
            "0.16141599115524616\n",
            "0.16005021857651378\n",
            "0.1572578760477205\n",
            "0.15442261371707536\n",
            "0.14786677831020037\n",
            "0.14678894948452836\n",
            "0.14291480477877205\n",
            "0.13961345229894973\n",
            "0.13795991611378075\n",
            "0.13618072342930582\n",
            "0.13297984195682144\n",
            "0.12980903592958667\n",
            "0.12518044288472208\n",
            "0.12277908787409383\n",
            "0.12007410277183787\n",
            "0.11548103548873316\n",
            "0.11179725672275696\n",
            "0.10890106761754041\n",
            "0.10845592326121126\n",
            "0.10594078413144002\n",
            "0.10163037152412385\n",
            "0.10041491050395521\n",
            "0.09548519772559114\n",
            "0.09372682708802213\n",
            "0.08784838270387188\n",
            "0.08284288823192758\n",
            "0.07692112803369791\n",
            "0.07239863743978099\n",
            "1.2638339059752081e-15\n"
          ],
          "name": "stdout"
        }
      ]
    },
    {
      "cell_type": "code",
      "metadata": {
        "id": "isdP5rEjZz9k",
        "colab_type": "code",
        "colab": {
          "base_uri": "https://localhost:8080/",
          "height": 34
        },
        "outputId": "4925c544-d032-4322-f9bd-6607093ce46e"
      },
      "source": [
        "len(eig_pairs)"
      ],
      "execution_count": 81,
      "outputs": [
        {
          "output_type": "execute_result",
          "data": {
            "text/plain": [
              "152"
            ]
          },
          "metadata": {
            "tags": []
          },
          "execution_count": 81
        }
      ]
    },
    {
      "cell_type": "code",
      "metadata": {
        "id": "8gVuhjcPZ_kC",
        "colab_type": "code",
        "colab": {}
      },
      "source": [
        "tot = sum(eig_vals)\n",
        "var_exp = [(i / tot)*100 for i in sorted(eig_vals, reverse=True)]\n",
        "cum_var_exp = np.cumsum(var_exp)"
      ],
      "execution_count": 0,
      "outputs": []
    },
    {
      "cell_type": "code",
      "metadata": {
        "id": "9Lul5Pc7atz2",
        "colab_type": "code",
        "colab": {
          "base_uri": "https://localhost:8080/",
          "height": 583
        },
        "outputId": "2f21aebf-87f3-483d-d5b5-9324f63eac33"
      },
      "source": [
        "trace1 = dict(\n",
        "    type='bar',\n",
        "    x=['PC %s' %i for i in range(1,len(img_mix))],\n",
        "    y=var_exp,\n",
        "    name='Individual'\n",
        ")\n",
        "\n",
        "trace2 = dict(\n",
        "    type='scatter',\n",
        "    x=['PC %s' %i for i in range(1,len(img_mix))], \n",
        "    y=cum_var_exp,\n",
        "    name='Cumulative'\n",
        ")\n",
        "\n",
        "data = [trace1, trace2]\n",
        "\n",
        "layout=dict(\n",
        "    title='Explained variance by different principal components',\n",
        "    yaxis=dict(\n",
        "        title='Explained variance in percent'\n",
        "    ),\n",
        "    annotations=list([\n",
        "        dict(\n",
        "            x=1.16,\n",
        "            y=1.05,\n",
        "            xref='paper',\n",
        "            yref='paper',\n",
        "            text='Explained Variance',\n",
        "            showarrow=False,\n",
        "        )\n",
        "    ])\n",
        ")\n",
        "\n",
        "fig = dict(data=data, layout=layout)\n",
        "py.iplot(fig, filename='selecting-principal-components')"
      ],
      "execution_count": 83,
      "outputs": [
        {
          "output_type": "stream",
          "text": [
            "High five! You successfully sent some data to your account on plotly. View your plot in your browser at https://plot.ly/~franklinsierrajer/0 or inside your plot.ly account where it is named 'selecting-principal-components'\n"
          ],
          "name": "stdout"
        },
        {
          "output_type": "execute_result",
          "data": {
            "text/html": [
              "<iframe id=\"igraph\" scrolling=\"no\" style=\"border:none;\" seamless=\"seamless\" src=\"https://plot.ly/~franklinsierrajer/0.embed\" height=\"525px\" width=\"100%\"></iframe>"
            ],
            "text/plain": [
              "<plotly.tools.PlotlyDisplay object>"
            ]
          },
          "metadata": {
            "tags": []
          },
          "execution_count": 83
        }
      ]
    },
    {
      "cell_type": "code",
      "metadata": {
        "id": "C1yNROVDhXOt",
        "colab_type": "code",
        "colab": {
          "base_uri": "https://localhost:8080/",
          "height": 238
        },
        "outputId": "0f2f56a6-dc54-4392-fcf3-df41e12f8074"
      },
      "source": [
        "acp = pca(n_components = 74)\n",
        "img_mix = acp.fit_transform(img_mix)\n",
        "img_mix"
      ],
      "execution_count": 88,
      "outputs": [
        {
          "output_type": "execute_result",
          "data": {
            "text/plain": [
              "array([[ 38.03728121, -29.04770691,  45.82229855, ...,  -6.8211811 ,\n",
              "        -12.67126402,   4.64054159],\n",
              "       [ 69.97737338, -29.56953702,   9.30047669, ...,  17.6575753 ,\n",
              "        -18.76832101, -19.01103495],\n",
              "       [118.20773964, -85.17260307,  54.29407433, ...,  -0.21615263,\n",
              "          5.4064086 ,   6.77997508],\n",
              "       ...,\n",
              "       [ 86.8138036 ,  51.28742556, -27.02443466, ...,  -1.80671234,\n",
              "         -3.6950698 ,   1.69434607],\n",
              "       [116.8247969 ,  61.61964577, -29.50054777, ...,  -6.78984519,\n",
              "         -1.75137046,  -7.03749637],\n",
              "       [133.37987914,  85.83661821, -37.74341939, ...,  -1.05324104,\n",
              "          0.66107085,  -4.17879098]])"
            ]
          },
          "metadata": {
            "tags": []
          },
          "execution_count": 88
        }
      ]
    },
    {
      "cell_type": "code",
      "metadata": {
        "id": "0shK2X4Ivk9z",
        "colab_type": "code",
        "colab": {
          "base_uri": "https://localhost:8080/",
          "height": 34
        },
        "outputId": "59d373f4-701c-4265-b606-9ec11c17fc78"
      },
      "source": [
        "img_mix.shape"
      ],
      "execution_count": 89,
      "outputs": [
        {
          "output_type": "execute_result",
          "data": {
            "text/plain": [
              "(152, 74)"
            ]
          },
          "metadata": {
            "tags": []
          },
          "execution_count": 89
        }
      ]
    },
    {
      "cell_type": "code",
      "metadata": {
        "id": "NTThC-61v46z",
        "colab_type": "code",
        "colab": {}
      },
      "source": [
        ""
      ],
      "execution_count": 0,
      "outputs": []
    }
  ]
}