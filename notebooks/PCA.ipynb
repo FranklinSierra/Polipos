{
  "nbformat": 4,
  "nbformat_minor": 0,
  "metadata": {
    "kernelspec": {
      "name": "python3",
      "display_name": "Python 3"
    },
    "language_info": {
      "codemirror_mode": {
        "name": "ipython",
        "version": 3
      },
      "file_extension": ".py",
      "mimetype": "text/x-python",
      "name": "python",
      "nbconvert_exporter": "python",
      "pygments_lexer": "ipython3",
      "version": "3.6.8"
    },
    "colab": {
      "name": "PCA.ipynb",
      "version": "0.3.2",
      "provenance": [],
      "toc_visible": true
    },
    "accelerator": "GPU"
  },
  "cells": [
    {
      "cell_type": "code",
      "metadata": {
        "id": "3sQfvS1v71sM",
        "colab_type": "code",
        "outputId": "93f98a3a-23c5-4109-8208-77ab535affb8",
        "colab": {
          "base_uri": "https://localhost:8080/",
          "height": 122
        }
      },
      "source": [
        "from google.colab import drive\n",
        "drive.mount('/content/drive')"
      ],
      "execution_count": 1,
      "outputs": [
        {
          "output_type": "stream",
          "text": [
            "Go to this URL in a browser: https://accounts.google.com/o/oauth2/auth?client_id=947318989803-6bn6qk8qdgf4n4g3pfee6491hc0brc4i.apps.googleusercontent.com&redirect_uri=urn%3Aietf%3Awg%3Aoauth%3A2.0%3Aoob&scope=email%20https%3A%2F%2Fwww.googleapis.com%2Fauth%2Fdocs.test%20https%3A%2F%2Fwww.googleapis.com%2Fauth%2Fdrive%20https%3A%2F%2Fwww.googleapis.com%2Fauth%2Fdrive.photos.readonly%20https%3A%2F%2Fwww.googleapis.com%2Fauth%2Fpeopleapi.readonly&response_type=code\n",
            "\n",
            "Enter your authorization code:\n",
            "··········\n",
            "Mounted at /content/drive\n"
          ],
          "name": "stdout"
        }
      ]
    },
    {
      "cell_type": "code",
      "metadata": {
        "id": "1N-lS61a7Vpq",
        "colab_type": "code",
        "colab": {}
      },
      "source": [
        "import cv2 as cv\n",
        "import matplotlib.pyplot as plt\n",
        "import numpy as np\n",
        "import os\n",
        "from sklearn.preprocessing import StandardScaler\n",
        "from sklearn.decomposition import PCA as pca\n",
        "from sklearn.preprocessing import MinMaxScaler\n",
        "import plotly.plotly as py\n",
        "import plotly.tools as tls\n",
        "import pandas as pd\n",
        "from sklearn import svm\n",
        "from sklearn.model_selection import KFold\n",
        "from sklearn.model_selection import cross_val_score\n",
        "import pickle #for safe the model state"
      ],
      "execution_count": 0,
      "outputs": []
    },
    {
      "cell_type": "code",
      "metadata": {
        "id": "nbBQ8Ai8d0Dc",
        "colab_type": "code",
        "colab": {}
      },
      "source": [
        "tls.set_credentials_file(username=\"franklin.sierra\", api_key=\"1dY9fkN76seVSfPFHfJv\")"
      ],
      "execution_count": 0,
      "outputs": []
    },
    {
      "cell_type": "markdown",
      "metadata": {
        "id": "XqcKaDSs7Vpv",
        "colab_type": "text"
      },
      "source": [
        "## Conjunto de todas las imagenes promedio"
      ]
    },
    {
      "cell_type": "code",
      "metadata": {
        "id": "-EQHqptC7Vpx",
        "colab_type": "code",
        "outputId": "eea526da-8c55-4640-fa06-0573054327c3",
        "colab": {
          "base_uri": "https://localhost:8080/",
          "height": 153
        }
      },
      "source": [
        "path_classes = \"/content/drive/My Drive/Polipos/notebooks/mix_avg_img/\"\n",
        "classes_names = os.listdir(path_classes)\n",
        "classes_names = np.sort(classes_names)\n",
        "print (classes_names)\n",
        "dic_img ={}\n",
        "\n",
        "for i, name_class in enumerate(classes_names):\n",
        "    dic_img[classes_names[i]] = np.array(os.listdir(path_classes+classes_names[i]))\n",
        "    print (\"class: \", name_class, \"total \", len(dic_img[classes_names[i]]))"
      ],
      "execution_count": 4,
      "outputs": [
        {
          "output_type": "stream",
          "text": [
            "['adenomaNbi' 'adenomaWl' 'hyperplasNbi' 'hyperplasWl' 'serratedNbi'\n",
            " 'serratedWl']\n",
            "class:  adenomaNbi total  40\n",
            "class:  adenomaWl total  40\n",
            "class:  hyperplasNbi total  21\n",
            "class:  hyperplasWl total  21\n",
            "class:  serratedNbi total  15\n",
            "class:  serratedWl total  15\n"
          ],
          "name": "stdout"
        }
      ]
    },
    {
      "cell_type": "code",
      "metadata": {
        "id": "PxetB9dM7Vp2",
        "colab_type": "code",
        "outputId": "b92fb9d8-a39d-44b2-af76-5c9e02a656b7",
        "colab": {
          "base_uri": "https://localhost:8080/",
          "height": 119
        }
      },
      "source": [
        "x1 = []\n",
        "y1 = []\n",
        "resize_value = 100\n",
        "for i, classes in enumerate(classes_names):\n",
        "    print((i+1), \"clase: \", classes, \" target: \", (i+1), \" total: \", len(dic_img[classes]))\n",
        "    for img_name in dic_img[classes]:\n",
        "        path_image = path_classes+classes+'/'+img_name\n",
        "        img = cv.resize(cv.imread(path_image,0),(100,100))*1.\n",
        "        flatt_img = img.reshape(resize_value*resize_value)\n",
        "        x1.append(flatt_img)\n",
        "        y1.append(i+1)\n",
        "x1 = np.r_[x1]        \n",
        "y1 = np.r_[y1]"
      ],
      "execution_count": 5,
      "outputs": [
        {
          "output_type": "stream",
          "text": [
            "1 clase:  adenomaNbi  target:  1  total:  40\n",
            "2 clase:  adenomaWl  target:  2  total:  40\n",
            "3 clase:  hyperplasNbi  target:  3  total:  21\n",
            "4 clase:  hyperplasWl  target:  4  total:  21\n",
            "5 clase:  serratedNbi  target:  5  total:  15\n",
            "6 clase:  serratedWl  target:  6  total:  15\n"
          ],
          "name": "stdout"
        }
      ]
    },
    {
      "cell_type": "code",
      "metadata": {
        "id": "FCrtfoqf7Vp6",
        "colab_type": "code",
        "outputId": "c23f3bee-cecd-4ad4-a308-f4224c4e322c",
        "colab": {
          "base_uri": "https://localhost:8080/",
          "height": 34
        }
      },
      "source": [
        "x1.shape"
      ],
      "execution_count": 6,
      "outputs": [
        {
          "output_type": "execute_result",
          "data": {
            "text/plain": [
              "(152, 10000)"
            ]
          },
          "metadata": {
            "tags": []
          },
          "execution_count": 6
        }
      ]
    },
    {
      "cell_type": "code",
      "metadata": {
        "id": "cNAy66TAymio",
        "colab_type": "code",
        "outputId": "de80b2f7-a56e-4bd4-b004-e04af1595744",
        "colab": {
          "base_uri": "https://localhost:8080/",
          "height": 238
        }
      },
      "source": [
        "x1 = StandardScaler().fit_transform(x1)\n",
        "x1"
      ],
      "execution_count": 7,
      "outputs": [
        {
          "output_type": "execute_result",
          "data": {
            "text/plain": [
              "array([[-0.25156414, -0.25156414, -0.25156414, ..., -0.2375744 ,\n",
              "        -0.24064915, -0.24064915],\n",
              "       [-0.25156414, -0.25156414, -0.25156414, ..., -0.2375744 ,\n",
              "        -0.24064915, -0.24064915],\n",
              "       [-0.25156414, -0.25156414, -0.25156414, ..., -0.2375744 ,\n",
              "        -0.24064915, -0.24064915],\n",
              "       ...,\n",
              "       [-0.25156414, -0.25156414, -0.25156414, ..., -0.2375744 ,\n",
              "        -0.24064915, -0.24064915],\n",
              "       [-0.25156414, -0.25156414, -0.25156414, ..., -0.2375744 ,\n",
              "        -0.24064915, -0.24064915],\n",
              "       [-0.25156414, -0.25156414, -0.25156414, ..., -0.2375744 ,\n",
              "        -0.24064915, -0.24064915]])"
            ]
          },
          "metadata": {
            "tags": []
          },
          "execution_count": 7
        }
      ]
    },
    {
      "cell_type": "markdown",
      "metadata": {
        "id": "WLH15scM7Vp-",
        "colab_type": "text"
      },
      "source": [
        "## Conjunto de todas las imagenes varianza"
      ]
    },
    {
      "cell_type": "code",
      "metadata": {
        "id": "4Pw6RYC27Vp_",
        "colab_type": "code",
        "outputId": "016df89b-b15a-45dd-d32d-80d248c05868",
        "colab": {
          "base_uri": "https://localhost:8080/",
          "height": 153
        }
      },
      "source": [
        "path_classes = \"/content/drive/My Drive/Polipos/notebooks/mix_var_img/\"\n",
        "classes_names = os.listdir(path_classes)\n",
        "classes_names = np.sort(classes_names)\n",
        "print (classes_names)\n",
        "dic_img ={}\n",
        "\n",
        "for i, name_class in enumerate(classes_names):\n",
        "    dic_img[classes_names[i]] = np.array(os.listdir(path_classes+classes_names[i]))\n",
        "    print (\"class: \", name_class, \"total \", len(dic_img[classes_names[i]]))"
      ],
      "execution_count": 8,
      "outputs": [
        {
          "output_type": "stream",
          "text": [
            "['adenomaNbi' 'adenomaWl' 'hiperplasNbi' 'hiperplasWl' 'serratedNbi'\n",
            " 'serratedWl']\n",
            "class:  adenomaNbi total  40\n",
            "class:  adenomaWl total  40\n",
            "class:  hiperplasNbi total  21\n",
            "class:  hiperplasWl total  21\n",
            "class:  serratedNbi total  15\n",
            "class:  serratedWl total  15\n"
          ],
          "name": "stdout"
        }
      ]
    },
    {
      "cell_type": "code",
      "metadata": {
        "id": "iSrYFD6y7VqD",
        "colab_type": "code",
        "outputId": "e106053e-c98f-4247-ece8-62fd1ff162fe",
        "colab": {
          "base_uri": "https://localhost:8080/",
          "height": 119
        }
      },
      "source": [
        "x2 = []\n",
        "y2 = []\n",
        "resize_value = 100\n",
        "for i, classes in enumerate(classes_names):\n",
        "    print((i+1), \"clase: \", classes, \" target: \", (i+1), \" total: \", len(dic_img[classes]))\n",
        "    for img_name in dic_img[classes]:\n",
        "        path_image = path_classes+classes+'/'+img_name\n",
        "        img = cv.resize(cv.imread(path_image,0),(100,100))*1.\n",
        "        flatt_img = img.reshape(resize_value*resize_value)\n",
        "        x2.append(flatt_img)\n",
        "        y2.append(i+1)\n",
        "x2 = np.r_[x2]        \n",
        "y2 = np.r_[y2]"
      ],
      "execution_count": 9,
      "outputs": [
        {
          "output_type": "stream",
          "text": [
            "1 clase:  adenomaNbi  target:  1  total:  40\n",
            "2 clase:  adenomaWl  target:  2  total:  40\n",
            "3 clase:  hiperplasNbi  target:  3  total:  21\n",
            "4 clase:  hiperplasWl  target:  4  total:  21\n",
            "5 clase:  serratedNbi  target:  5  total:  15\n",
            "6 clase:  serratedWl  target:  6  total:  15\n"
          ],
          "name": "stdout"
        }
      ]
    },
    {
      "cell_type": "code",
      "metadata": {
        "id": "C_FfIiDo7VqG",
        "colab_type": "code",
        "outputId": "d6a03854-1eeb-443b-fe15-b013f68f19c2",
        "colab": {
          "base_uri": "https://localhost:8080/",
          "height": 34
        }
      },
      "source": [
        "x2.shape"
      ],
      "execution_count": 10,
      "outputs": [
        {
          "output_type": "execute_result",
          "data": {
            "text/plain": [
              "(152, 10000)"
            ]
          },
          "metadata": {
            "tags": []
          },
          "execution_count": 10
        }
      ]
    },
    {
      "cell_type": "code",
      "metadata": {
        "id": "79ZY0jxYzcyb",
        "colab_type": "code",
        "colab": {}
      },
      "source": [
        "x2 = StandardScaler().fit_transform(x2)"
      ],
      "execution_count": 0,
      "outputs": []
    },
    {
      "cell_type": "markdown",
      "metadata": {
        "id": "IJ_YeQZb7VqK",
        "colab_type": "text"
      },
      "source": [
        "## Conjunto de todas las imagenes derivadas"
      ]
    },
    {
      "cell_type": "code",
      "metadata": {
        "id": "EQlwSPGW7VqL",
        "colab_type": "code",
        "outputId": "b16e09a2-2539-429a-d5c6-f60699204cd0",
        "colab": {
          "base_uri": "https://localhost:8080/",
          "height": 153
        }
      },
      "source": [
        "path_classes = \"/content/drive/My Drive/Polipos/notebooks/mix_der_img/\"\n",
        "classes_names = os.listdir(path_classes)\n",
        "classes_names = np.sort(classes_names)\n",
        "print (classes_names)\n",
        "dic_img ={}\n",
        "\n",
        "for i, name_class in enumerate(classes_names):\n",
        "    dic_img[classes_names[i]] = np.array(os.listdir(path_classes+classes_names[i]))\n",
        "    print (\"class: \", name_class, \"total \", len(dic_img[classes_names[i]]))"
      ],
      "execution_count": 12,
      "outputs": [
        {
          "output_type": "stream",
          "text": [
            "['adenomaNbi' 'adenomaWl' 'hiperplasNbi' 'hiperplasWl' 'serratedNbi'\n",
            " 'serratedWl']\n",
            "class:  adenomaNbi total  40\n",
            "class:  adenomaWl total  40\n",
            "class:  hiperplasNbi total  21\n",
            "class:  hiperplasWl total  21\n",
            "class:  serratedNbi total  15\n",
            "class:  serratedWl total  15\n"
          ],
          "name": "stdout"
        }
      ]
    },
    {
      "cell_type": "code",
      "metadata": {
        "id": "G8o0--2G7VqO",
        "colab_type": "code",
        "outputId": "ec08189f-e5f1-4223-e92d-9324877cbcb0",
        "colab": {
          "base_uri": "https://localhost:8080/",
          "height": 119
        }
      },
      "source": [
        "x3 = []\n",
        "y3 = []\n",
        "resize_value = 100\n",
        "for i, classes in enumerate(classes_names):\n",
        "    print((i+1), \"clase: \", classes, \" target: \", (i+1), \" total: \", len(dic_img[classes]))\n",
        "    for img_name in dic_img[classes]:\n",
        "        path_image = path_classes+classes+'/'+img_name\n",
        "        img = cv.resize(cv.imread(path_image,0),(100,100))*1.\n",
        "        flatt_img = img.reshape(resize_value*resize_value)\n",
        "        x3.append(flatt_img)\n",
        "        y3.append(i+1)\n",
        "x3 = np.r_[x3]        \n",
        "y3 = np.r_[y3]"
      ],
      "execution_count": 13,
      "outputs": [
        {
          "output_type": "stream",
          "text": [
            "1 clase:  adenomaNbi  target:  1  total:  40\n",
            "2 clase:  adenomaWl  target:  2  total:  40\n",
            "3 clase:  hiperplasNbi  target:  3  total:  21\n",
            "4 clase:  hiperplasWl  target:  4  total:  21\n",
            "5 clase:  serratedNbi  target:  5  total:  15\n",
            "6 clase:  serratedWl  target:  6  total:  15\n"
          ],
          "name": "stdout"
        }
      ]
    },
    {
      "cell_type": "code",
      "metadata": {
        "id": "Zn_ni7-o7VqT",
        "colab_type": "code",
        "colab": {}
      },
      "source": [
        "x3 = StandardScaler().fit_transform(x3)"
      ],
      "execution_count": 0,
      "outputs": []
    },
    {
      "cell_type": "markdown",
      "metadata": {
        "id": "5jF9Ua2L7VqY",
        "colab_type": "text"
      },
      "source": [
        "# Juntando todo"
      ]
    },
    {
      "cell_type": "markdown",
      "metadata": {
        "id": "yQqWk7EtxEdS",
        "colab_type": "text"
      },
      "source": [
        "Analisis del discriminante lineal\n",
        "\n",
        "Estandarizar los datos\n",
        "\n",
        "* Obtener los valores y vectores propios de la matriz de covarianza o de correlaciones o la tecnica del singular vector descompostion.\n",
        "* Ordenar los valores propios de manera descente y quedar con los p mayores para disminuir el numero de variables\n",
        "* Constriuir la matriz de proyeccion W a partir de los p valores propios\n",
        "\n",
        "\n",
        "\n",
        "\n",
        "\n"
      ]
    },
    {
      "cell_type": "code",
      "metadata": {
        "id": "DXxAlI3c7Vqd",
        "colab_type": "code",
        "colab": {}
      },
      "source": [
        "img_mix = np.concatenate((x1, x2, x3), axis = 1)"
      ],
      "execution_count": 0,
      "outputs": []
    },
    {
      "cell_type": "code",
      "metadata": {
        "id": "dY5k9a1c0RZO",
        "colab_type": "code",
        "outputId": "76568a72-937c-4c96-989b-675ad9282a86",
        "colab": {
          "base_uri": "https://localhost:8080/",
          "height": 34
        }
      },
      "source": [
        "img_mix.shape"
      ],
      "execution_count": 16,
      "outputs": [
        {
          "output_type": "execute_result",
          "data": {
            "text/plain": [
              "(152, 30000)"
            ]
          },
          "metadata": {
            "tags": []
          },
          "execution_count": 16
        }
      ]
    },
    {
      "cell_type": "markdown",
      "metadata": {
        "id": "xSHqcx370gIH",
        "colab_type": "text"
      },
      "source": [
        "##Calculo la descomposición de los valores y vectores propios\n",
        "\n",
        "**Valores propios:**  Determinan la magnitud (varianza de datos)\n",
        "\n",
        "**Vectores propios:** Determinan las direcciones en el nuevo espacio vectorial"
      ]
    },
    {
      "cell_type": "markdown",
      "metadata": {
        "id": "Htrc8ARL7QVl",
        "colab_type": "text"
      },
      "source": [
        "####Usando la matriz de covarianza"
      ]
    },
    {
      "cell_type": "code",
      "metadata": {
        "id": "DPGX2BeQ3CJ1",
        "colab_type": "code",
        "colab": {}
      },
      "source": [
        "mat_cov = np.cov(img_mix)"
      ],
      "execution_count": 0,
      "outputs": []
    },
    {
      "cell_type": "code",
      "metadata": {
        "id": "xzUEO8E8515e",
        "colab_type": "code",
        "outputId": "38b1ead3-0a3d-4b79-c7b4-dec3ff1d2650",
        "colab": {
          "base_uri": "https://localhost:8080/",
          "height": 918
        }
      },
      "source": [
        "eig_vals, eig_vectors = np.linalg.eig(mat_cov)\n",
        "print(\"Valores propios \\n%s\" %eig_vals)\n",
        "print(\"Vectores propios \\n%s\" %eig_vectors)"
      ],
      "execution_count": 18,
      "outputs": [
        {
          "output_type": "stream",
          "text": [
            "Valores propios \n",
            "[ 1.43658652e+01  1.08025067e+01  8.98856274e+00  7.96396226e+00\n",
            "  7.33549634e+00  6.29968165e+00  5.83282233e+00  4.65495399e+00\n",
            "  3.92058112e+00  3.19942862e+00  3.03826379e+00  2.84101900e+00\n",
            "  2.58389178e+00  2.22344229e+00  2.09788789e+00  1.99647795e+00\n",
            "  1.65676574e+00  1.58466967e+00  1.50304848e+00  1.30028264e+00\n",
            "  1.22521499e+00  1.18660918e+00  1.14344888e+00  1.09414847e+00\n",
            "  1.03903905e+00  1.00446468e+00  9.96833021e-01  9.80837935e-01\n",
            "  9.25241384e-01 -6.27841050e-16  8.63892324e-01  8.39237865e-01\n",
            "  8.19808658e-01  7.88712099e-01  7.37778871e-01  7.11252861e-01\n",
            "  6.37837300e-01  6.70344034e-01  6.61162683e-01  6.18802818e-01\n",
            "  6.02030050e-01  5.92732018e-01  5.83155151e-01  5.76747240e-01\n",
            "  5.54104606e-01  5.43937335e-01  5.31670041e-01  5.02149789e-01\n",
            "  4.99200843e-01  4.82637500e-01  4.62791911e-01  4.42351999e-01\n",
            "  4.30988195e-01  4.18856428e-01  4.14920569e-01  4.03078569e-01\n",
            "  3.95131806e-01  3.83790089e-01  3.73539411e-01  3.69073838e-01\n",
            "  3.54492197e-01  3.44901162e-01  3.40094164e-01  3.33722796e-01\n",
            "  3.32627054e-01  3.10948170e-01  3.01258033e-01  2.99695887e-01\n",
            "  2.94460553e-01  2.86648241e-01  2.77039137e-01  2.73842928e-01\n",
            "  2.67636638e-01  2.62819540e-01  2.56301355e-01  2.51782701e-01\n",
            "  2.49422664e-01  2.40908155e-01  2.36109095e-01  2.31419455e-01\n",
            "  2.27319079e-01  4.06940887e-02  2.28201443e-01  2.21128636e-01\n",
            "  2.17889601e-01  2.13855519e-01  2.05078725e-01  4.79542396e-02\n",
            "  5.02068001e-02  5.36317462e-02  5.57878777e-02  2.01902572e-01\n",
            "  2.00879912e-01  1.93515501e-01  1.91530578e-01  1.70927845e-01\n",
            "  1.77509520e-01  1.87522280e-01  1.83382557e-01  1.82792682e-01\n",
            "  1.67085656e-01  1.65353705e-01  5.92399786e-02  1.61039823e-01\n",
            "  6.27120229e-02  6.44950326e-02  6.66900230e-02  6.86308982e-02\n",
            "  6.89514165e-02  7.31759082e-02  1.56327273e-01  1.34236714e-01\n",
            "  1.38184491e-01  1.39699219e-01  1.45599455e-01  1.48239020e-01\n",
            "  1.53396526e-01  1.52868274e-01  1.51244839e-01  1.50860466e-01\n",
            "  1.30592305e-01  1.28044797e-01  7.48210981e-02  7.57543939e-02\n",
            "  7.71658372e-02  1.25284279e-01  1.18466497e-01  7.53671317e-02\n",
            "  7.95036154e-02  7.96459237e-02  8.25746070e-02  1.24263250e-01\n",
            "  1.21466235e-01  1.15495891e-01  1.08117273e-01  1.09697677e-01\n",
            "  1.12806296e-01  8.55941591e-02  9.26704574e-02  8.87514078e-02\n",
            "  8.47872781e-02  1.19971243e-01  9.59912200e-02  1.03918021e-01\n",
            "  8.93810946e-02  1.01925174e-01  9.96990395e-02  9.77805027e-02\n",
            "  9.06698109e-02  9.93920380e-02  9.72980911e-02  1.06064104e-01]\n",
            "Vectores propios \n",
            "[[-8.54957316e-02 -5.52208450e-02 -3.94782952e-02 ... -1.04822037e-01\n",
            "  -3.61452294e-02  1.25409519e-04]\n",
            " [ 7.05141378e-02  8.42107057e-02  4.67793794e-02 ...  2.04065877e-01\n",
            "   1.09253717e-01 -1.97611121e-01]\n",
            " [ 4.50374788e-02  6.90459436e-02 -6.63453188e-05 ...  1.75542401e-01\n",
            "  -6.79730737e-02 -1.52065139e-01]\n",
            " ...\n",
            " [ 4.49314623e-02 -7.77892135e-03 -5.78406787e-02 ...  7.51833198e-02\n",
            "  -1.32827890e-03 -4.26395728e-02]\n",
            " [-4.48597752e-02  4.19019717e-02 -6.30770565e-02 ...  7.23188398e-04\n",
            "   1.17994450e-02 -4.43680373e-03]\n",
            " [-8.14573145e-02 -1.57698213e-01 -2.25106364e-01 ...  1.98935642e-02\n",
            "   3.14506462e-04  2.73460669e-02]]\n"
          ],
          "name": "stdout"
        }
      ]
    },
    {
      "cell_type": "markdown",
      "metadata": {
        "id": "DVVgJzW37YMT",
        "colab_type": "text"
      },
      "source": [
        "####Usando la matriz de correlaciones"
      ]
    },
    {
      "cell_type": "markdown",
      "metadata": {
        "id": "GmgfS0y57rh4",
        "colab_type": "text"
      },
      "source": [
        "Normalizacion de la matriz de covarianza."
      ]
    },
    {
      "cell_type": "code",
      "metadata": {
        "id": "T7IdMitg7xUu",
        "colab_type": "code",
        "outputId": "894efd26-0e01-4fce-b9b0-986e5bbf3733",
        "colab": {
          "base_uri": "https://localhost:8080/",
          "height": 238
        }
      },
      "source": [
        "mat_corr = np.corrcoef(img_mix)\n",
        "mat_corr"
      ],
      "execution_count": 19,
      "outputs": [
        {
          "output_type": "execute_result",
          "data": {
            "text/plain": [
              "array([[ 1.        , -0.03685427,  0.20939633, ..., -0.0094691 ,\n",
              "         0.0539541 ,  0.33151377],\n",
              "       [-0.03685427,  1.        ,  0.49700354, ..., -0.05900887,\n",
              "        -0.11251807, -0.30359548],\n",
              "       [ 0.20939633,  0.49700354,  1.        , ...,  0.13416782,\n",
              "        -0.03188541, -0.0887565 ],\n",
              "       ...,\n",
              "       [-0.0094691 , -0.05900887,  0.13416782, ...,  1.        ,\n",
              "        -0.02853657,  0.23324024],\n",
              "       [ 0.0539541 , -0.11251807, -0.03188541, ..., -0.02853657,\n",
              "         1.        , -0.04469954],\n",
              "       [ 0.33151377, -0.30359548, -0.0887565 , ...,  0.23324024,\n",
              "        -0.04469954,  1.        ]])"
            ]
          },
          "metadata": {
            "tags": []
          },
          "execution_count": 19
        }
      ]
    },
    {
      "cell_type": "code",
      "metadata": {
        "id": "e4yvFN0Rlb4U",
        "colab_type": "code",
        "colab": {}
      },
      "source": [
        "eig_vals, eig_vectors = np.linalg.eig(mat_corr)"
      ],
      "execution_count": 0,
      "outputs": []
    },
    {
      "cell_type": "markdown",
      "metadata": {
        "id": "pEMHFClX9fPz",
        "colab_type": "text"
      },
      "source": [
        "##Las componenetes principales"
      ]
    },
    {
      "cell_type": "code",
      "metadata": {
        "id": "EnhRVMY-W4HH",
        "colab_type": "code",
        "colab": {}
      },
      "source": [
        "scaler = MinMaxScaler(feature_range=[0,1])"
      ],
      "execution_count": 0,
      "outputs": []
    },
    {
      "cell_type": "code",
      "metadata": {
        "id": "6I7tkgbrW_Un",
        "colab_type": "code",
        "colab": {}
      },
      "source": [
        "data_rescaled = scaler.fit_transform(img_mix)"
      ],
      "execution_count": 0,
      "outputs": []
    },
    {
      "cell_type": "code",
      "metadata": {
        "id": "SQ0D4z5p-Oit",
        "colab_type": "code",
        "colab": {}
      },
      "source": [
        "from sklearn.decomposition import PCA as pca\n",
        "pca = pca().fit(data_rescaled)"
      ],
      "execution_count": 0,
      "outputs": []
    },
    {
      "cell_type": "code",
      "metadata": {
        "id": "MmoH1T2NVhjx",
        "colab_type": "code",
        "outputId": "0ef4e028-d8d0-4056-d6fa-66dee693899b",
        "colab": {
          "base_uri": "https://localhost:8080/",
          "height": 295
        }
      },
      "source": [
        "#dibujo la suma de la varianza acumulativa\n",
        "plt.figure()\n",
        "plt.plot(np.cumsum(pca.explained_variance_ratio_))\n",
        "plt.xlabel('Number of components')\n",
        "plt.ylabel('Variance (%)') #for each component\n",
        "plt.title('Polyp dataset explained variance')\n",
        "plt.show()"
      ],
      "execution_count": 24,
      "outputs": [
        {
          "output_type": "display_data",
          "data": {
            "image/png": "[encoded data removed]",
            "text/plain": [
              "<Figure size 432x288 with 1 Axes>"
            ]
          },
          "metadata": {
            "tags": []
          }
        }
      ]
    },
    {
      "cell_type": "markdown",
      "metadata": {
        "id": "rEUHcTo7YklF",
        "colab_type": "text"
      },
      "source": [
        "### Otro enfoque"
      ]
    },
    {
      "cell_type": "code",
      "metadata": {
        "id": "H9_9KL5jYnUY",
        "colab_type": "code",
        "colab": {}
      },
      "source": [
        "# Make a list of (eigenvalue, eigenvector) tuples\n",
        "eig_pairs = [(np.abs(eig_vals[i]), eig_vectors[:,i]) for i in range(len(eig_vals))]\n",
        "\n",
        "# Sort the (eigenvalue, eigenvector) tuples from high to low\n",
        "eig_pairs.sort()\n",
        "eig_pairs.reverse()"
      ],
      "execution_count": 0,
      "outputs": []
    },
    {
      "cell_type": "code",
      "metadata": {
        "id": "K9X9rxoCZu0R",
        "colab_type": "code",
        "outputId": "960d8a40-20e8-4c08-d522-d87c707d55ed",
        "colab": {
          "base_uri": "https://localhost:8080/",
          "height": 1000
        }
      },
      "source": [
        "# Visually confirm that the list is correctly sorted by decreasing eigenvalues\n",
        "cont = 0\n",
        "print('Eigenvalues in descending order:')\n",
        "for i in eig_pairs:\n",
        "    cont = cont+1\n",
        "    print(i[0])\n",
        "print(\"cantidad total de pares: \", cont)"
      ],
      "execution_count": 26,
      "outputs": [
        {
          "output_type": "stream",
          "text": [
            "Eigenvalues in descending order:\n",
            "16.290282195664307\n",
            "12.526871115544854\n",
            "10.099239167375725\n",
            "7.931780472638196\n",
            "7.3803195223437195\n",
            "6.449904802360766\n",
            "5.324273592424982\n",
            "4.8908305152573375\n",
            "4.082947468664479\n",
            "3.436136958212218\n",
            "3.173694803428188\n",
            "2.75828811547436\n",
            "2.5049022288674863\n",
            "2.2812176855925324\n",
            "2.108309357227506\n",
            "2.0160590731762893\n",
            "1.8121659102473942\n",
            "1.7004544357327456\n",
            "1.5887934017450758\n",
            "1.475260064851432\n",
            "1.4020083388785083\n",
            "1.3821508052948521\n",
            "1.3158687642482345\n",
            "1.2657633586037496\n",
            "1.1809096808685655\n",
            "1.150546676065909\n",
            "1.0837363302422747\n",
            "1.0626416613804015\n",
            "1.0244368911503696\n",
            "0.976431089991987\n",
            "0.9460737315282222\n",
            "0.9139955679874239\n",
            "0.868374587204791\n",
            "0.85460346738952\n",
            "0.8154512377588826\n",
            "0.7818809308633939\n",
            "0.7499744375897157\n",
            "0.732203354316195\n",
            "0.7054867194092136\n",
            "0.6852117580910418\n",
            "0.6742307553964679\n",
            "0.6695778916128915\n",
            "0.6539989177093773\n",
            "0.6364052034750076\n",
            "0.6336337296553891\n",
            "0.5954839257476344\n",
            "0.5917305164052804\n",
            "0.5823242510945948\n",
            "0.5731645529848476\n",
            "0.5500006577277772\n",
            "0.5364499219494752\n",
            "0.5315720868131045\n",
            "0.5222986401483624\n",
            "0.5006031891779721\n",
            "0.4945795737242931\n",
            "0.4859080597841782\n",
            "0.48350325470611905\n",
            "0.4651906097067678\n",
            "0.46143225626522794\n",
            "0.45643834629827057\n",
            "0.4493518099055392\n",
            "0.44043245628522454\n",
            "0.4346245496264959\n",
            "0.4313038039460387\n",
            "0.4197705420621517\n",
            "0.4154450771762438\n",
            "0.4113527225950655\n",
            "0.40442117615191736\n",
            "0.3971263608175146\n",
            "0.39143071013613895\n",
            "0.3866753388521145\n",
            "0.380867072255069\n",
            "0.37433187707593013\n",
            "0.36501290370550576\n",
            "0.35707849279727555\n",
            "0.352872521956524\n",
            "0.34762343727991835\n",
            "0.3386905321072501\n",
            "0.3296388232097765\n",
            "0.32869315919435793\n",
            "0.3238781791721135\n",
            "0.3197396610927511\n",
            "0.31380030244950724\n",
            "0.310452577552545\n",
            "0.300436536755901\n",
            "0.2993798623061846\n",
            "0.2970992754447105\n",
            "0.28502290339852754\n",
            "0.28264008999996254\n",
            "0.28052746178994026\n",
            "0.2774883542020876\n",
            "0.2733429724860438\n",
            "0.26541933642138116\n",
            "0.2647759699695223\n",
            "0.2605645396417826\n",
            "0.253703598089891\n",
            "0.24936085436900113\n",
            "0.24373004261963624\n",
            "0.2381567469851883\n",
            "0.23527980972340462\n",
            "0.23262155653078734\n",
            "0.22950134084293072\n",
            "0.22751244970576318\n",
            "0.22228610331261267\n",
            "0.2180695730821129\n",
            "0.21552168817171707\n",
            "0.21204771176610895\n",
            "0.2092945270916949\n",
            "0.20576414490348127\n",
            "0.2042821857657503\n",
            "0.20117299204496603\n",
            "0.19813688454636347\n",
            "0.19397193617924868\n",
            "0.19138028252951636\n",
            "0.18867591505559242\n",
            "0.1853706860276098\n",
            "0.18428225842013873\n",
            "0.18000809870515092\n",
            "0.17629043797389712\n",
            "0.17534217985452835\n",
            "0.171837438229147\n",
            "0.16738792140265665\n",
            "0.1621482402466385\n",
            "0.16086470485023685\n",
            "0.15861290288330382\n",
            "0.15502211973107344\n",
            "0.15294960068371297\n",
            "0.15079183616408304\n",
            "0.14685657536520208\n",
            "0.14515446099491375\n",
            "0.14316274418532168\n",
            "0.1383607471116131\n",
            "0.13671098796037906\n",
            "0.13193201785183775\n",
            "0.1290244737249325\n",
            "0.12605481476758706\n",
            "0.12164479723238376\n",
            "0.11977740423581784\n",
            "0.11600457852998783\n",
            "0.1157087701249817\n",
            "0.11405247024200935\n",
            "0.10708210885212487\n",
            "0.10278223838005006\n",
            "0.09875826206782119\n",
            "0.09606019669005991\n",
            "0.08761027693744902\n",
            "0.07816372908124514\n",
            "0.07143407734687339\n",
            "0.06451584720334744\n",
            "0.0607738020741396\n",
            "0.05767784465732101\n",
            "7.25521334723293e-16\n",
            "cantidad total de pares:  152\n"
          ],
          "name": "stdout"
        }
      ]
    },
    {
      "cell_type": "code",
      "metadata": {
        "id": "isdP5rEjZz9k",
        "colab_type": "code",
        "outputId": "e76154c5-9b26-49a4-b540-ef56057ed7c2",
        "colab": {
          "base_uri": "https://localhost:8080/",
          "height": 34
        }
      },
      "source": [
        "len(eig_pairs)"
      ],
      "execution_count": 27,
      "outputs": [
        {
          "output_type": "execute_result",
          "data": {
            "text/plain": [
              "152"
            ]
          },
          "metadata": {
            "tags": []
          },
          "execution_count": 27
        }
      ]
    },
    {
      "cell_type": "code",
      "metadata": {
        "id": "8gVuhjcPZ_kC",
        "colab_type": "code",
        "colab": {}
      },
      "source": [
        "tot = sum(eig_vals)\n",
        "var_exp = [(i / tot)*100 for i in sorted(eig_vals, reverse=True)]\n",
        "cum_var_exp = np.cumsum(var_exp)"
      ],
      "execution_count": 0,
      "outputs": []
    },
    {
      "cell_type": "code",
      "metadata": {
        "id": "9Lul5Pc7atz2",
        "colab_type": "code",
        "outputId": "ac666859-8809-488f-f21f-dfeb14c00081",
        "colab": {
          "base_uri": "https://localhost:8080/",
          "height": 583
        }
      },
      "source": [
        "trace1 = dict(\n",
        "    type='bar',\n",
        "    x=['PC %s' %i for i in range(1,len(img_mix))],\n",
        "    y=var_exp,\n",
        "    name='Individual'\n",
        ")\n",
        "\n",
        "trace2 = dict(\n",
        "    type='scatter',\n",
        "    x=['PC %s' %i for i in range(1,len(img_mix))], \n",
        "    y=cum_var_exp,\n",
        "    name='Cumulative'\n",
        ")\n",
        "\n",
        "data = [trace1, trace2]\n",
        "\n",
        "layout=dict(\n",
        "    title='Explained variance by different principal components',\n",
        "    yaxis=dict(\n",
        "        title='Explained variance in percent'\n",
        "    ),\n",
        "    annotations=list([\n",
        "        dict(\n",
        "            x=1.16,\n",
        "            y=1.05,\n",
        "            xref='paper',\n",
        "            yref='paper',\n",
        "            text='Explained Variance',\n",
        "            showarrow=False,\n",
        "        )\n",
        "    ])\n",
        ")\n",
        "\n",
        "fig = dict(data=data, layout=layout)\n",
        "py.iplot(fig, filename='selecting-principal-components')"
      ],
      "execution_count": 29,
      "outputs": [
        {
          "output_type": "stream",
          "text": [
            "High five! You successfully sent some data to your account on plotly. View your plot in your browser at https://plot.ly/~franklin.sierra/0 or inside your plot.ly account where it is named 'selecting-principal-components'\n"
          ],
          "name": "stdout"
        },
        {
          "output_type": "execute_result",
          "data": {
            "text/html": [
              "<iframe id=\"igraph\" scrolling=\"no\" style=\"border:none;\" seamless=\"seamless\" src=\"https://plot.ly/~franklin.sierra/0.embed\" height=\"525px\" width=\"100%\"></iframe>"
            ],
            "text/plain": [
              "<plotly.tools.PlotlyDisplay object>"
            ]
          },
          "metadata": {
            "tags": []
          },
          "execution_count": 29
        }
      ]
    },
    {
      "cell_type": "code",
      "metadata": {
        "id": "C1yNROVDhXOt",
        "colab_type": "code",
        "outputId": "9f5c795f-2a22-4ba3-b421-619b6e79bd4b",
        "colab": {
          "base_uri": "https://localhost:8080/",
          "height": 238
        }
      },
      "source": [
        "acp = pca(n_components = 83)#con 83 componentes se logran describir el 92% de los datos\n",
        "img_mix = acp.fit_transform(img_mix)\n",
        "img_mix"
      ],
      "execution_count": 43,
      "outputs": [
        {
          "output_type": "execute_result",
          "data": {
            "text/plain": [
              "array([[ 2.38676147e+00,  6.25093370e+01,  1.41124898e+01, ...,\n",
              "        -5.64816205e+00,  1.39866344e+00, -9.34868859e+00],\n",
              "       [ 5.74148672e+00, -5.62963579e+01, -3.33454504e+01, ...,\n",
              "        -4.25991930e-01,  2.07126083e+00, -4.32885880e-01],\n",
              "       [ 1.16600185e+01, -4.00243461e+01, -3.02644356e+01, ...,\n",
              "        -1.18152805e+01, -1.72904423e+00, -1.72322955e+00],\n",
              "       ...,\n",
              "       [-2.78821522e+01, -1.94518096e+01, -5.00919003e+00, ...,\n",
              "        -2.16203247e+00,  1.06088798e+01,  1.34624992e+01],\n",
              "       [ 1.31960536e+02, -2.90369197e+01,  2.71153628e+01, ...,\n",
              "         5.41959878e-01, -1.87344292e+00, -1.01675763e+00],\n",
              "       [-3.70049186e+01,  8.18767943e+01,  3.67825206e+01, ...,\n",
              "        -1.70925245e+00, -3.65977829e+00, -8.54024229e-02]])"
            ]
          },
          "metadata": {
            "tags": []
          },
          "execution_count": 43
        }
      ]
    },
    {
      "cell_type": "code",
      "metadata": {
        "id": "0shK2X4Ivk9z",
        "colab_type": "code",
        "outputId": "00087800-8865-4bb4-b283-dcde5c81caec",
        "colab": {
          "base_uri": "https://localhost:8080/",
          "height": 34
        }
      },
      "source": [
        "img_mix.shape"
      ],
      "execution_count": 44,
      "outputs": [
        {
          "output_type": "execute_result",
          "data": {
            "text/plain": [
              "(152, 83)"
            ]
          },
          "metadata": {
            "tags": []
          },
          "execution_count": 44
        }
      ]
    },
    {
      "cell_type": "markdown",
      "metadata": {
        "id": "b7x4bTjcRHrZ",
        "colab_type": "text"
      },
      "source": [
        "**USANDO SVM**"
      ]
    },
    {
      "cell_type": "code",
      "metadata": {
        "id": "zXSnWrPnUusU",
        "colab_type": "code",
        "colab": {}
      },
      "source": [
        "from sklearn.utils import shuffle"
      ],
      "execution_count": 0,
      "outputs": []
    },
    {
      "cell_type": "code",
      "metadata": {
        "id": "0HyQSeCjV85b",
        "colab_type": "code",
        "outputId": "5040ce1c-be6f-4f24-de5c-88d7a403587d",
        "colab": {
          "base_uri": "https://localhost:8080/",
          "height": 34
        }
      },
      "source": [
        "#particion train and test\n",
        "from sklearn.model_selection import train_test_split\n",
        "test_size = 0.2\n",
        "x_train, x_test, y_train, y_test = train_test_split(img_mix,y1,test_size=test_size)\n",
        "print (y_test)"
      ],
      "execution_count": 133,
      "outputs": [
        {
          "output_type": "stream",
          "text": [
            "[6 5 3 2 1 2 3 3 3 5 4 2 1 1 2 5 5 1 3 2 1 1 5 1 1 4 2 4 1 5 5]\n"
          ],
          "name": "stdout"
        }
      ]
    },
    {
      "cell_type": "code",
      "metadata": {
        "id": "So5l1olUWb5E",
        "colab_type": "code",
        "outputId": "29228948-ec77-4266-8133-51e71b2aa973",
        "colab": {
          "base_uri": "https://localhost:8080/",
          "height": 85
        }
      },
      "source": [
        "print(\"x_train:\", len(x_train))\n",
        "print(\"x_test:\", len(x_test))\n",
        "print(\"y_train:\", len(y_train))\n",
        "print(\"x_test:\", len(y_test))"
      ],
      "execution_count": 134,
      "outputs": [
        {
          "output_type": "stream",
          "text": [
            "x_train: 121\n",
            "x_test: 31\n",
            "y_train: 121\n",
            "x_test: 31\n"
          ],
          "name": "stdout"
        }
      ]
    },
    {
      "cell_type": "code",
      "metadata": {
        "id": "dMlzstunh1NK",
        "colab_type": "code",
        "colab": {}
      },
      "source": [
        "svm1 = svm.SVC(kernel='linear', C=1.0)"
      ],
      "execution_count": 0,
      "outputs": []
    },
    {
      "cell_type": "code",
      "metadata": {
        "id": "qTKN2CfNj8E8",
        "colab_type": "code",
        "colab": {
          "base_uri": "https://localhost:8080/",
          "height": 85
        },
        "outputId": "7a486bbc-33f1-44d4-cf96-9208366cc4ff"
      },
      "source": [
        "svm1.fit(x_train,y_train)"
      ],
      "execution_count": 52,
      "outputs": [
        {
          "output_type": "execute_result",
          "data": {
            "text/plain": [
              "SVC(C=1.0, cache_size=200, class_weight=None, coef0=0.0,\n",
              "    decision_function_shape='ovr', degree=3, gamma='auto_deprecated',\n",
              "    kernel='linear', max_iter=-1, probability=False, random_state=None,\n",
              "    shrinking=True, tol=0.001, verbose=False)"
            ]
          },
          "metadata": {
            "tags": []
          },
          "execution_count": 52
        }
      ]
    },
    {
      "cell_type": "code",
      "metadata": {
        "id": "26shgvKRmFYN",
        "colab_type": "code",
        "colab": {}
      },
      "source": [
        "cv1 = KFold(n_splits = img_mix.shape[0], shuffle = True, random_state = 1)"
      ],
      "execution_count": 0,
      "outputs": []
    },
    {
      "cell_type": "code",
      "metadata": {
        "id": "iV50cLujmFq9",
        "colab_type": "code",
        "colab": {
          "base_uri": "https://localhost:8080/",
          "height": 34
        },
        "outputId": "15bd95a9-e3f2-4c87-db28-b01c9f472e43"
      },
      "source": [
        "acc1 = np.mean(cross_val_score(svm1, img_mix, y1, scoring = \"accuracy\", cv = cv1, n_jobs=1))\n",
        "acc1"
      ],
      "execution_count": 61,
      "outputs": [
        {
          "output_type": "execute_result",
          "data": {
            "text/plain": [
              "0.3092105263157895"
            ]
          },
          "metadata": {
            "tags": []
          },
          "execution_count": 61
        }
      ]
    },
    {
      "cell_type": "markdown",
      "metadata": {
        "id": "n635wbk1nRAC",
        "colab_type": "text"
      },
      "source": [
        "**RANDOM FOREST**"
      ]
    },
    {
      "cell_type": "code",
      "metadata": {
        "id": "NyqbrbQdmF99",
        "colab_type": "code",
        "colab": {}
      },
      "source": [
        "from sklearn.ensemble import RandomForestClassifier \n",
        "#num_trees = 100"
      ],
      "execution_count": 0,
      "outputs": []
    },
    {
      "cell_type": "code",
      "metadata": {
        "id": "v_ELUBU3nVB1",
        "colab_type": "code",
        "colab": {
          "base_uri": "https://localhost:8080/",
          "height": 323
        },
        "outputId": "9e161d96-c66d-4056-e816-6c2a47d1ae16"
      },
      "source": [
        "acc = -999\n",
        "depth = 0\n",
        "for i in range(10, 100, 10):\n",
        "  forest1 = RandomForestClassifier(n_jobs=2, oob_score=True, n_estimators= i)\n",
        "  forest1.fit(x_train, y_train)\n",
        "  score = forest1.score(x_test, y_test)\n",
        "  print(\"score para profundidad: \", i, \"fue de: \",score)\n",
        "  if (score > acc):\n",
        "    acc = score\n",
        "    depth = i\n",
        "    #salving the model\n",
        "    filename1 = 'randomForest.sav'\n",
        "    pickle.dump(forest1, open(filename1, 'wb'))\n",
        "\n",
        "print(\"la mejor profundidad: \", depth)"
      ],
      "execution_count": 108,
      "outputs": [
        {
          "output_type": "stream",
          "text": [
            "/usr/local/lib/python3.6/dist-packages/sklearn/ensemble/forest.py:460: UserWarning:\n",
            "\n",
            "Some inputs do not have OOB scores. This probably means too few trees were used to compute any reliable oob estimates.\n",
            "\n",
            "/usr/local/lib/python3.6/dist-packages/sklearn/ensemble/forest.py:465: RuntimeWarning:\n",
            "\n",
            "invalid value encountered in true_divide\n",
            "\n"
          ],
          "name": "stderr"
        },
        {
          "output_type": "stream",
          "text": [
            "score para profundidad:  10 fue de:  0.22580645161290322\n",
            "score para profundidad:  20 fue de:  0.41935483870967744\n",
            "score para profundidad:  30 fue de:  0.22580645161290322\n",
            "score para profundidad:  40 fue de:  0.1935483870967742\n",
            "score para profundidad:  50 fue de:  0.3225806451612903\n",
            "score para profundidad:  60 fue de:  0.16129032258064516\n",
            "score para profundidad:  70 fue de:  0.2903225806451613\n",
            "score para profundidad:  80 fue de:  0.2903225806451613\n",
            "score para profundidad:  90 fue de:  0.2903225806451613\n",
            "la mejor profundidad:  20\n"
          ],
          "name": "stdout"
        }
      ]
    },
    {
      "cell_type": "code",
      "metadata": {
        "id": "sBfKZPoduAjx",
        "colab_type": "code",
        "colab": {
          "base_uri": "https://localhost:8080/",
          "height": 34
        },
        "outputId": "99b541b9-92de-4b44-c3bb-6fd43f7dd7cd"
      },
      "source": [
        "# some time later...\n",
        " \n",
        "# load the model from disk\n",
        "forest1 = pickle.load(open(filename1, 'rb'))\n",
        "acc = forest1.score(x_test, y_test)\n",
        "print(acc)"
      ],
      "execution_count": 120,
      "outputs": [
        {
          "output_type": "stream",
          "text": [
            "0.41935483870967744\n"
          ],
          "name": "stdout"
        }
      ]
    },
    {
      "cell_type": "markdown",
      "metadata": {
        "id": "a20K7cao6A9x",
        "colab_type": "text"
      },
      "source": [
        "**¿Por que no funciona el LOOCV?**"
      ]
    },
    {
      "cell_type": "code",
      "metadata": {
        "id": "qEdWIC2enVY_",
        "colab_type": "code",
        "colab": {}
      },
      "source": [
        "cv2 = KFold(n_splits = img_mix.shape[0], shuffle = True, random_state = 1)"
      ],
      "execution_count": 0,
      "outputs": []
    },
    {
      "cell_type": "code",
      "metadata": {
        "id": "0M6d3EbaoCmP",
        "colab_type": "code",
        "colab": {
          "base_uri": "https://localhost:8080/",
          "height": 595
        },
        "outputId": "88d566ab-230c-4b23-e9b8-72db1e6f41a5"
      },
      "source": [
        "acc2 = np.mean(cross_val_score(forest1, img_mix, y1, scoring = \"accuracy\", cv = cv2, n_jobs=1))\n",
        "acc2"
      ],
      "execution_count": 122,
      "outputs": [
        {
          "output_type": "stream",
          "text": [
            "/usr/local/lib/python3.6/dist-packages/sklearn/ensemble/forest.py:460: UserWarning:\n",
            "\n",
            "Some inputs do not have OOB scores. This probably means too few trees were used to compute any reliable oob estimates.\n",
            "\n",
            "/usr/local/lib/python3.6/dist-packages/sklearn/ensemble/forest.py:465: RuntimeWarning:\n",
            "\n",
            "invalid value encountered in true_divide\n",
            "\n",
            "/usr/local/lib/python3.6/dist-packages/sklearn/ensemble/forest.py:460: UserWarning:\n",
            "\n",
            "Some inputs do not have OOB scores. This probably means too few trees were used to compute any reliable oob estimates.\n",
            "\n",
            "/usr/local/lib/python3.6/dist-packages/sklearn/ensemble/forest.py:465: RuntimeWarning:\n",
            "\n",
            "invalid value encountered in true_divide\n",
            "\n"
          ],
          "name": "stderr"
        },
        {
          "output_type": "error",
          "ename": "KeyboardInterrupt",
          "evalue": "ignored",
          "traceback": [
            "\u001b[0;31m---------------------------------------------------------------------------\u001b[0m",
            "\u001b[0;31mKeyboardInterrupt\u001b[0m                         Traceback (most recent call last)",
            "\u001b[0;32m<ipython-input-122-7efe612f3750>\u001b[0m in \u001b[0;36m<module>\u001b[0;34m()\u001b[0m\n\u001b[0;32m----> 1\u001b[0;31m \u001b[0macc2\u001b[0m \u001b[0;34m=\u001b[0m \u001b[0mnp\u001b[0m\u001b[0;34m.\u001b[0m\u001b[0mmean\u001b[0m\u001b[0;34m(\u001b[0m\u001b[0mcross_val_score\u001b[0m\u001b[0;34m(\u001b[0m\u001b[0mforest1\u001b[0m\u001b[0;34m,\u001b[0m \u001b[0mimg_mix\u001b[0m\u001b[0;34m,\u001b[0m \u001b[0my1\u001b[0m\u001b[0;34m,\u001b[0m \u001b[0mscoring\u001b[0m \u001b[0;34m=\u001b[0m \u001b[0;34m\"accuracy\"\u001b[0m\u001b[0;34m,\u001b[0m \u001b[0mcv\u001b[0m \u001b[0;34m=\u001b[0m \u001b[0mcv2\u001b[0m\u001b[0;34m,\u001b[0m \u001b[0mn_jobs\u001b[0m\u001b[0;34m=\u001b[0m\u001b[0;36m1\u001b[0m\u001b[0;34m)\u001b[0m\u001b[0;34m)\u001b[0m\u001b[0;34m\u001b[0m\u001b[0;34m\u001b[0m\u001b[0m\n\u001b[0m\u001b[1;32m      2\u001b[0m \u001b[0macc2\u001b[0m\u001b[0;34m\u001b[0m\u001b[0;34m\u001b[0m\u001b[0m\n",
            "\u001b[0;32m/usr/local/lib/python3.6/dist-packages/sklearn/model_selection/_validation.py\u001b[0m in \u001b[0;36mcross_val_score\u001b[0;34m(estimator, X, y, groups, scoring, cv, n_jobs, verbose, fit_params, pre_dispatch, error_score)\u001b[0m\n\u001b[1;32m    389\u001b[0m                                 \u001b[0mfit_params\u001b[0m\u001b[0;34m=\u001b[0m\u001b[0mfit_params\u001b[0m\u001b[0;34m,\u001b[0m\u001b[0;34m\u001b[0m\u001b[0;34m\u001b[0m\u001b[0m\n\u001b[1;32m    390\u001b[0m                                 \u001b[0mpre_dispatch\u001b[0m\u001b[0;34m=\u001b[0m\u001b[0mpre_dispatch\u001b[0m\u001b[0;34m,\u001b[0m\u001b[0;34m\u001b[0m\u001b[0;34m\u001b[0m\u001b[0m\n\u001b[0;32m--> 391\u001b[0;31m                                 error_score=error_score)\n\u001b[0m\u001b[1;32m    392\u001b[0m     \u001b[0;32mreturn\u001b[0m \u001b[0mcv_results\u001b[0m\u001b[0;34m[\u001b[0m\u001b[0;34m'test_score'\u001b[0m\u001b[0;34m]\u001b[0m\u001b[0;34m\u001b[0m\u001b[0;34m\u001b[0m\u001b[0m\n\u001b[1;32m    393\u001b[0m \u001b[0;34m\u001b[0m\u001b[0m\n",
            "\u001b[0;32m/usr/local/lib/python3.6/dist-packages/sklearn/model_selection/_validation.py\u001b[0m in \u001b[0;36mcross_validate\u001b[0;34m(estimator, X, y, groups, scoring, cv, n_jobs, verbose, fit_params, pre_dispatch, return_train_score, return_estimator, error_score)\u001b[0m\n\u001b[1;32m    230\u001b[0m             \u001b[0mreturn_times\u001b[0m\u001b[0;34m=\u001b[0m\u001b[0;32mTrue\u001b[0m\u001b[0;34m,\u001b[0m \u001b[0mreturn_estimator\u001b[0m\u001b[0;34m=\u001b[0m\u001b[0mreturn_estimator\u001b[0m\u001b[0;34m,\u001b[0m\u001b[0;34m\u001b[0m\u001b[0;34m\u001b[0m\u001b[0m\n\u001b[1;32m    231\u001b[0m             error_score=error_score)\n\u001b[0;32m--> 232\u001b[0;31m         for train, test in cv.split(X, y, groups))\n\u001b[0m\u001b[1;32m    233\u001b[0m \u001b[0;34m\u001b[0m\u001b[0m\n\u001b[1;32m    234\u001b[0m     \u001b[0mzipped_scores\u001b[0m \u001b[0;34m=\u001b[0m \u001b[0mlist\u001b[0m\u001b[0;34m(\u001b[0m\u001b[0mzip\u001b[0m\u001b[0;34m(\u001b[0m\u001b[0;34m*\u001b[0m\u001b[0mscores\u001b[0m\u001b[0;34m)\u001b[0m\u001b[0;34m)\u001b[0m\u001b[0;34m\u001b[0m\u001b[0;34m\u001b[0m\u001b[0m\n",
            "\u001b[0;32m/usr/local/lib/python3.6/dist-packages/joblib/parallel.py\u001b[0m in \u001b[0;36m__call__\u001b[0;34m(self, iterable)\u001b[0m\n\u001b[1;32m    922\u001b[0m                 \u001b[0mself\u001b[0m\u001b[0;34m.\u001b[0m\u001b[0m_iterating\u001b[0m \u001b[0;34m=\u001b[0m \u001b[0mself\u001b[0m\u001b[0;34m.\u001b[0m\u001b[0m_original_iterator\u001b[0m \u001b[0;32mis\u001b[0m \u001b[0;32mnot\u001b[0m \u001b[0;32mNone\u001b[0m\u001b[0;34m\u001b[0m\u001b[0;34m\u001b[0m\u001b[0m\n\u001b[1;32m    923\u001b[0m \u001b[0;34m\u001b[0m\u001b[0m\n\u001b[0;32m--> 924\u001b[0;31m             \u001b[0;32mwhile\u001b[0m \u001b[0mself\u001b[0m\u001b[0;34m.\u001b[0m\u001b[0mdispatch_one_batch\u001b[0m\u001b[0;34m(\u001b[0m\u001b[0miterator\u001b[0m\u001b[0;34m)\u001b[0m\u001b[0;34m:\u001b[0m\u001b[0;34m\u001b[0m\u001b[0;34m\u001b[0m\u001b[0m\n\u001b[0m\u001b[1;32m    925\u001b[0m                 \u001b[0;32mpass\u001b[0m\u001b[0;34m\u001b[0m\u001b[0;34m\u001b[0m\u001b[0m\n\u001b[1;32m    926\u001b[0m \u001b[0;34m\u001b[0m\u001b[0m\n",
            "\u001b[0;32m/usr/local/lib/python3.6/dist-packages/joblib/parallel.py\u001b[0m in \u001b[0;36mdispatch_one_batch\u001b[0;34m(self, iterator)\u001b[0m\n\u001b[1;32m    757\u001b[0m                 \u001b[0;32mreturn\u001b[0m \u001b[0;32mFalse\u001b[0m\u001b[0;34m\u001b[0m\u001b[0;34m\u001b[0m\u001b[0m\n\u001b[1;32m    758\u001b[0m             \u001b[0;32melse\u001b[0m\u001b[0;34m:\u001b[0m\u001b[0;34m\u001b[0m\u001b[0;34m\u001b[0m\u001b[0m\n\u001b[0;32m--> 759\u001b[0;31m                 \u001b[0mself\u001b[0m\u001b[0;34m.\u001b[0m\u001b[0m_dispatch\u001b[0m\u001b[0;34m(\u001b[0m\u001b[0mtasks\u001b[0m\u001b[0;34m)\u001b[0m\u001b[0;34m\u001b[0m\u001b[0;34m\u001b[0m\u001b[0m\n\u001b[0m\u001b[1;32m    760\u001b[0m                 \u001b[0;32mreturn\u001b[0m \u001b[0;32mTrue\u001b[0m\u001b[0;34m\u001b[0m\u001b[0;34m\u001b[0m\u001b[0m\n\u001b[1;32m    761\u001b[0m \u001b[0;34m\u001b[0m\u001b[0m\n",
            "\u001b[0;32m/usr/local/lib/python3.6/dist-packages/joblib/parallel.py\u001b[0m in \u001b[0;36m_dispatch\u001b[0;34m(self, batch)\u001b[0m\n\u001b[1;32m    714\u001b[0m         \u001b[0;32mwith\u001b[0m \u001b[0mself\u001b[0m\u001b[0;34m.\u001b[0m\u001b[0m_lock\u001b[0m\u001b[0;34m:\u001b[0m\u001b[0;34m\u001b[0m\u001b[0;34m\u001b[0m\u001b[0m\n\u001b[1;32m    715\u001b[0m             \u001b[0mjob_idx\u001b[0m \u001b[0;34m=\u001b[0m \u001b[0mlen\u001b[0m\u001b[0;34m(\u001b[0m\u001b[0mself\u001b[0m\u001b[0;34m.\u001b[0m\u001b[0m_jobs\u001b[0m\u001b[0;34m)\u001b[0m\u001b[0;34m\u001b[0m\u001b[0;34m\u001b[0m\u001b[0m\n\u001b[0;32m--> 716\u001b[0;31m             \u001b[0mjob\u001b[0m \u001b[0;34m=\u001b[0m \u001b[0mself\u001b[0m\u001b[0;34m.\u001b[0m\u001b[0m_backend\u001b[0m\u001b[0;34m.\u001b[0m\u001b[0mapply_async\u001b[0m\u001b[0;34m(\u001b[0m\u001b[0mbatch\u001b[0m\u001b[0;34m,\u001b[0m \u001b[0mcallback\u001b[0m\u001b[0;34m=\u001b[0m\u001b[0mcb\u001b[0m\u001b[0;34m)\u001b[0m\u001b[0;34m\u001b[0m\u001b[0;34m\u001b[0m\u001b[0m\n\u001b[0m\u001b[1;32m    717\u001b[0m             \u001b[0;31m# A job can complete so quickly than its callback is\u001b[0m\u001b[0;34m\u001b[0m\u001b[0;34m\u001b[0m\u001b[0;34m\u001b[0m\u001b[0m\n\u001b[1;32m    718\u001b[0m             \u001b[0;31m# called before we get here, causing self._jobs to\u001b[0m\u001b[0;34m\u001b[0m\u001b[0;34m\u001b[0m\u001b[0;34m\u001b[0m\u001b[0m\n",
            "\u001b[0;32m/usr/local/lib/python3.6/dist-packages/joblib/_parallel_backends.py\u001b[0m in \u001b[0;36mapply_async\u001b[0;34m(self, func, callback)\u001b[0m\n\u001b[1;32m    180\u001b[0m     \u001b[0;32mdef\u001b[0m \u001b[0mapply_async\u001b[0m\u001b[0;34m(\u001b[0m\u001b[0mself\u001b[0m\u001b[0;34m,\u001b[0m \u001b[0mfunc\u001b[0m\u001b[0;34m,\u001b[0m \u001b[0mcallback\u001b[0m\u001b[0;34m=\u001b[0m\u001b[0;32mNone\u001b[0m\u001b[0;34m)\u001b[0m\u001b[0;34m:\u001b[0m\u001b[0;34m\u001b[0m\u001b[0;34m\u001b[0m\u001b[0m\n\u001b[1;32m    181\u001b[0m         \u001b[0;34m\"\"\"Schedule a func to be run\"\"\"\u001b[0m\u001b[0;34m\u001b[0m\u001b[0;34m\u001b[0m\u001b[0m\n\u001b[0;32m--> 182\u001b[0;31m         \u001b[0mresult\u001b[0m \u001b[0;34m=\u001b[0m \u001b[0mImmediateResult\u001b[0m\u001b[0;34m(\u001b[0m\u001b[0mfunc\u001b[0m\u001b[0;34m)\u001b[0m\u001b[0;34m\u001b[0m\u001b[0;34m\u001b[0m\u001b[0m\n\u001b[0m\u001b[1;32m    183\u001b[0m         \u001b[0;32mif\u001b[0m \u001b[0mcallback\u001b[0m\u001b[0;34m:\u001b[0m\u001b[0;34m\u001b[0m\u001b[0;34m\u001b[0m\u001b[0m\n\u001b[1;32m    184\u001b[0m             \u001b[0mcallback\u001b[0m\u001b[0;34m(\u001b[0m\u001b[0mresult\u001b[0m\u001b[0;34m)\u001b[0m\u001b[0;34m\u001b[0m\u001b[0;34m\u001b[0m\u001b[0m\n",
            "\u001b[0;32m/usr/local/lib/python3.6/dist-packages/joblib/_parallel_backends.py\u001b[0m in \u001b[0;36m__init__\u001b[0;34m(self, batch)\u001b[0m\n\u001b[1;32m    547\u001b[0m         \u001b[0;31m# Don't delay the application, to avoid keeping the input\u001b[0m\u001b[0;34m\u001b[0m\u001b[0;34m\u001b[0m\u001b[0;34m\u001b[0m\u001b[0m\n\u001b[1;32m    548\u001b[0m         \u001b[0;31m# arguments in memory\u001b[0m\u001b[0;34m\u001b[0m\u001b[0;34m\u001b[0m\u001b[0;34m\u001b[0m\u001b[0m\n\u001b[0;32m--> 549\u001b[0;31m         \u001b[0mself\u001b[0m\u001b[0;34m.\u001b[0m\u001b[0mresults\u001b[0m \u001b[0;34m=\u001b[0m \u001b[0mbatch\u001b[0m\u001b[0;34m(\u001b[0m\u001b[0;34m)\u001b[0m\u001b[0;34m\u001b[0m\u001b[0;34m\u001b[0m\u001b[0m\n\u001b[0m\u001b[1;32m    550\u001b[0m \u001b[0;34m\u001b[0m\u001b[0m\n\u001b[1;32m    551\u001b[0m     \u001b[0;32mdef\u001b[0m \u001b[0mget\u001b[0m\u001b[0;34m(\u001b[0m\u001b[0mself\u001b[0m\u001b[0;34m)\u001b[0m\u001b[0;34m:\u001b[0m\u001b[0;34m\u001b[0m\u001b[0;34m\u001b[0m\u001b[0m\n",
            "\u001b[0;32m/usr/local/lib/python3.6/dist-packages/joblib/parallel.py\u001b[0m in \u001b[0;36m__call__\u001b[0;34m(self)\u001b[0m\n\u001b[1;32m    223\u001b[0m         \u001b[0;32mwith\u001b[0m \u001b[0mparallel_backend\u001b[0m\u001b[0;34m(\u001b[0m\u001b[0mself\u001b[0m\u001b[0;34m.\u001b[0m\u001b[0m_backend\u001b[0m\u001b[0;34m,\u001b[0m \u001b[0mn_jobs\u001b[0m\u001b[0;34m=\u001b[0m\u001b[0mself\u001b[0m\u001b[0;34m.\u001b[0m\u001b[0m_n_jobs\u001b[0m\u001b[0;34m)\u001b[0m\u001b[0;34m:\u001b[0m\u001b[0;34m\u001b[0m\u001b[0;34m\u001b[0m\u001b[0m\n\u001b[1;32m    224\u001b[0m             return [func(*args, **kwargs)\n\u001b[0;32m--> 225\u001b[0;31m                     for func, args, kwargs in self.items]\n\u001b[0m\u001b[1;32m    226\u001b[0m \u001b[0;34m\u001b[0m\u001b[0m\n\u001b[1;32m    227\u001b[0m     \u001b[0;32mdef\u001b[0m \u001b[0m__len__\u001b[0m\u001b[0;34m(\u001b[0m\u001b[0mself\u001b[0m\u001b[0;34m)\u001b[0m\u001b[0;34m:\u001b[0m\u001b[0;34m\u001b[0m\u001b[0;34m\u001b[0m\u001b[0m\n",
            "\u001b[0;32m/usr/local/lib/python3.6/dist-packages/joblib/parallel.py\u001b[0m in \u001b[0;36m<listcomp>\u001b[0;34m(.0)\u001b[0m\n\u001b[1;32m    223\u001b[0m         \u001b[0;32mwith\u001b[0m \u001b[0mparallel_backend\u001b[0m\u001b[0;34m(\u001b[0m\u001b[0mself\u001b[0m\u001b[0;34m.\u001b[0m\u001b[0m_backend\u001b[0m\u001b[0;34m,\u001b[0m \u001b[0mn_jobs\u001b[0m\u001b[0;34m=\u001b[0m\u001b[0mself\u001b[0m\u001b[0;34m.\u001b[0m\u001b[0m_n_jobs\u001b[0m\u001b[0;34m)\u001b[0m\u001b[0;34m:\u001b[0m\u001b[0;34m\u001b[0m\u001b[0;34m\u001b[0m\u001b[0m\n\u001b[1;32m    224\u001b[0m             return [func(*args, **kwargs)\n\u001b[0;32m--> 225\u001b[0;31m                     for func, args, kwargs in self.items]\n\u001b[0m\u001b[1;32m    226\u001b[0m \u001b[0;34m\u001b[0m\u001b[0m\n\u001b[1;32m    227\u001b[0m     \u001b[0;32mdef\u001b[0m \u001b[0m__len__\u001b[0m\u001b[0;34m(\u001b[0m\u001b[0mself\u001b[0m\u001b[0;34m)\u001b[0m\u001b[0;34m:\u001b[0m\u001b[0;34m\u001b[0m\u001b[0;34m\u001b[0m\u001b[0m\n",
            "\u001b[0;32m/usr/local/lib/python3.6/dist-packages/sklearn/model_selection/_validation.py\u001b[0m in \u001b[0;36m_fit_and_score\u001b[0;34m(estimator, X, y, scorer, train, test, verbose, parameters, fit_params, return_train_score, return_parameters, return_n_test_samples, return_times, return_estimator, error_score)\u001b[0m\n\u001b[1;32m    514\u001b[0m             \u001b[0mestimator\u001b[0m\u001b[0;34m.\u001b[0m\u001b[0mfit\u001b[0m\u001b[0;34m(\u001b[0m\u001b[0mX_train\u001b[0m\u001b[0;34m,\u001b[0m \u001b[0;34m**\u001b[0m\u001b[0mfit_params\u001b[0m\u001b[0;34m)\u001b[0m\u001b[0;34m\u001b[0m\u001b[0;34m\u001b[0m\u001b[0m\n\u001b[1;32m    515\u001b[0m         \u001b[0;32melse\u001b[0m\u001b[0;34m:\u001b[0m\u001b[0;34m\u001b[0m\u001b[0;34m\u001b[0m\u001b[0m\n\u001b[0;32m--> 516\u001b[0;31m             \u001b[0mestimator\u001b[0m\u001b[0;34m.\u001b[0m\u001b[0mfit\u001b[0m\u001b[0;34m(\u001b[0m\u001b[0mX_train\u001b[0m\u001b[0;34m,\u001b[0m \u001b[0my_train\u001b[0m\u001b[0;34m,\u001b[0m \u001b[0;34m**\u001b[0m\u001b[0mfit_params\u001b[0m\u001b[0;34m)\u001b[0m\u001b[0;34m\u001b[0m\u001b[0;34m\u001b[0m\u001b[0m\n\u001b[0m\u001b[1;32m    517\u001b[0m \u001b[0;34m\u001b[0m\u001b[0m\n\u001b[1;32m    518\u001b[0m     \u001b[0;32mexcept\u001b[0m \u001b[0mException\u001b[0m \u001b[0;32mas\u001b[0m \u001b[0me\u001b[0m\u001b[0;34m:\u001b[0m\u001b[0;34m\u001b[0m\u001b[0;34m\u001b[0m\u001b[0m\n",
            "\u001b[0;32m/usr/local/lib/python3.6/dist-packages/sklearn/ensemble/forest.py\u001b[0m in \u001b[0;36mfit\u001b[0;34m(self, X, y, sample_weight)\u001b[0m\n\u001b[1;32m    328\u001b[0m                     \u001b[0mt\u001b[0m\u001b[0;34m,\u001b[0m \u001b[0mself\u001b[0m\u001b[0;34m,\u001b[0m \u001b[0mX\u001b[0m\u001b[0;34m,\u001b[0m \u001b[0my\u001b[0m\u001b[0;34m,\u001b[0m \u001b[0msample_weight\u001b[0m\u001b[0;34m,\u001b[0m \u001b[0mi\u001b[0m\u001b[0;34m,\u001b[0m \u001b[0mlen\u001b[0m\u001b[0;34m(\u001b[0m\u001b[0mtrees\u001b[0m\u001b[0;34m)\u001b[0m\u001b[0;34m,\u001b[0m\u001b[0;34m\u001b[0m\u001b[0;34m\u001b[0m\u001b[0m\n\u001b[1;32m    329\u001b[0m                     verbose=self.verbose, class_weight=self.class_weight)\n\u001b[0;32m--> 330\u001b[0;31m                 for i, t in enumerate(trees))\n\u001b[0m\u001b[1;32m    331\u001b[0m \u001b[0;34m\u001b[0m\u001b[0m\n\u001b[1;32m    332\u001b[0m             \u001b[0;31m# Collect newly grown trees\u001b[0m\u001b[0;34m\u001b[0m\u001b[0;34m\u001b[0m\u001b[0;34m\u001b[0m\u001b[0m\n",
            "\u001b[0;32m/usr/local/lib/python3.6/dist-packages/joblib/parallel.py\u001b[0m in \u001b[0;36m__call__\u001b[0;34m(self, iterable)\u001b[0m\n\u001b[1;32m    932\u001b[0m \u001b[0;34m\u001b[0m\u001b[0m\n\u001b[1;32m    933\u001b[0m             \u001b[0;32mwith\u001b[0m \u001b[0mself\u001b[0m\u001b[0;34m.\u001b[0m\u001b[0m_backend\u001b[0m\u001b[0;34m.\u001b[0m\u001b[0mretrieval_context\u001b[0m\u001b[0;34m(\u001b[0m\u001b[0;34m)\u001b[0m\u001b[0;34m:\u001b[0m\u001b[0;34m\u001b[0m\u001b[0;34m\u001b[0m\u001b[0m\n\u001b[0;32m--> 934\u001b[0;31m                 \u001b[0mself\u001b[0m\u001b[0;34m.\u001b[0m\u001b[0mretrieve\u001b[0m\u001b[0;34m(\u001b[0m\u001b[0;34m)\u001b[0m\u001b[0;34m\u001b[0m\u001b[0;34m\u001b[0m\u001b[0m\n\u001b[0m\u001b[1;32m    935\u001b[0m             \u001b[0;31m# Make sure that we get a last message telling us we are done\u001b[0m\u001b[0;34m\u001b[0m\u001b[0;34m\u001b[0m\u001b[0;34m\u001b[0m\u001b[0m\n\u001b[1;32m    936\u001b[0m             \u001b[0melapsed_time\u001b[0m \u001b[0;34m=\u001b[0m \u001b[0mtime\u001b[0m\u001b[0;34m.\u001b[0m\u001b[0mtime\u001b[0m\u001b[0;34m(\u001b[0m\u001b[0;34m)\u001b[0m \u001b[0;34m-\u001b[0m \u001b[0mself\u001b[0m\u001b[0;34m.\u001b[0m\u001b[0m_start_time\u001b[0m\u001b[0;34m\u001b[0m\u001b[0;34m\u001b[0m\u001b[0m\n",
            "\u001b[0;32m/usr/local/lib/python3.6/dist-packages/joblib/parallel.py\u001b[0m in \u001b[0;36mretrieve\u001b[0;34m(self)\u001b[0m\n\u001b[1;32m    831\u001b[0m             \u001b[0;32mtry\u001b[0m\u001b[0;34m:\u001b[0m\u001b[0;34m\u001b[0m\u001b[0;34m\u001b[0m\u001b[0m\n\u001b[1;32m    832\u001b[0m                 \u001b[0;32mif\u001b[0m \u001b[0mgetattr\u001b[0m\u001b[0;34m(\u001b[0m\u001b[0mself\u001b[0m\u001b[0;34m.\u001b[0m\u001b[0m_backend\u001b[0m\u001b[0;34m,\u001b[0m \u001b[0;34m'supports_timeout'\u001b[0m\u001b[0;34m,\u001b[0m \u001b[0;32mFalse\u001b[0m\u001b[0;34m)\u001b[0m\u001b[0;34m:\u001b[0m\u001b[0;34m\u001b[0m\u001b[0;34m\u001b[0m\u001b[0m\n\u001b[0;32m--> 833\u001b[0;31m                     \u001b[0mself\u001b[0m\u001b[0;34m.\u001b[0m\u001b[0m_output\u001b[0m\u001b[0;34m.\u001b[0m\u001b[0mextend\u001b[0m\u001b[0;34m(\u001b[0m\u001b[0mjob\u001b[0m\u001b[0;34m.\u001b[0m\u001b[0mget\u001b[0m\u001b[0;34m(\u001b[0m\u001b[0mtimeout\u001b[0m\u001b[0;34m=\u001b[0m\u001b[0mself\u001b[0m\u001b[0;34m.\u001b[0m\u001b[0mtimeout\u001b[0m\u001b[0;34m)\u001b[0m\u001b[0;34m)\u001b[0m\u001b[0;34m\u001b[0m\u001b[0;34m\u001b[0m\u001b[0m\n\u001b[0m\u001b[1;32m    834\u001b[0m                 \u001b[0;32melse\u001b[0m\u001b[0;34m:\u001b[0m\u001b[0;34m\u001b[0m\u001b[0;34m\u001b[0m\u001b[0m\n\u001b[1;32m    835\u001b[0m                     \u001b[0mself\u001b[0m\u001b[0;34m.\u001b[0m\u001b[0m_output\u001b[0m\u001b[0;34m.\u001b[0m\u001b[0mextend\u001b[0m\u001b[0;34m(\u001b[0m\u001b[0mjob\u001b[0m\u001b[0;34m.\u001b[0m\u001b[0mget\u001b[0m\u001b[0;34m(\u001b[0m\u001b[0;34m)\u001b[0m\u001b[0;34m)\u001b[0m\u001b[0;34m\u001b[0m\u001b[0;34m\u001b[0m\u001b[0m\n",
            "\u001b[0;32m/usr/local/lib/python3.6/dist-packages/joblib/_parallel_backends.py\u001b[0m in \u001b[0;36mwrap_future_result\u001b[0;34m(future, timeout)\u001b[0m\n\u001b[1;32m    519\u001b[0m         AsyncResults.get from multiprocessing.\"\"\"\n\u001b[1;32m    520\u001b[0m         \u001b[0;32mtry\u001b[0m\u001b[0;34m:\u001b[0m\u001b[0;34m\u001b[0m\u001b[0;34m\u001b[0m\u001b[0m\n\u001b[0;32m--> 521\u001b[0;31m             \u001b[0;32mreturn\u001b[0m \u001b[0mfuture\u001b[0m\u001b[0;34m.\u001b[0m\u001b[0mresult\u001b[0m\u001b[0;34m(\u001b[0m\u001b[0mtimeout\u001b[0m\u001b[0;34m=\u001b[0m\u001b[0mtimeout\u001b[0m\u001b[0;34m)\u001b[0m\u001b[0;34m\u001b[0m\u001b[0;34m\u001b[0m\u001b[0m\n\u001b[0m\u001b[1;32m    522\u001b[0m         \u001b[0;32mexcept\u001b[0m \u001b[0mLokyTimeoutError\u001b[0m\u001b[0;34m:\u001b[0m\u001b[0;34m\u001b[0m\u001b[0;34m\u001b[0m\u001b[0m\n\u001b[1;32m    523\u001b[0m             \u001b[0;32mraise\u001b[0m \u001b[0mTimeoutError\u001b[0m\u001b[0;34m(\u001b[0m\u001b[0;34m)\u001b[0m\u001b[0;34m\u001b[0m\u001b[0;34m\u001b[0m\u001b[0m\n",
            "\u001b[0;32m/usr/lib/python3.6/concurrent/futures/_base.py\u001b[0m in \u001b[0;36mresult\u001b[0;34m(self, timeout)\u001b[0m\n\u001b[1;32m    425\u001b[0m                 \u001b[0;32mreturn\u001b[0m \u001b[0mself\u001b[0m\u001b[0;34m.\u001b[0m\u001b[0m__get_result\u001b[0m\u001b[0;34m(\u001b[0m\u001b[0;34m)\u001b[0m\u001b[0;34m\u001b[0m\u001b[0;34m\u001b[0m\u001b[0m\n\u001b[1;32m    426\u001b[0m \u001b[0;34m\u001b[0m\u001b[0m\n\u001b[0;32m--> 427\u001b[0;31m             \u001b[0mself\u001b[0m\u001b[0;34m.\u001b[0m\u001b[0m_condition\u001b[0m\u001b[0;34m.\u001b[0m\u001b[0mwait\u001b[0m\u001b[0;34m(\u001b[0m\u001b[0mtimeout\u001b[0m\u001b[0;34m)\u001b[0m\u001b[0;34m\u001b[0m\u001b[0;34m\u001b[0m\u001b[0m\n\u001b[0m\u001b[1;32m    428\u001b[0m \u001b[0;34m\u001b[0m\u001b[0m\n\u001b[1;32m    429\u001b[0m             \u001b[0;32mif\u001b[0m \u001b[0mself\u001b[0m\u001b[0;34m.\u001b[0m\u001b[0m_state\u001b[0m \u001b[0;32min\u001b[0m \u001b[0;34m[\u001b[0m\u001b[0mCANCELLED\u001b[0m\u001b[0;34m,\u001b[0m \u001b[0mCANCELLED_AND_NOTIFIED\u001b[0m\u001b[0;34m]\u001b[0m\u001b[0;34m:\u001b[0m\u001b[0;34m\u001b[0m\u001b[0;34m\u001b[0m\u001b[0m\n",
            "\u001b[0;32m/usr/lib/python3.6/threading.py\u001b[0m in \u001b[0;36mwait\u001b[0;34m(self, timeout)\u001b[0m\n\u001b[1;32m    293\u001b[0m         \u001b[0;32mtry\u001b[0m\u001b[0;34m:\u001b[0m    \u001b[0;31m# restore state no matter what (e.g., KeyboardInterrupt)\u001b[0m\u001b[0;34m\u001b[0m\u001b[0;34m\u001b[0m\u001b[0m\n\u001b[1;32m    294\u001b[0m             \u001b[0;32mif\u001b[0m \u001b[0mtimeout\u001b[0m \u001b[0;32mis\u001b[0m \u001b[0;32mNone\u001b[0m\u001b[0;34m:\u001b[0m\u001b[0;34m\u001b[0m\u001b[0;34m\u001b[0m\u001b[0m\n\u001b[0;32m--> 295\u001b[0;31m                 \u001b[0mwaiter\u001b[0m\u001b[0;34m.\u001b[0m\u001b[0macquire\u001b[0m\u001b[0;34m(\u001b[0m\u001b[0;34m)\u001b[0m\u001b[0;34m\u001b[0m\u001b[0;34m\u001b[0m\u001b[0m\n\u001b[0m\u001b[1;32m    296\u001b[0m                 \u001b[0mgotit\u001b[0m \u001b[0;34m=\u001b[0m \u001b[0;32mTrue\u001b[0m\u001b[0;34m\u001b[0m\u001b[0;34m\u001b[0m\u001b[0m\n\u001b[1;32m    297\u001b[0m             \u001b[0;32melse\u001b[0m\u001b[0;34m:\u001b[0m\u001b[0;34m\u001b[0m\u001b[0;34m\u001b[0m\u001b[0m\n",
            "\u001b[0;31mKeyboardInterrupt\u001b[0m: "
          ]
        }
      ]
    },
    {
      "cell_type": "markdown",
      "metadata": {
        "id": "uHZ-F1E26cP7",
        "colab_type": "text"
      },
      "source": [
        "# Pca para los datos de manera separada"
      ]
    },
    {
      "cell_type": "markdown",
      "metadata": {
        "id": "XK1l5U1M8ZP1",
        "colab_type": "text"
      },
      "source": [
        "**Para las imagenes promedio**"
      ]
    },
    {
      "cell_type": "code",
      "metadata": {
        "id": "4VwTil5u8her",
        "colab_type": "code",
        "colab": {}
      },
      "source": [
        "scaler = MinMaxScaler(feature_range=[0,1])"
      ],
      "execution_count": 0,
      "outputs": []
    },
    {
      "cell_type": "code",
      "metadata": {
        "id": "UORdhqGl8hnp",
        "colab_type": "code",
        "colab": {}
      },
      "source": [
        "data_rescaled = scaler.fit_transform(x1)"
      ],
      "execution_count": 0,
      "outputs": []
    },
    {
      "cell_type": "code",
      "metadata": {
        "id": "0LChG8bR8rHl",
        "colab_type": "code",
        "colab": {}
      },
      "source": [
        "from sklearn.decomposition import PCA as pca\n",
        "pca = pca().fit(data_rescaled)"
      ],
      "execution_count": 0,
      "outputs": []
    },
    {
      "cell_type": "code",
      "metadata": {
        "id": "q8XffckSoCuU",
        "colab_type": "code",
        "colab": {
          "base_uri": "https://localhost:8080/",
          "height": 295
        },
        "outputId": "39e0b967-5dac-442b-a91e-439d98502347"
      },
      "source": [
        "#dibujo la suma de la varianza acumulativa\n",
        "plt.figure()\n",
        "plt.plot(np.cumsum(pca.explained_variance_ratio_))\n",
        "plt.xlabel('Number of components')\n",
        "plt.ylabel('Variance (%)') #for each component\n",
        "plt.title('Average image polyp dataset explained variance')\n",
        "plt.show()"
      ],
      "execution_count": 128,
      "outputs": [
        {
          "output_type": "display_data",
          "data": {
            "image/png": "[encoded data removed]",
            "text/plain": [
              "<Figure size 432x288 with 1 Axes>"
            ]
          },
          "metadata": {
            "tags": []
          }
        }
      ]
    },
    {
      "cell_type": "code",
      "metadata": {
        "id": "9WYxBtRH_Ptg",
        "colab_type": "code",
        "colab": {}
      },
      "source": [
        "acp2 = pca(n_components = 30)\n",
        "img_avg = acp2.fit_transform(x1)"
      ],
      "execution_count": 0,
      "outputs": []
    },
    {
      "cell_type": "code",
      "metadata": {
        "id": "oz77B9DZ_ufV",
        "colab_type": "code",
        "colab": {
          "base_uri": "https://localhost:8080/",
          "height": 34
        },
        "outputId": "24ec8acd-6ea0-4a61-9098-cfae50bbc12c"
      },
      "source": [
        "img_avg.shape"
      ],
      "execution_count": 132,
      "outputs": [
        {
          "output_type": "execute_result",
          "data": {
            "text/plain": [
              "(152, 30)"
            ]
          },
          "metadata": {
            "tags": []
          },
          "execution_count": 132
        }
      ]
    },
    {
      "cell_type": "markdown",
      "metadata": {
        "id": "Vk5zvDJ0_EUl",
        "colab_type": "text"
      },
      "source": [
        "**SVM**"
      ]
    },
    {
      "cell_type": "code",
      "metadata": {
        "id": "dOjpq8HZ852m",
        "colab_type": "code",
        "colab": {
          "base_uri": "https://localhost:8080/",
          "height": 34
        },
        "outputId": "32050783-e4ad-4f8a-b997-2f1393d7d0a9"
      },
      "source": [
        "#particion train and test\n",
        "from sklearn.model_selection import train_test_split\n",
        "test_size = 0.2\n",
        "x_train, x_test, y_train, y_test = train_test_split(img_avg,y1,test_size=test_size)\n",
        "print (y_test)"
      ],
      "execution_count": 135,
      "outputs": [
        {
          "output_type": "stream",
          "text": [
            "[3 5 2 2 3 5 2 6 6 1 1 4 1 1 4 4 1 1 1 1 3 6 2 5 3 3 2 5 1 1 3]\n"
          ],
          "name": "stdout"
        }
      ]
    },
    {
      "cell_type": "code",
      "metadata": {
        "id": "fYChvfZiAJKC",
        "colab_type": "code",
        "colab": {}
      },
      "source": [
        "svm2 = svm.SVC(kernel='linear', C=1.0)"
      ],
      "execution_count": 0,
      "outputs": []
    },
    {
      "cell_type": "code",
      "metadata": {
        "id": "VRjP310yASNM",
        "colab_type": "code",
        "colab": {
          "base_uri": "https://localhost:8080/",
          "height": 85
        },
        "outputId": "f7dae18a-c130-4471-9e01-1232a430f41d"
      },
      "source": [
        "svm2.fit(x_train,y_train)"
      ],
      "execution_count": 137,
      "outputs": [
        {
          "output_type": "execute_result",
          "data": {
            "text/plain": [
              "SVC(C=1.0, cache_size=200, class_weight=None, coef0=0.0,\n",
              "    decision_function_shape='ovr', degree=3, gamma='auto_deprecated',\n",
              "    kernel='linear', max_iter=-1, probability=False, random_state=None,\n",
              "    shrinking=True, tol=0.001, verbose=False)"
            ]
          },
          "metadata": {
            "tags": []
          },
          "execution_count": 137
        }
      ]
    },
    {
      "cell_type": "code",
      "metadata": {
        "id": "97cDpuwtASco",
        "colab_type": "code",
        "colab": {}
      },
      "source": [
        "cv3 = KFold(n_splits = img_avg.shape[0], shuffle = True, random_state = 1)"
      ],
      "execution_count": 0,
      "outputs": []
    },
    {
      "cell_type": "code",
      "metadata": {
        "id": "HD50lxQUASop",
        "colab_type": "code",
        "colab": {
          "base_uri": "https://localhost:8080/",
          "height": 34
        },
        "outputId": "92718b1c-de24-4f74-e781-3ef4f460e860"
      },
      "source": [
        "acc2 = np.mean(cross_val_score(svm2, img_avg, y1, scoring = \"accuracy\", cv = cv3, n_jobs=1))\n",
        "acc2"
      ],
      "execution_count": 140,
      "outputs": [
        {
          "output_type": "execute_result",
          "data": {
            "text/plain": [
              "0.23684210526315788"
            ]
          },
          "metadata": {
            "tags": []
          },
          "execution_count": 140
        }
      ]
    },
    {
      "cell_type": "markdown",
      "metadata": {
        "id": "YjkiKkpVCOvL",
        "colab_type": "text"
      },
      "source": [
        "**Random Forest**"
      ]
    },
    {
      "cell_type": "code",
      "metadata": {
        "id": "1GpRvWH_BBOV",
        "colab_type": "code",
        "colab": {
          "base_uri": "https://localhost:8080/",
          "height": 187
        },
        "outputId": "6e52ad55-06c1-4f31-aabc-d87229830a5a"
      },
      "source": [
        "acc = -999\n",
        "depth = 0\n",
        "for i in range(10, 100, 10):\n",
        "  forest2 = RandomForestClassifier(n_jobs=2, oob_score=True, n_estimators= i)\n",
        "  forest2.fit(x_train, y_train)\n",
        "  score = forest2.score(x_test, y_test)\n",
        "  print(\"score para profundidad: \", i, \"fue de: \",score)\n",
        "  if (score > acc):\n",
        "    acc = score\n",
        "    depth = i\n",
        "    #salving the model\n",
        "    filename2 = 'randomForestAvg_img.sav'\n",
        "    pickle.dump(forest1, open(filename2, 'wb'))\n",
        "\n",
        "print(\"la mejor profundidad: \", depth)"
      ],
      "execution_count": 146,
      "outputs": [
        {
          "output_type": "stream",
          "text": [
            "score para profundidad:  10 fue de:  0.1935483870967742\n",
            "score para profundidad:  20 fue de:  0.25806451612903225\n",
            "score para profundidad:  30 fue de:  0.22580645161290322\n",
            "score para profundidad:  40 fue de:  0.1935483870967742\n",
            "score para profundidad:  50 fue de:  0.12903225806451613\n",
            "score para profundidad:  60 fue de:  0.16129032258064516\n",
            "score para profundidad:  70 fue de:  0.0967741935483871\n",
            "score para profundidad:  80 fue de:  0.0967741935483871\n",
            "score para profundidad:  90 fue de:  0.22580645161290322\n",
            "la mejor profundidad:  20\n"
          ],
          "name": "stdout"
        }
      ]
    },
    {
      "cell_type": "markdown",
      "metadata": {
        "id": "DXmYm5LSDU7B",
        "colab_type": "text"
      },
      "source": [
        "**Para imagenes de varianza**"
      ]
    },
    {
      "cell_type": "code",
      "metadata": {
        "id": "MprBqG_zC2ZC",
        "colab_type": "code",
        "colab": {}
      },
      "source": [
        "scaler = MinMaxScaler(feature_range=[0,1])"
      ],
      "execution_count": 0,
      "outputs": []
    },
    {
      "cell_type": "code",
      "metadata": {
        "id": "jpsVuUk1DhsN",
        "colab_type": "code",
        "colab": {}
      },
      "source": [
        "data_rescaled = scaler.fit_transform(x2)"
      ],
      "execution_count": 0,
      "outputs": []
    },
    {
      "cell_type": "code",
      "metadata": {
        "id": "-uvj3K80DrNl",
        "colab_type": "code",
        "colab": {}
      },
      "source": [
        "pca = pca().fit(data_rescaled)"
      ],
      "execution_count": 0,
      "outputs": []
    },
    {
      "cell_type": "code",
      "metadata": {
        "id": "y416YXiwDwCJ",
        "colab_type": "code",
        "colab": {
          "base_uri": "https://localhost:8080/",
          "height": 295
        },
        "outputId": "ada5b118-0ffd-42ea-bb60-a770fb4d7bf8"
      },
      "source": [
        "#dibujo la suma de la varianza acumulativa\n",
        "plt.figure()\n",
        "plt.plot(np.cumsum(pca.explained_variance_ratio_))\n",
        "plt.xlabel('Number of components')\n",
        "plt.ylabel('Variance (%)') #for each component\n",
        "plt.title('Variance image polyp dataset explained variance')\n",
        "plt.show()"
      ],
      "execution_count": 151,
      "outputs": [
        {
          "output_type": "display_data",
          "data": {
            "image/png": "[encoded data removed]",
            "text/plain": [
              "<Figure size 432x288 with 1 Axes>"
            ]
          },
          "metadata": {
            "tags": []
          }
        }
      ]
    },
    {
      "cell_type": "code",
      "metadata": {
        "id": "n9xQM53tEHpI",
        "colab_type": "code",
        "colab": {}
      },
      "source": [
        "from sklearn.decomposition import PCA as pca\n",
        "acp3 = pca(n_components = 60)\n",
        "img_var = acp3.fit_transform(x2)"
      ],
      "execution_count": 0,
      "outputs": []
    },
    {
      "cell_type": "code",
      "metadata": {
        "id": "z2sZJ_vXE8GN",
        "colab_type": "code",
        "colab": {
          "base_uri": "https://localhost:8080/",
          "height": 34
        },
        "outputId": "e0209aa6-f7da-4530-87a4-6fa16bc44422"
      },
      "source": [
        "img_var.shape"
      ],
      "execution_count": 155,
      "outputs": [
        {
          "output_type": "execute_result",
          "data": {
            "text/plain": [
              "(152, 60)"
            ]
          },
          "metadata": {
            "tags": []
          },
          "execution_count": 155
        }
      ]
    },
    {
      "cell_type": "markdown",
      "metadata": {
        "id": "Z906RraUD8hJ",
        "colab_type": "text"
      },
      "source": [
        "**SVM**"
      ]
    },
    {
      "cell_type": "code",
      "metadata": {
        "id": "8T8_Uqf6Dz2W",
        "colab_type": "code",
        "colab": {
          "base_uri": "https://localhost:8080/",
          "height": 34
        },
        "outputId": "f59f327c-8ba0-4b93-fe7a-ddb8862e80f8"
      },
      "source": [
        "#particion train and test\n",
        "from sklearn.model_selection import train_test_split\n",
        "test_size = 0.2\n",
        "x_train, x_test, y_train, y_test = train_test_split(img_var,y2,test_size=test_size)\n",
        "print (y_test)"
      ],
      "execution_count": 156,
      "outputs": [
        {
          "output_type": "stream",
          "text": [
            "[2 6 5 1 3 6 5 1 1 2 1 1 6 3 1 1 4 1 2 4 5 2 2 3 1 4 6 1 2 3 5]\n"
          ],
          "name": "stdout"
        }
      ]
    },
    {
      "cell_type": "code",
      "metadata": {
        "id": "Sn9f3XUeFDkG",
        "colab_type": "code",
        "colab": {}
      },
      "source": [
        "svm3 = svm.SVC(kernel='linear', C=1.0)"
      ],
      "execution_count": 0,
      "outputs": []
    },
    {
      "cell_type": "code",
      "metadata": {
        "id": "c1aVkTp_FJ7t",
        "colab_type": "code",
        "colab": {
          "base_uri": "https://localhost:8080/",
          "height": 85
        },
        "outputId": "b16ec5fb-3e5c-4061-a920-322d323e78f3"
      },
      "source": [
        "svm3.fit(x_train,y_train)"
      ],
      "execution_count": 158,
      "outputs": [
        {
          "output_type": "execute_result",
          "data": {
            "text/plain": [
              "SVC(C=1.0, cache_size=200, class_weight=None, coef0=0.0,\n",
              "    decision_function_shape='ovr', degree=3, gamma='auto_deprecated',\n",
              "    kernel='linear', max_iter=-1, probability=False, random_state=None,\n",
              "    shrinking=True, tol=0.001, verbose=False)"
            ]
          },
          "metadata": {
            "tags": []
          },
          "execution_count": 158
        }
      ]
    },
    {
      "cell_type": "code",
      "metadata": {
        "id": "pIp0qTZhFSSu",
        "colab_type": "code",
        "colab": {}
      },
      "source": [
        "cv = KFold(n_splits = img_var.shape[0], shuffle = True, random_state = 1)"
      ],
      "execution_count": 0,
      "outputs": []
    },
    {
      "cell_type": "code",
      "metadata": {
        "id": "HGJt90vlFYnk",
        "colab_type": "code",
        "colab": {
          "base_uri": "https://localhost:8080/",
          "height": 34
        },
        "outputId": "f0975291-72ab-4ea0-f8ef-42e86cfd6395"
      },
      "source": [
        "acc3 = np.mean(cross_val_score(svm3, img_var, y2, scoring = \"accuracy\", cv = cv, n_jobs=1))\n",
        "acc3"
      ],
      "execution_count": 160,
      "outputs": [
        {
          "output_type": "execute_result",
          "data": {
            "text/plain": [
              "0.3092105263157895"
            ]
          },
          "metadata": {
            "tags": []
          },
          "execution_count": 160
        }
      ]
    },
    {
      "cell_type": "markdown",
      "metadata": {
        "id": "0CFYHXElF2Yt",
        "colab_type": "text"
      },
      "source": [
        "**Radom Forest**"
      ]
    },
    {
      "cell_type": "code",
      "metadata": {
        "id": "rOpdE1RfFjf0",
        "colab_type": "code",
        "colab": {
          "base_uri": "https://localhost:8080/",
          "height": 323
        },
        "outputId": "a4623017-7113-4123-c663-6f0aac6b708c"
      },
      "source": [
        "acc = -999\n",
        "depth = 0\n",
        "for i in range(10, 100, 10):\n",
        "  forest3 = RandomForestClassifier(n_jobs=2, oob_score=True, n_estimators= i)\n",
        "  forest3.fit(x_train, y_train)\n",
        "  score = forest3.score(x_test, y_test)\n",
        "  print(\"score para profundidad: \", i, \"fue de: \",score)\n",
        "  if (score > acc):\n",
        "    acc = score\n",
        "    depth = i\n",
        "    #salving the model\n",
        "    filename3 = 'randomForestVar_img.sav'\n",
        "    pickle.dump(forest3, open(filename3, 'wb'))\n",
        "\n",
        "print(\"la mejor profundidad: \", depth)"
      ],
      "execution_count": 165,
      "outputs": [
        {
          "output_type": "stream",
          "text": [
            "/usr/local/lib/python3.6/dist-packages/sklearn/ensemble/forest.py:460: UserWarning:\n",
            "\n",
            "Some inputs do not have OOB scores. This probably means too few trees were used to compute any reliable oob estimates.\n",
            "\n",
            "/usr/local/lib/python3.6/dist-packages/sklearn/ensemble/forest.py:465: RuntimeWarning:\n",
            "\n",
            "invalid value encountered in true_divide\n",
            "\n"
          ],
          "name": "stderr"
        },
        {
          "output_type": "stream",
          "text": [
            "score para profundidad:  10 fue de:  0.3225806451612903\n",
            "score para profundidad:  20 fue de:  0.0967741935483871\n",
            "score para profundidad:  30 fue de:  0.22580645161290322\n",
            "score para profundidad:  40 fue de:  0.1935483870967742\n",
            "score para profundidad:  50 fue de:  0.16129032258064516\n",
            "score para profundidad:  60 fue de:  0.3225806451612903\n",
            "score para profundidad:  70 fue de:  0.3225806451612903\n",
            "score para profundidad:  80 fue de:  0.22580645161290322\n",
            "score para profundidad:  90 fue de:  0.2903225806451613\n",
            "la mejor profundidad:  10\n"
          ],
          "name": "stdout"
        }
      ]
    },
    {
      "cell_type": "markdown",
      "metadata": {
        "id": "UpSTX1vLG4cE",
        "colab_type": "text"
      },
      "source": [
        "**Para imágenes de derivada**"
      ]
    },
    {
      "cell_type": "code",
      "metadata": {
        "id": "jhDOA3EcGJml",
        "colab_type": "code",
        "colab": {}
      },
      "source": [
        "scaler = MinMaxScaler(feature_range=[0,1])"
      ],
      "execution_count": 0,
      "outputs": []
    },
    {
      "cell_type": "code",
      "metadata": {
        "id": "FUj44KDmG_Sg",
        "colab_type": "code",
        "colab": {}
      },
      "source": [
        "data_rescaled = scaler.fit_transform(x3)"
      ],
      "execution_count": 0,
      "outputs": []
    },
    {
      "cell_type": "code",
      "metadata": {
        "id": "aZxF0q4BHD0h",
        "colab_type": "code",
        "colab": {}
      },
      "source": [
        "pca = pca().fit(data_rescaled)"
      ],
      "execution_count": 0,
      "outputs": []
    },
    {
      "cell_type": "code",
      "metadata": {
        "id": "M6b88kvRHG3V",
        "colab_type": "code",
        "colab": {
          "base_uri": "https://localhost:8080/",
          "height": 295
        },
        "outputId": "a50ed6f9-f67a-4d8d-b118-96269d43e68a"
      },
      "source": [
        "#dibujo la suma de la varianza acumulativa\n",
        "plt.figure()\n",
        "plt.plot(np.cumsum(pca.explained_variance_ratio_))\n",
        "plt.xlabel('Number of components')\n",
        "plt.ylabel('Variance (%)') #for each component\n",
        "plt.title('Sobel image polyp dataset explained variance')\n",
        "plt.show()"
      ],
      "execution_count": 169,
      "outputs": [
        {
          "output_type": "display_data",
          "data": {
            "image/png": "[encoded data removed]",
            "text/plain": [
              "<Figure size 432x288 with 1 Axes>"
            ]
          },
          "metadata": {
            "tags": []
          }
        }
      ]
    },
    {
      "cell_type": "code",
      "metadata": {
        "id": "WeIPzNpdHOJz",
        "colab_type": "code",
        "colab": {}
      },
      "source": [
        "from sklearn.decomposition import PCA as pca\n",
        "acp3 = pca(n_components = 80)\n",
        "img_der = acp3.fit_transform(x3)"
      ],
      "execution_count": 0,
      "outputs": []
    },
    {
      "cell_type": "code",
      "metadata": {
        "id": "EMGNaFwWHli-",
        "colab_type": "code",
        "colab": {
          "base_uri": "https://localhost:8080/",
          "height": 34
        },
        "outputId": "1514e687-4714-4c99-aff2-c8062e0a09ae"
      },
      "source": [
        "img_der.shape"
      ],
      "execution_count": 172,
      "outputs": [
        {
          "output_type": "execute_result",
          "data": {
            "text/plain": [
              "(152, 80)"
            ]
          },
          "metadata": {
            "tags": []
          },
          "execution_count": 172
        }
      ]
    },
    {
      "cell_type": "markdown",
      "metadata": {
        "id": "KaR2LxqPHuI1",
        "colab_type": "text"
      },
      "source": [
        "**SVM**"
      ]
    },
    {
      "cell_type": "code",
      "metadata": {
        "id": "GMzYZeVBHpb5",
        "colab_type": "code",
        "colab": {
          "base_uri": "https://localhost:8080/",
          "height": 34
        },
        "outputId": "3196568f-7799-4999-838e-36a4a6458ed9"
      },
      "source": [
        "#particion train and test\n",
        "from sklearn.model_selection import train_test_split\n",
        "test_size = 0.2\n",
        "x_train, x_test, y_train, y_test = train_test_split(img_der,y3,test_size=test_size)\n",
        "print (y_test)"
      ],
      "execution_count": 173,
      "outputs": [
        {
          "output_type": "stream",
          "text": [
            "[2 2 3 6 1 3 2 2 6 2 1 3 6 2 2 1 3 5 4 2 1 3 6 3 5 1 2 4 1 4 1]\n"
          ],
          "name": "stdout"
        }
      ]
    },
    {
      "cell_type": "code",
      "metadata": {
        "id": "MrZQ6zwzHy3o",
        "colab_type": "code",
        "colab": {}
      },
      "source": [
        "svm4 = svm.SVC(kernel='linear', C=1.0)"
      ],
      "execution_count": 0,
      "outputs": []
    },
    {
      "cell_type": "code",
      "metadata": {
        "id": "vkHmIUmyH4Tq",
        "colab_type": "code",
        "colab": {
          "base_uri": "https://localhost:8080/",
          "height": 85
        },
        "outputId": "a08888e7-6b84-4c26-e960-8325dd125a60"
      },
      "source": [
        "svm4.fit(x_train, y_train)"
      ],
      "execution_count": 175,
      "outputs": [
        {
          "output_type": "execute_result",
          "data": {
            "text/plain": [
              "SVC(C=1.0, cache_size=200, class_weight=None, coef0=0.0,\n",
              "    decision_function_shape='ovr', degree=3, gamma='auto_deprecated',\n",
              "    kernel='linear', max_iter=-1, probability=False, random_state=None,\n",
              "    shrinking=True, tol=0.001, verbose=False)"
            ]
          },
          "metadata": {
            "tags": []
          },
          "execution_count": 175
        }
      ]
    },
    {
      "cell_type": "code",
      "metadata": {
        "id": "PhMaC1yHH74U",
        "colab_type": "code",
        "colab": {}
      },
      "source": [
        "cv = KFold(n_splits = img_der.shape[0], shuffle = True, random_state = 1)"
      ],
      "execution_count": 0,
      "outputs": []
    },
    {
      "cell_type": "code",
      "metadata": {
        "id": "ws0Ss15_IBOD",
        "colab_type": "code",
        "colab": {
          "base_uri": "https://localhost:8080/",
          "height": 34
        },
        "outputId": "44f91f99-cd14-4fd3-8f22-598ce290c427"
      },
      "source": [
        "acc4 = np.mean(cross_val_score(svm4, img_der, y3, scoring = \"accuracy\", cv = cv, n_jobs=1))\n",
        "acc4"
      ],
      "execution_count": 177,
      "outputs": [
        {
          "output_type": "execute_result",
          "data": {
            "text/plain": [
              "0.34210526315789475"
            ]
          },
          "metadata": {
            "tags": []
          },
          "execution_count": 177
        }
      ]
    },
    {
      "cell_type": "markdown",
      "metadata": {
        "id": "dCJIlSRaIOo0",
        "colab_type": "text"
      },
      "source": [
        "**Random Forest**"
      ]
    },
    {
      "cell_type": "code",
      "metadata": {
        "id": "iHYBmU8kIJoE",
        "colab_type": "code",
        "colab": {
          "base_uri": "https://localhost:8080/",
          "height": 323
        },
        "outputId": "4b582917-37be-4370-cb85-c424bb4d3875"
      },
      "source": [
        "acc = -999\n",
        "depth = 0\n",
        "for i in range(10, 100, 10):\n",
        "  forest3 = RandomForestClassifier(n_jobs=2, oob_score=True, n_estimators= i)\n",
        "  forest3.fit(x_train, y_train)\n",
        "  score = forest3.score(x_test, y_test)\n",
        "  print(\"score para profundidad: \", i, \"fue de: \",score)\n",
        "  if (score > acc):\n",
        "    acc = score\n",
        "    depth = i\n",
        "    #salving the model\n",
        "    filename4 = 'randomForestDer_img.sav'\n",
        "    pickle.dump(forest3, open(filename4, 'wb'))\n",
        "\n",
        "print(\"la mejor profundidad: \", depth)"
      ],
      "execution_count": 182,
      "outputs": [
        {
          "output_type": "stream",
          "text": [
            "/usr/local/lib/python3.6/dist-packages/sklearn/ensemble/forest.py:460: UserWarning:\n",
            "\n",
            "Some inputs do not have OOB scores. This probably means too few trees were used to compute any reliable oob estimates.\n",
            "\n",
            "/usr/local/lib/python3.6/dist-packages/sklearn/ensemble/forest.py:465: RuntimeWarning:\n",
            "\n",
            "invalid value encountered in true_divide\n",
            "\n"
          ],
          "name": "stderr"
        },
        {
          "output_type": "stream",
          "text": [
            "score para profundidad:  10 fue de:  0.1935483870967742\n",
            "score para profundidad:  20 fue de:  0.22580645161290322\n",
            "score para profundidad:  30 fue de:  0.16129032258064516\n",
            "score para profundidad:  40 fue de:  0.22580645161290322\n",
            "score para profundidad:  50 fue de:  0.16129032258064516\n",
            "score para profundidad:  60 fue de:  0.3225806451612903\n",
            "score para profundidad:  70 fue de:  0.22580645161290322\n",
            "score para profundidad:  80 fue de:  0.1935483870967742\n",
            "score para profundidad:  90 fue de:  0.16129032258064516\n",
            "la mejor profundidad:  60\n"
          ],
          "name": "stdout"
        }
      ]
    },
    {
      "cell_type": "code",
      "metadata": {
        "id": "ts-rt6qgIfIX",
        "colab_type": "code",
        "colab": {}
      },
      "source": [
        ""
      ],
      "execution_count": 0,
      "outputs": []
    }
  ]
}