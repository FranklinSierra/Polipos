{
 "cells": [
  {
   "cell_type": "code",
   "execution_count": 2,
   "metadata": {},
   "outputs": [],
   "source": [
    "import matplotlib.pyplot as plt"
   ]
  },
  {
   "cell_type": "code",
   "execution_count": 3,
   "metadata": {},
   "outputs": [
    {
     "data": {
      "image/png": "[encoded data removed]",
      "text/plain": [
       "<Figure size 432x288 with 1 Axes>"
      ]
     },
     "metadata": {
      "needs_background": "light"
     },
     "output_type": "display_data"
    }
   ],
   "source": [
    "# x-coordinates of left sides of bars  \n",
    "left = [1, 2, 3] \n",
    "  \n",
    "# heights of bars \n",
    "height = [18.54, 21.79, 19.79] \n",
    "  \n",
    "# labels for bars \n",
    "tick_label = ['avg', 'variance', 'sobel'] \n",
    "  \n",
    "# plotting a bar chart \n",
    "plt.bar(left, height, tick_label = tick_label, \n",
    "        width = 0.8, color = ['red', 'green', 'blue']) \n",
    "  \n",
    "# naming the x-axis \n",
    "plt.xlabel('Type of image') \n",
    "# naming the y-axis \n",
    "plt.ylabel('% Accuracy') \n",
    "# plot title \n",
    "plt.title('SVM with data normalized') \n",
    "  \n",
    "# function to show the plot \n",
    "plt.show() "
   ]
  },
  {
   "cell_type": "code",
   "execution_count": null,
   "metadata": {},
   "outputs": [],
   "source": []
  },
  {
   "cell_type": "code",
   "execution_count": 4,
   "metadata": {},
   "outputs": [
    {
     "data": {
      "image/png": "[encoded data removed]",
      "text/plain": [
       "<Figure size 432x288 with 1 Axes>"
      ]
     },
     "metadata": {
      "needs_background": "light"
     },
     "output_type": "display_data"
    }
   ],
   "source": [
    "# x-coordinates of left sides of bars  \n",
    "left = [1, 2, 3] \n",
    "  \n",
    "# heights of bars \n",
    "height = [32.89, 31.58, 32.24] \n",
    "  \n",
    "# labels for bars \n",
    "tick_label = ['avg', 'variance', 'sobel'] \n",
    "  \n",
    "# plotting a bar chart \n",
    "plt.bar(left, height, tick_label = tick_label, \n",
    "        width = 0.8, color = ['red', 'green', 'blue']) \n",
    "  \n",
    "# naming the x-axis \n",
    "plt.xlabel('Type of image') \n",
    "# naming the y-axis \n",
    "plt.ylabel('% Accuracy') \n",
    "# plot title \n",
    "plt.title('SVM with data standardizated') \n",
    "  \n",
    "# function to show the plot \n",
    "plt.show() "
   ]
  },
  {
   "cell_type": "code",
   "execution_count": null,
   "metadata": {},
   "outputs": [],
   "source": []
  }
 ],
 "metadata": {
  "kernelspec": {
   "display_name": "Python 3",
   "language": "python",
   "name": "python3"
  },
  "language_info": {
   "codemirror_mode": {
    "name": "ipython",
    "version": 3
   },
   "file_extension": ".py",
   "mimetype": "text/x-python",
   "name": "python",
   "nbconvert_exporter": "python",
   "pygments_lexer": "ipython3",
   "version": "3.6.8"
  }
 },
 "nbformat": 4,
 "nbformat_minor": 2
}
