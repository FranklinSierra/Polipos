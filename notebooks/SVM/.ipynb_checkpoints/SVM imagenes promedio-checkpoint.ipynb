{
 "cells": [
  {
   "cell_type": "code",
   "execution_count": 3,
   "metadata": {},
   "outputs": [],
   "source": [
    "import numpy as np\n",
    "import matplotlib.pyplot as plt\n",
    "from matplotlib import style\n",
    "from sklearn import svm\n",
    "style.use(\"ggplot\")\n",
    "import cv2 as cv\n",
    "import os\n",
    "import sys"
   ]
  },
  {
   "cell_type": "code",
   "execution_count": 4,
   "metadata": {},
   "outputs": [
    {
     "name": "stdout",
     "output_type": "stream",
     "text": [
      "['adenomaNbi', 'adenomaWl', 'hyperplasNbi', 'hyperplasWl', 'serratedNbi', 'serratedWl']\n",
      "class:  adenomaNbi  total samples:  40\n",
      "class:  adenomaWl  total samples:  40\n",
      "class:  hyperplasNbi  total samples:  21\n",
      "class:  hyperplasWl  total samples:  21\n",
      "class:  serratedNbi  total samples:  15\n",
      "class:  serratedWl  total samples:  15\n"
     ]
    }
   ],
   "source": [
    "path_classes = '/Users/usuario/Documents/dataSet/Experimentos/notebooks/mix_avg_img/'\n",
    "classes_names = os.listdir(path_classes)\n",
    "print(classes_names)\n",
    "\n",
    "dic_imgs ={}\n",
    "\n",
    "for i, name_class in enumerate(classes_names):\n",
    "    dic_imgs[classes_names[i]]=np.array(os.listdir(path_classes + classes_names[i]))\n",
    "    print (\"class: \", name_class, \" total samples: \", len(dic_imgs[classes_names[i]]))"
   ]
  },
  {
   "cell_type": "code",
   "execution_count": 5,
   "metadata": {},
   "outputs": [
    {
     "name": "stdout",
     "output_type": "stream",
     "text": [
      "1 clase:  adenomaNbi  y_value: 1  total:  40\n",
      "2 clase:  adenomaWl  y_value: 2  total:  40\n",
      "3 clase:  hyperplasNbi  y_value: 3  total:  21\n",
      "4 clase:  hyperplasWl  y_value: 4  total:  21\n",
      "5 clase:  serratedNbi  y_value: 5  total:  15\n",
      "6 clase:  serratedWl  y_value: 6  total:  15\n"
     ]
    }
   ],
   "source": [
    "X =[]\n",
    "y =[]\n",
    "resize_value = 100\n",
    "for i, classes in enumerate(classes_names):\n",
    "    print((i+1), \"clase: \", classes, \" y_value:\",  (i+1), \" total: \", len(dic_imgs[classes]))    \n",
    "    for im_name in dic_imgs[classes]:\n",
    "        path_image = path_classes+classes+'/'+im_name        \n",
    "        img = cv.resize(cv.imread(path_image,0), (100, 100))*1.\n",
    "        flatt_img = img.reshape(resize_value*resize_value)\n",
    "        X.append(flatt_img)\n",
    "        #print len(X)\n",
    "        y.append(i+1)\n",
    "\n",
    "X = np.r_[X]        \n",
    "y = np.r_[y]"
   ]
  },
  {
   "cell_type": "code",
   "execution_count": 6,
   "metadata": {},
   "outputs": [
    {
     "name": "stdout",
     "output_type": "stream",
     "text": [
      "[3 1 4 2 1 5 6 1 2 2 6 1 1 4 1 6 1 5 6 3 3 4 2 2 4 5 1 4 5 1 3]\n"
     ]
    }
   ],
   "source": [
    "from sklearn.model_selection import train_test_split\n",
    "test_size = 0.2\n",
    "X_train, X_test, y_train, y_test = train_test_split(X,y,test_size=test_size)\n",
    "print (y_test)"
   ]
  },
  {
   "cell_type": "code",
   "execution_count": 7,
   "metadata": {},
   "outputs": [
    {
     "data": {
      "text/plain": [
       "SVC(C=1.0, cache_size=200, class_weight=None, coef0=0.0,\n",
       "  decision_function_shape='ovr', degree=3, gamma='auto_deprecated',\n",
       "  kernel='linear', max_iter=-1, probability=False, random_state=None,\n",
       "  shrinking=True, tol=0.001, verbose=False)"
      ]
     },
     "execution_count": 7,
     "metadata": {},
     "output_type": "execute_result"
    }
   ],
   "source": [
    "classifier = svm.SVC(kernel='linear', C=1.0)\n",
    "classifier.fit(X_train,y_train)"
   ]
  },
  {
   "cell_type": "code",
   "execution_count": 8,
   "metadata": {},
   "outputs": [
    {
     "data": {
      "text/plain": [
       "0.3870967741935484"
      ]
     },
     "execution_count": 8,
     "metadata": {},
     "output_type": "execute_result"
    }
   ],
   "source": [
    "classifier.score(X_test,y_test)"
   ]
  },
  {
   "cell_type": "code",
   "execution_count": null,
   "metadata": {},
   "outputs": [],
   "source": []
  }
 ],
 "metadata": {
  "kernelspec": {
   "display_name": "Python 3",
   "language": "python",
   "name": "python3"
  },
  "language_info": {
   "codemirror_mode": {
    "name": "ipython",
    "version": 3
   },
   "file_extension": ".py",
   "mimetype": "text/x-python",
   "name": "python",
   "nbconvert_exporter": "python",
   "pygments_lexer": "ipython3",
   "version": "3.7.3"
  }
 },
 "nbformat": 4,
 "nbformat_minor": 2
}
