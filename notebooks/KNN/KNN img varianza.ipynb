{
 "cells": [
  {
   "cell_type": "code",
   "execution_count": 36,
   "metadata": {
    "collapsed": true
   },
   "outputs": [],
   "source": [
    "import cv2 as cv\n",
    "import os\n",
    "import sys\n",
    "import numpy as np\n",
    "import matplotlib.pyplot as plt\n",
    "from ipywidgets import interact, interactive, fixed, interact_manual\n",
    "import ipywidgets as widgets\n",
    "from sklearn.neighbors import KNeighborsClassifier\n",
    "from sklearn import preprocessing\n",
    "from sklearn.model_selection import KFold\n",
    "from sklearn.model_selection import cross_val_score"
   ]
  },
  {
   "cell_type": "markdown",
   "metadata": {},
   "source": [
    "# <span style=\"color:red\">KNN para varianza</span>"
   ]
  },
  {
   "cell_type": "code",
   "execution_count": 37,
   "metadata": {},
   "outputs": [
    {
     "name": "stdout",
     "output_type": "stream",
     "text": [
      "['hiperplasNbi', 'adenomaWl', 'serratedWl', 'serratedNbi', 'hiperplasWl', 'adenomaNbi']\n",
      "class:  hiperplasNbi total  21\n",
      "class:  adenomaWl total  40\n",
      "class:  serratedWl total  15\n",
      "class:  serratedNbi total  15\n",
      "class:  hiperplasWl total  21\n",
      "class:  adenomaNbi total  40\n"
     ]
    }
   ],
   "source": [
    "path_classes = \"/home/franklinsierra/Documentos/Biomedica/Experimentos/notebooks/mix_var_img/\"\n",
    "classes_names = os.listdir(path_classes)\n",
    "print (classes_names)\n",
    "dic_img ={}\n",
    "\n",
    "for i, name_class in enumerate(classes_names):\n",
    "    dic_img[classes_names[i]] = np.array(os.listdir(path_classes+classes_names[i]))\n",
    "    print (\"class: \", name_class, \"total \", len(dic_img[classes_names[i]]))"
   ]
  },
  {
   "cell_type": "code",
   "execution_count": 38,
   "metadata": {},
   "outputs": [
    {
     "name": "stdout",
     "output_type": "stream",
     "text": [
      "1 clase:  hiperplasNbi y_valor:  1 total:  21\n",
      "2 clase:  adenomaWl y_valor:  2 total:  40\n",
      "3 clase:  serratedWl y_valor:  3 total:  15\n",
      "4 clase:  serratedNbi y_valor:  4 total:  15\n",
      "5 clase:  hiperplasWl y_valor:  5 total:  21\n",
      "6 clase:  adenomaNbi y_valor:  6 total:  40\n"
     ]
    }
   ],
   "source": [
    "X = []\n",
    "y = []\n",
    "resize_value = 100\n",
    "\n",
    "for i, classes in enumerate(classes_names):\n",
    "    print((i+1), \"clase: \", classes, \"y_valor: \", (i+1), \"total: \", len(dic_img[classes]))\n",
    "    for img_name in dic_img[classes]:\n",
    "        path_image = path_classes+classes+'/'+img_name\n",
    "        img = cv.resize(cv.imread(path_image,0),(100,100))*1.\n",
    "        flatt_img = img.reshape(resize_value*resize_value)\n",
    "        X.append(flatt_img)\n",
    "        y.append(i+1)\n",
    "X = np.r_[X]        \n",
    "y = np.r_[y]"
   ]
  },
  {
   "cell_type": "markdown",
   "metadata": {},
   "source": [
    "### Normalizando"
   ]
  },
  {
   "cell_type": "code",
   "execution_count": 39,
   "metadata": {
    "collapsed": true
   },
   "outputs": [],
   "source": [
    "X_norm = preprocessing.normalize(X)"
   ]
  },
  {
   "cell_type": "code",
   "execution_count": 40,
   "metadata": {},
   "outputs": [
    {
     "name": "stdout",
     "output_type": "stream",
     "text": [
      "[2 6 6 1 4 2 2 4 6 2 5 3 6 2 6 1 1 3 6 1 6 6 6 6 6 1 6 6 2 1 3]\n"
     ]
    }
   ],
   "source": [
    "from sklearn.model_selection import train_test_split\n",
    "test_size = 0.2\n",
    "X_train, X_test, y_train, y_test = train_test_split(X_norm,y,test_size=test_size)\n",
    "print (y_test)"
   ]
  },
  {
   "cell_type": "code",
   "execution_count": 41,
   "metadata": {},
   "outputs": [
    {
     "name": "stdout",
     "output_type": "stream",
     "text": [
      "K vecino:  1 accuracy:  0.22580645161290322\n",
      "K vecino:  2 accuracy:  0.22580645161290322\n",
      "K vecino:  4 accuracy:  0.25806451612903225\n",
      "K vecino:  6 accuracy:  0.1935483870967742\n",
      "K vecino:  8 accuracy:  0.2903225806451613\n",
      "K vecino:  10 accuracy:  0.12903225806451613\n",
      "K vecino:  20 accuracy:  0.16129032258064516\n",
      "K vecino:  30 accuracy:  0.12903225806451613\n",
      "K vecino:  40 accuracy:  0.16129032258064516\n",
      "K vecino:  80 accuracy:  0.1935483870967742\n",
      "K vecino:  100 accuracy:  0.22580645161290322\n",
      "El k que da mejor resultado es:  8\n",
      "accuracy:  0.2903225806451613\n"
     ]
    }
   ],
   "source": [
    "max_val = -1\n",
    "k_neighbors = [1,2,4,6,8,10,20,30,40,80,100]\n",
    "for j in list(k_neighbors):\n",
    "        neigh = KNeighborsClassifier(n_neighbors=j)\n",
    "        neigh.fit(X_train, y_train)\n",
    "        accuracy = neigh.score(X_test, y_test)\n",
    "        print(\"K vecino: \", j, \"accuracy: \", neigh.score(X_test, y_test))\n",
    "        if accuracy > max_val:\n",
    "            max_val = accuracy\n",
    "            k_neighbor = j\n",
    "            \n",
    "neigh = KNeighborsClassifier(n_neighbors=k_neighbor)\n",
    "neigh.fit(X_train, y_train)\n",
    "accuracy = neigh.score(X_test, y_test)\n",
    "print(\"El k que da mejor resultado es: \", k_neighbor)\n",
    "print(\"accuracy: \", accuracy)   "
   ]
  },
  {
   "cell_type": "code",
   "execution_count": 42,
   "metadata": {
    "collapsed": true
   },
   "outputs": [],
   "source": [
    "cv = KFold(n_splits = 10, shuffle = True, random_state = 1)"
   ]
  },
  {
   "cell_type": "code",
   "execution_count": 43,
   "metadata": {},
   "outputs": [
    {
     "data": {
      "text/plain": [
       "0.2633333333333333"
      ]
     },
     "execution_count": 43,
     "metadata": {},
     "output_type": "execute_result"
    }
   ],
   "source": [
    "score = np.mean(cross_val_score(neigh, X_norm, y, scoring = \"accuracy\", cv = cv, n_jobs=1))\n",
    "score"
   ]
  },
  {
   "cell_type": "code",
   "execution_count": 44,
   "metadata": {},
   "outputs": [
    {
     "name": "stdout",
     "output_type": "stream",
     "text": [
      "Confusion matrix train\n",
      "[[ 6  2  0  4  2  3]\n",
      " [ 5 27  6  3 11 15]\n",
      " [ 0  1  3  1  1  0]\n",
      " [ 0  1  3  2  0  0]\n",
      " [ 4  0  0  1  6  0]\n",
      " [ 0  3  0  2  0  9]]\n",
      "=========================\n",
      "Confusion matrix test\n",
      "[[ 2  1  0  0  0  0]\n",
      " [ 1  4  1  0  1 10]\n",
      " [ 0  0  0  1  0  0]\n",
      " [ 0  0  1  0  0  0]\n",
      " [ 3  0  0  0  0  0]\n",
      " [ 0  1  1  1  0  3]]\n"
     ]
    }
   ],
   "source": [
    "from sklearn.metrics import confusion_matrix\n",
    "\n",
    "predicciones_train = neigh.predict(X_train)\n",
    "predicciones_test = neigh.predict(X_test)\n",
    "\n",
    "cm_train = confusion_matrix(predicciones_train, y_train)\n",
    "cm_test = confusion_matrix(predicciones_test, y_test)\n",
    "print(\"Confusion matrix train\")\n",
    "print(cm_train)\n",
    "print(\"=========================\")\n",
    "print(\"Confusion matrix test\")\n",
    "print(cm_test)"
   ]
  },
  {
   "cell_type": "code",
   "execution_count": 45,
   "metadata": {},
   "outputs": [
    {
     "data": {
      "image/png": "[encoded data removed]",
      "text/plain": [
       "<Figure size 432x288 with 2 Axes>"
      ]
     },
     "metadata": {},
     "output_type": "display_data"
    }
   ],
   "source": [
    "plt.imshow(cm_test, interpolation=\"nearest\", cmap = plt.cm.Blues)\n",
    "plt.colorbar()\n",
    "plt.show()"
   ]
  },
  {
   "cell_type": "markdown",
   "metadata": {},
   "source": [
    "## Standardization version"
   ]
  },
  {
   "cell_type": "code",
   "execution_count": 46,
   "metadata": {
    "collapsed": true
   },
   "outputs": [],
   "source": [
    "X_cent = preprocessing.scale(X)"
   ]
  },
  {
   "cell_type": "code",
   "execution_count": 47,
   "metadata": {},
   "outputs": [
    {
     "name": "stdout",
     "output_type": "stream",
     "text": [
      "[2 6 3 2 2 6 3 6 3 6 1 2 2 1 6 6 5 2 4 4 6 4 3 1 2 2 6 5 4 1 1]\n"
     ]
    }
   ],
   "source": [
    "from sklearn.model_selection import train_test_split\n",
    "test_size = 0.2\n",
    "X_train, X_test, y_train, y_test = train_test_split(X_cent,y,test_size=test_size)\n",
    "print (y_test)"
   ]
  },
  {
   "cell_type": "code",
   "execution_count": 48,
   "metadata": {
    "collapsed": true
   },
   "outputs": [],
   "source": [
    "cv2 = KFold(n_splits = 10, shuffle = True, random_state = 1)"
   ]
  },
  {
   "cell_type": "code",
   "execution_count": 49,
   "metadata": {},
   "outputs": [
    {
     "data": {
      "text/plain": [
       "0.2629166666666667"
      ]
     },
     "execution_count": 49,
     "metadata": {},
     "output_type": "execute_result"
    }
   ],
   "source": [
    "score2 = np.mean(cross_val_score(neigh, X_cent, y, scoring = \"accuracy\", cv = cv2, n_jobs=1))\n",
    "score2"
   ]
  },
  {
   "cell_type": "markdown",
   "metadata": {},
   "source": [
    "## <span style=\"color:red\">LOOCV</span>"
   ]
  },
  {
   "cell_type": "markdown",
   "metadata": {},
   "source": [
    "### Normalized"
   ]
  },
  {
   "cell_type": "code",
   "execution_count": 12,
   "metadata": {
    "collapsed": true
   },
   "outputs": [],
   "source": [
    "cv3 = KFold(n_splits = X_norm.shape[0], shuffle = True, random_state = 1)"
   ]
  },
  {
   "cell_type": "code",
   "execution_count": 13,
   "metadata": {},
   "outputs": [
    {
     "data": {
      "text/plain": [
       "0.2565789473684211"
      ]
     },
     "execution_count": 13,
     "metadata": {},
     "output_type": "execute_result"
    }
   ],
   "source": [
    "score3 = np.mean(cross_val_score(neigh, X_norm, y, scoring = \"accuracy\", cv = cv3, n_jobs=1))\n",
    "score3"
   ]
  },
  {
   "cell_type": "markdown",
   "metadata": {
    "collapsed": true
   },
   "source": [
    "### Standardization"
   ]
  },
  {
   "cell_type": "code",
   "execution_count": 50,
   "metadata": {
    "collapsed": true
   },
   "outputs": [],
   "source": [
    "cv4 = KFold(n_splits = X_cent.shape[0], shuffle = True, random_state = 1)"
   ]
  },
  {
   "cell_type": "code",
   "execution_count": 51,
   "metadata": {},
   "outputs": [
    {
     "data": {
      "text/plain": [
       "0.28289473684210525"
      ]
     },
     "execution_count": 51,
     "metadata": {},
     "output_type": "execute_result"
    }
   ],
   "source": [
    "score4 = np.mean(cross_val_score(neigh, X_cent, y, scoring = \"accuracy\", cv = cv4, n_jobs=1))\n",
    "score4"
   ]
  },
  {
   "cell_type": "code",
   "execution_count": null,
   "metadata": {
    "collapsed": true
   },
   "outputs": [],
   "source": []
  }
 ],
 "metadata": {
  "kernelspec": {
   "display_name": "Python 3",
   "language": "python",
   "name": "python3"
  },
  "language_info": {
   "codemirror_mode": {
    "name": "ipython",
    "version": 3
   },
   "file_extension": ".py",
   "mimetype": "text/x-python",
   "name": "python",
   "nbconvert_exporter": "python",
   "pygments_lexer": "ipython3",
   "version": "3.6.3"
  }
 },
 "nbformat": 4,
 "nbformat_minor": 2
}
