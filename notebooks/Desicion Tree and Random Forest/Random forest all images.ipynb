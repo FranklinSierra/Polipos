{
 "cells": [
  {
   "cell_type": "markdown",
   "metadata": {},
   "source": [
    "# <span style=\"color:red\">Random forest para imagenes promedio</span>"
   ]
  },
  {
   "cell_type": "code",
   "execution_count": 1,
   "metadata": {},
   "outputs": [
    {
     "name": "stderr",
     "output_type": "stream",
     "text": [
      "/home/franklinsierra/anaconda3/lib/python3.6/site-packages/sklearn/ensemble/weight_boosting.py:29: DeprecationWarning: numpy.core.umath_tests is an internal NumPy module and should not be imported. It will be removed in a future NumPy release.\n",
      "  from numpy.core.umath_tests import inner1d\n"
     ]
    }
   ],
   "source": [
    "from sklearn.ensemble import RandomForestClassifier \n",
    "import cv2 as cv\n",
    "import os\n",
    "import sys\n",
    "import numpy as np\n",
    "import matplotlib.pyplot as plt\n",
    "from sklearn.model_selection import KFold\n",
    "from sklearn.model_selection import cross_val_score\n",
    "from sklearn import preprocessing"
   ]
  },
  {
   "cell_type": "code",
   "execution_count": 2,
   "metadata": {},
   "outputs": [
    {
     "name": "stdout",
     "output_type": "stream",
     "text": [
      "['adenomaWl', 'hyperplasWl', 'hyperplasNbi', 'serratedWl', 'serratedNbi', 'adenomaNbi']\n",
      "class:  adenomaWl total  40\n",
      "class:  hyperplasWl total  21\n",
      "class:  hyperplasNbi total  21\n",
      "class:  serratedWl total  15\n",
      "class:  serratedNbi total  15\n",
      "class:  adenomaNbi total  40\n"
     ]
    }
   ],
   "source": [
    "path_classes = \"/home/franklinsierra/Documentos/Biomedica/Polipos/notebooks/mix_avg_img/\"\n",
    "classes_names = os.listdir(path_classes)\n",
    "print (classes_names)\n",
    "dic_img ={}\n",
    "#numero de arboles para el random forest\n",
    "num_trees = 100\n",
    "#bins para el histograma\n",
    "bins = 8\n",
    "test_size = 0.2\n",
    "#semilla para reproducir los mismos resultados\n",
    "seed = 9\n",
    "\n",
    "for i, name_class in enumerate(classes_names):\n",
    "    dic_img[classes_names[i]] = np.array(os.listdir(path_classes+classes_names[i]))\n",
    "    print (\"class: \", name_class, \"total \", len(dic_img[classes_names[i]]))"
   ]
  },
  {
   "cell_type": "code",
   "execution_count": 3,
   "metadata": {},
   "outputs": [
    {
     "name": "stdout",
     "output_type": "stream",
     "text": [
      "1 clase:  adenomaWl  target:  1  total:  40\n",
      "2 clase:  hyperplasWl  target:  2  total:  21\n",
      "3 clase:  hyperplasNbi  target:  3  total:  21\n",
      "4 clase:  serratedWl  target:  4  total:  15\n",
      "5 clase:  serratedNbi  target:  5  total:  15\n",
      "6 clase:  adenomaNbi  target:  6  total:  40\n"
     ]
    }
   ],
   "source": [
    "predictor = []\n",
    "target = []\n",
    "resize_value = 100\n",
    "for i, classes in enumerate(classes_names):\n",
    "    print((i+1), \"clase: \", classes, \" target: \", (i+1), \" total: \", len(dic_img[classes]))\n",
    "    for img_name in dic_img[classes]:\n",
    "        path_image = path_classes+classes+'/'+img_name\n",
    "        img = cv.resize(cv.imread(path_image,0),(100,100))*1.\n",
    "        flatt_img = img.reshape(resize_value*resize_value)        \n",
    "        predictor.append(flatt_img)\n",
    "        target.append(i+1)\n",
    "predictor = np.r_[predictor]        \n",
    "target = np.r_[target]"
   ]
  },
  {
   "cell_type": "markdown",
   "metadata": {},
   "source": [
    "### Normalizando "
   ]
  },
  {
   "cell_type": "code",
   "execution_count": 4,
   "metadata": {
    "collapsed": true
   },
   "outputs": [],
   "source": [
    "predictor_norm = preprocessing.normalize(predictor)"
   ]
  },
  {
   "cell_type": "code",
   "execution_count": 5,
   "metadata": {},
   "outputs": [
    {
     "name": "stdout",
     "output_type": "stream",
     "text": [
      "[6 1 4 5 4 6 2 3 6 2 2 2 3 2 6 6 1 1 6 3 1 3 1 6 1 1 6 1 5 3 3]\n"
     ]
    }
   ],
   "source": [
    "from sklearn.model_selection import train_test_split\n",
    "test_size = 0.2\n",
    "X_train, X_test, y_train, y_test = train_test_split(predictor_norm,target,test_size=test_size)\n",
    "print (y_test)"
   ]
  },
  {
   "cell_type": "code",
   "execution_count": 6,
   "metadata": {},
   "outputs": [
    {
     "data": {
      "text/plain": [
       "RandomForestClassifier(bootstrap=True, class_weight=None, criterion='gini',\n",
       "            max_depth=None, max_features='auto', max_leaf_nodes=None,\n",
       "            min_impurity_decrease=0.0, min_impurity_split=None,\n",
       "            min_samples_leaf=1, min_samples_split=2,\n",
       "            min_weight_fraction_leaf=0.0, n_estimators=100, n_jobs=2,\n",
       "            oob_score=True, random_state=None, verbose=0, warm_start=False)"
      ]
     },
     "execution_count": 6,
     "metadata": {},
     "output_type": "execute_result"
    }
   ],
   "source": [
    "forest = RandomForestClassifier(n_jobs=2, oob_score=True, n_estimators=num_trees)\n",
    "forest.fit(X_train,y_train)"
   ]
  },
  {
   "cell_type": "code",
   "execution_count": 36,
   "metadata": {},
   "outputs": [
    {
     "data": {
      "text/plain": [
       "array([[0.08333333, 0.25      , 0.16666667, 0.11111111, 0.22222222,\n",
       "        0.16666667],\n",
       "       [0.08571429, 0.4       , 0.31428571, 0.05714286, 0.11428571,\n",
       "        0.02857143],\n",
       "       [0.06666667, 0.13333333, 0.03333333, 0.        , 0.63333333,\n",
       "        0.13333333],\n",
       "       [0.08823529, 0.38235294, 0.02941176, 0.05882353, 0.35294118,\n",
       "        0.08823529],\n",
       "       [0.15      , 0.225     , 0.15      , 0.05      , 0.35      ,\n",
       "        0.075     ],\n",
       "       [0.        , 0.25714286, 0.02857143, 0.34285714, 0.34285714,\n",
       "        0.02857143],\n",
       "       [0.05405405, 0.27027027, 0.        , 0.2972973 , 0.        ,\n",
       "        0.37837838],\n",
       "       [0.        , 0.5       , 0.        , 0.07692308, 0.38461538,\n",
       "        0.03846154],\n",
       "       [0.13793103, 0.27586207, 0.        , 0.13793103, 0.27586207,\n",
       "        0.17241379],\n",
       "       [0.07894737, 0.18421053, 0.18421053, 0.26315789, 0.21052632,\n",
       "        0.07894737],\n",
       "       [0.025     , 0.175     , 0.075     , 0.15      , 0.425     ,\n",
       "        0.15      ],\n",
       "       [0.02631579, 0.42105263, 0.07894737, 0.02631579, 0.39473684,\n",
       "        0.05263158],\n",
       "       [0.        , 0.14634146, 0.19512195, 0.29268293, 0.2195122 ,\n",
       "        0.14634146],\n",
       "       [0.02941176, 0.32352941, 0.35294118, 0.11764706, 0.11764706,\n",
       "        0.05882353],\n",
       "       [0.03030303, 0.06060606, 0.12121212, 0.3030303 , 0.33333333,\n",
       "        0.15151515],\n",
       "       [0.        , 0.32258065, 0.03225806, 0.29032258, 0.12903226,\n",
       "        0.22580645],\n",
       "       [0.05714286, 0.31428571, 0.05714286, 0.05714286, 0.4       ,\n",
       "        0.11428571],\n",
       "       [0.09375   , 0.28125   , 0.09375   , 0.15625   , 0.3125    ,\n",
       "        0.0625    ],\n",
       "       [0.44444444, 0.14814815, 0.11111111, 0.11111111, 0.07407407,\n",
       "        0.11111111],\n",
       "       [0.1025641 , 0.46153846, 0.1025641 , 0.07692308, 0.23076923,\n",
       "        0.02564103],\n",
       "       [0.        , 0.38461538, 0.        , 0.30769231, 0.07692308,\n",
       "        0.23076923],\n",
       "       [0.34375   , 0.1875    , 0.15625   , 0.0625    , 0.25      ,\n",
       "        0.        ],\n",
       "       [0.35294118, 0.02941176, 0.26470588, 0.17647059, 0.08823529,\n",
       "        0.08823529],\n",
       "       [0.02857143, 0.08571429, 0.14285714, 0.31428571, 0.2       ,\n",
       "        0.22857143],\n",
       "       [0.34210526, 0.28947368, 0.13157895, 0.05263158, 0.15789474,\n",
       "        0.02631579],\n",
       "       [0.        , 0.09615385, 0.        , 0.67307692, 0.03846154,\n",
       "        0.19230769],\n",
       "       [0.        , 0.13157895, 0.02631579, 0.05263158, 0.73684211,\n",
       "        0.05263158],\n",
       "       [0.05405405, 0.37837838, 0.18918919, 0.10810811, 0.10810811,\n",
       "        0.16216216],\n",
       "       [0.30769231, 0.25641026, 0.05128205, 0.12820513, 0.23076923,\n",
       "        0.02564103],\n",
       "       [0.        , 0.3       , 0.02      , 0.12      , 0.08      ,\n",
       "        0.48      ],\n",
       "       [0.42857143, 0.02380952, 0.26190476, 0.16666667, 0.07142857,\n",
       "        0.04761905],\n",
       "       [0.12820513, 0.12820513, 0.07692308, 0.20512821, 0.23076923,\n",
       "        0.23076923],\n",
       "       [0.03030303, 0.27272727, 0.        , 0.39393939, 0.21212121,\n",
       "        0.09090909],\n",
       "       [0.        , 0.125     , 0.03125   , 0.65625   , 0.0625    ,\n",
       "        0.125     ],\n",
       "       [0.05263158, 0.5       , 0.07894737, 0.07894737, 0.23684211,\n",
       "        0.05263158],\n",
       "       [0.05555556, 0.11111111, 0.58333333, 0.02777778, 0.22222222,\n",
       "        0.        ],\n",
       "       [0.05263158, 0.23684211, 0.10526316, 0.21052632, 0.21052632,\n",
       "        0.18421053],\n",
       "       [0.        , 0.175     , 0.025     , 0.1       , 0.4       ,\n",
       "        0.3       ],\n",
       "       [0.        , 0.25      , 0.        , 0.25      , 0.16666667,\n",
       "        0.33333333],\n",
       "       [0.        , 0.08823529, 0.02941176, 0.26470588, 0.44117647,\n",
       "        0.17647059],\n",
       "       [0.03030303, 0.21212121, 0.09090909, 0.3030303 , 0.36363636,\n",
       "        0.        ],\n",
       "       [0.03030303, 0.09090909, 0.06060606, 0.15151515, 0.24242424,\n",
       "        0.42424242],\n",
       "       [0.17647059, 0.20588235, 0.20588235, 0.11764706, 0.26470588,\n",
       "        0.02941176],\n",
       "       [0.05882353, 0.20588235, 0.02941176, 0.11764706, 0.38235294,\n",
       "        0.20588235],\n",
       "       [0.0625    , 0.46875   , 0.125     , 0.09375   , 0.15625   ,\n",
       "        0.09375   ],\n",
       "       [0.        , 0.10526316, 0.02631579, 0.42105263, 0.05263158,\n",
       "        0.39473684],\n",
       "       [0.04545455, 0.25      , 0.06818182, 0.15909091, 0.25      ,\n",
       "        0.22727273],\n",
       "       [0.05405405, 0.18918919, 0.16216216, 0.08108108, 0.45945946,\n",
       "        0.05405405],\n",
       "       [0.02777778, 0.22222222, 0.        , 0.05555556, 0.27777778,\n",
       "        0.41666667],\n",
       "       [0.06060606, 0.48484848, 0.24242424, 0.03030303, 0.15151515,\n",
       "        0.03030303],\n",
       "       [0.02564103, 0.30769231, 0.07692308, 0.1025641 , 0.28205128,\n",
       "        0.20512821],\n",
       "       [0.05405405, 0.32432432, 0.05405405, 0.08108108, 0.48648649,\n",
       "        0.        ],\n",
       "       [0.125     , 0.03125   , 0.15625   , 0.09375   , 0.0625    ,\n",
       "        0.53125   ],\n",
       "       [0.        , 0.45945946, 0.02702703, 0.02702703, 0.13513514,\n",
       "        0.35135135],\n",
       "       [0.05555556, 0.33333333, 0.08333333, 0.08333333, 0.36111111,\n",
       "        0.08333333],\n",
       "       [0.07142857, 0.07142857, 0.26190476, 0.4047619 , 0.02380952,\n",
       "        0.16666667],\n",
       "       [0.02777778, 0.11111111, 0.02777778, 0.08333333, 0.72222222,\n",
       "        0.02777778],\n",
       "       [0.08333333, 0.19444444, 0.19444444, 0.16666667, 0.13888889,\n",
       "        0.22222222],\n",
       "       [0.20689655, 0.06896552, 0.17241379, 0.06896552, 0.44827586,\n",
       "        0.03448276],\n",
       "       [0.5       , 0.125     , 0.05      , 0.05      , 0.25      ,\n",
       "        0.025     ],\n",
       "       [0.05263158, 0.15789474, 0.15789474, 0.18421053, 0.39473684,\n",
       "        0.05263158],\n",
       "       [0.03125   , 0.09375   , 0.03125   , 0.375     , 0.25      ,\n",
       "        0.21875   ],\n",
       "       [0.17777778, 0.08888889, 0.37777778, 0.15555556, 0.11111111,\n",
       "        0.08888889],\n",
       "       [0.03225806, 0.38709677, 0.19354839, 0.        , 0.32258065,\n",
       "        0.06451613],\n",
       "       [0.02380952, 0.33333333, 0.0952381 , 0.11904762, 0.35714286,\n",
       "        0.07142857],\n",
       "       [0.        , 0.36111111, 0.02777778, 0.36111111, 0.13888889,\n",
       "        0.11111111],\n",
       "       [0.04651163, 0.18604651, 0.        , 0.34883721, 0.3255814 ,\n",
       "        0.09302326],\n",
       "       [0.        , 0.47058824, 0.        , 0.14705882, 0.29411765,\n",
       "        0.08823529],\n",
       "       [0.        , 0.42857143, 0.11428571, 0.02857143, 0.34285714,\n",
       "        0.08571429],\n",
       "       [0.025     , 0.3       , 0.2       , 0.2       , 0.15      ,\n",
       "        0.125     ],\n",
       "       [0.        , 0.325     , 0.15      , 0.075     , 0.4       ,\n",
       "        0.05      ],\n",
       "       [0.12820513, 0.33333333, 0.        , 0.15384615, 0.20512821,\n",
       "        0.17948718],\n",
       "       [0.        , 0.66666667, 0.07142857, 0.04761905, 0.21428571,\n",
       "        0.        ],\n",
       "       [0.        , 0.08823529, 0.14705882, 0.47058824, 0.20588235,\n",
       "        0.08823529],\n",
       "       [0.11111111, 0.08333333, 0.47222222, 0.11111111, 0.08333333,\n",
       "        0.13888889],\n",
       "       [0.025     , 0.175     , 0.35      , 0.1       , 0.025     ,\n",
       "        0.325     ],\n",
       "       [0.0625    , 0.28125   , 0.        , 0.09375   , 0.53125   ,\n",
       "        0.03125   ],\n",
       "       [0.03030303, 0.39393939, 0.27272727, 0.03030303, 0.21212121,\n",
       "        0.06060606],\n",
       "       [0.09302326, 0.48837209, 0.04651163, 0.06976744, 0.18604651,\n",
       "        0.11627907],\n",
       "       [0.18181818, 0.33333333, 0.06060606, 0.12121212, 0.12121212,\n",
       "        0.18181818],\n",
       "       [0.08823529, 0.20588235, 0.35294118, 0.11764706, 0.17647059,\n",
       "        0.05882353],\n",
       "       [0.06896552, 0.20689655, 0.        , 0.20689655, 0.06896552,\n",
       "        0.44827586],\n",
       "       [0.        , 0.15625   , 0.        , 0.5       , 0.0625    ,\n",
       "        0.28125   ],\n",
       "       [0.125     , 0.22916667, 0.08333333, 0.0625    , 0.22916667,\n",
       "        0.27083333],\n",
       "       [0.025     , 0.325     , 0.075     , 0.4       , 0.175     ,\n",
       "        0.        ],\n",
       "       [0.        , 0.24444444, 0.        , 0.13333333, 0.26666667,\n",
       "        0.35555556],\n",
       "       [0.02702703, 0.02702703, 0.16216216, 0.05405405, 0.7027027 ,\n",
       "        0.02702703],\n",
       "       [0.025     , 0.2       , 0.075     , 0.05      , 0.625     ,\n",
       "        0.025     ],\n",
       "       [0.11111111, 0.27777778, 0.08333333, 0.16666667, 0.13888889,\n",
       "        0.22222222],\n",
       "       [0.05882353, 0.20588235, 0.14705882, 0.20588235, 0.38235294,\n",
       "        0.        ],\n",
       "       [0.07692308, 0.30769231, 0.05128205, 0.1025641 , 0.33333333,\n",
       "        0.12820513],\n",
       "       [0.        , 0.44186047, 0.06976744, 0.06976744, 0.20930233,\n",
       "        0.20930233],\n",
       "       [0.        , 0.23076923, 0.07692308, 0.1025641 , 0.41025641,\n",
       "        0.17948718],\n",
       "       [0.        , 0.3125    , 0.09375   , 0.25      , 0.15625   ,\n",
       "        0.1875    ],\n",
       "       [0.02631579, 0.31578947, 0.        , 0.31578947, 0.10526316,\n",
       "        0.23684211],\n",
       "       [0.        , 0.23684211, 0.        , 0.34210526, 0.13157895,\n",
       "        0.28947368],\n",
       "       [0.03448276, 0.        , 0.5862069 , 0.13793103, 0.20689655,\n",
       "        0.03448276],\n",
       "       [0.12195122, 0.3902439 , 0.04878049, 0.09756098, 0.29268293,\n",
       "        0.04878049],\n",
       "       [0.        , 0.17142857, 0.08571429, 0.28571429, 0.22857143,\n",
       "        0.22857143],\n",
       "       [0.35      , 0.2       , 0.05      , 0.175     , 0.        ,\n",
       "        0.225     ],\n",
       "       [0.        , 0.4137931 , 0.13793103, 0.17241379, 0.24137931,\n",
       "        0.03448276],\n",
       "       [0.10810811, 0.21621622, 0.10810811, 0.05405405, 0.35135135,\n",
       "        0.16216216],\n",
       "       [0.19444444, 0.30555556, 0.11111111, 0.11111111, 0.16666667,\n",
       "        0.11111111],\n",
       "       [0.13043478, 0.26086957, 0.15217391, 0.30434783, 0.06521739,\n",
       "        0.08695652],\n",
       "       [0.03333333, 0.23333333, 0.13333333, 0.16666667, 0.4       ,\n",
       "        0.03333333],\n",
       "       [0.13888889, 0.27777778, 0.13888889, 0.02777778, 0.27777778,\n",
       "        0.13888889],\n",
       "       [0.02631579, 0.36842105, 0.02631579, 0.05263158, 0.5       ,\n",
       "        0.02631579],\n",
       "       [0.        , 0.12121212, 0.03030303, 0.60606061, 0.03030303,\n",
       "        0.21212121],\n",
       "       [0.05      , 0.475     , 0.125     , 0.1       , 0.225     ,\n",
       "        0.025     ],\n",
       "       [0.05405405, 0.21621622, 0.13513514, 0.13513514, 0.32432432,\n",
       "        0.13513514],\n",
       "       [0.        , 0.64705882, 0.        , 0.02941176, 0.17647059,\n",
       "        0.14705882],\n",
       "       [0.02857143, 0.25714286, 0.17142857, 0.05714286, 0.45714286,\n",
       "        0.02857143],\n",
       "       [0.        , 0.09375   , 0.03125   , 0.21875   , 0.4375    ,\n",
       "        0.21875   ],\n",
       "       [0.        , 0.21621622, 0.02702703, 0.18918919, 0.10810811,\n",
       "        0.45945946],\n",
       "       [0.07692308, 0.69230769, 0.02564103, 0.02564103, 0.17948718,\n",
       "        0.        ],\n",
       "       [0.02325581, 0.11627907, 0.06976744, 0.1627907 , 0.34883721,\n",
       "        0.27906977],\n",
       "       [0.15217391, 0.06521739, 0.19565217, 0.08695652, 0.26086957,\n",
       "        0.23913043],\n",
       "       [0.025     , 0.225     , 0.175     , 0.2       , 0.2       ,\n",
       "        0.175     ],\n",
       "       [0.05405405, 0.45945946, 0.08108108, 0.16216216, 0.13513514,\n",
       "        0.10810811],\n",
       "       [0.11764706, 0.08823529, 0.11764706, 0.29411765, 0.14705882,\n",
       "        0.23529412],\n",
       "       [0.13157895, 0.13157895, 0.36842105, 0.10526316, 0.15789474,\n",
       "        0.10526316]])"
      ]
     },
     "execution_count": 36,
     "metadata": {},
     "output_type": "execute_result"
    }
   ],
   "source": [
    "forest.oob_decision_function_"
   ]
  },
  {
   "cell_type": "code",
   "execution_count": 7,
   "metadata": {},
   "outputs": [
    {
     "data": {
      "text/plain": [
       "0.16129032258064516"
      ]
     },
     "execution_count": 7,
     "metadata": {},
     "output_type": "execute_result"
    }
   ],
   "source": [
    "forest.score(X_test,y_test)"
   ]
  },
  {
   "cell_type": "markdown",
   "metadata": {},
   "source": [
    "### Standardization"
   ]
  },
  {
   "cell_type": "code",
   "execution_count": 8,
   "metadata": {
    "collapsed": true
   },
   "outputs": [],
   "source": [
    "predictor_cent = preprocessing.scale(predictor)"
   ]
  },
  {
   "cell_type": "code",
   "execution_count": 10,
   "metadata": {},
   "outputs": [
    {
     "name": "stdout",
     "output_type": "stream",
     "text": [
      "[3 6 1 6 1 1 2 2 6 4 3 6 6 1 1 1 4 3 6 6 5 1 6 5 6 6 6 1 3 1 5]\n"
     ]
    }
   ],
   "source": [
    "from sklearn.model_selection import train_test_split\n",
    "test_size = 0.2\n",
    "X_train, X_test, y_train, y_test = train_test_split(predictor_cent,target,test_size=test_size)\n",
    "print (y_test)"
   ]
  },
  {
   "cell_type": "code",
   "execution_count": 17,
   "metadata": {},
   "outputs": [
    {
     "data": {
      "text/plain": [
       "RandomForestClassifier(bootstrap=True, class_weight=None, criterion='gini',\n",
       "            max_depth=None, max_features='auto', max_leaf_nodes=None,\n",
       "            min_impurity_decrease=0.0, min_impurity_split=None,\n",
       "            min_samples_leaf=1, min_samples_split=2,\n",
       "            min_weight_fraction_leaf=0.0, n_estimators=100, n_jobs=2,\n",
       "            oob_score=True, random_state=None, verbose=0, warm_start=False)"
      ]
     },
     "execution_count": 17,
     "metadata": {},
     "output_type": "execute_result"
    }
   ],
   "source": [
    "forest2 = RandomForestClassifier(n_jobs=2, oob_score=True, n_estimators=num_trees)\n",
    "forest2.fit(X_train,y_train)"
   ]
  },
  {
   "cell_type": "code",
   "execution_count": 18,
   "metadata": {},
   "outputs": [
    {
     "data": {
      "text/plain": [
       "0.22580645161290322"
      ]
     },
     "execution_count": 18,
     "metadata": {},
     "output_type": "execute_result"
    }
   ],
   "source": [
    "forest2.score(X_test,y_test)"
   ]
  },
  {
   "cell_type": "markdown",
   "metadata": {},
   "source": [
    "# LOOCV"
   ]
  },
  {
   "cell_type": "markdown",
   "metadata": {},
   "source": [
    "### Normalized"
   ]
  },
  {
   "cell_type": "code",
   "execution_count": 14,
   "metadata": {
    "collapsed": true
   },
   "outputs": [],
   "source": [
    "cv1 = KFold(n_splits = predictor_norm.shape[0], shuffle = True, random_state = 1)"
   ]
  },
  {
   "cell_type": "code",
   "execution_count": 16,
   "metadata": {},
   "outputs": [
    {
     "data": {
      "text/plain": [
       "0.18421052631578946"
      ]
     },
     "execution_count": 16,
     "metadata": {},
     "output_type": "execute_result"
    }
   ],
   "source": [
    "acc = np.mean(cross_val_score(forest, predictor_norm, target, scoring = \"accuracy\", cv = cv1, n_jobs=1))\n",
    "acc"
   ]
  },
  {
   "cell_type": "markdown",
   "metadata": {},
   "source": [
    "### Standardization"
   ]
  },
  {
   "cell_type": "code",
   "execution_count": 19,
   "metadata": {
    "collapsed": true
   },
   "outputs": [],
   "source": [
    "cv2 = KFold(n_splits = predictor_cent.shape[0], shuffle = True, random_state = 1)"
   ]
  },
  {
   "cell_type": "code",
   "execution_count": 22,
   "metadata": {},
   "outputs": [
    {
     "data": {
      "text/plain": [
       "0.17763157894736842"
      ]
     },
     "execution_count": 22,
     "metadata": {},
     "output_type": "execute_result"
    }
   ],
   "source": [
    "acc2 = np.mean(cross_val_score(forest2, predictor_norm, target, scoring = \"accuracy\", cv = cv2, n_jobs=1))\n",
    "acc2"
   ]
  },
  {
   "cell_type": "markdown",
   "metadata": {},
   "source": [
    "# <span style=\"color:red\">Random forest para varianza</span>"
   ]
  },
  {
   "cell_type": "code",
   "execution_count": 24,
   "metadata": {},
   "outputs": [
    {
     "name": "stdout",
     "output_type": "stream",
     "text": [
      "['adenomaWl', 'hyperplasWl', 'hyperplasNbi', 'serratedWl', 'serratedNbi', 'adenomaNbi']\n",
      "class:  hiperplasNbi total  21\n",
      "class:  adenomaWl total  40\n",
      "class:  serratedWl total  15\n",
      "class:  serratedNbi total  15\n",
      "class:  hiperplasWl total  21\n",
      "class:  adenomaNbi total  40\n"
     ]
    }
   ],
   "source": [
    "path_classes2 = \"/home/franklinsierra/Documentos/Biomedica/Polipos/notebooks/mix_var_img/\"\n",
    "classes_names2 = os.listdir(path_classes2)\n",
    "print (classes_names)\n",
    "dic_img ={}\n",
    "#numero de arboles para el random forest\n",
    "num_trees = 100\n",
    "#bins para el histograma\n",
    "bins = 8\n",
    "test_size = 0.2\n",
    "#semilla para reproducir los mismos resultados\n",
    "seed = 9\n",
    "\n",
    "for i, name_class in enumerate(classes_names2):\n",
    "    dic_img[classes_names2[i]] = np.array(os.listdir(path_classes2+classes_names2[i]))\n",
    "    print (\"class: \", name_class, \"total \", len(dic_img[classes_names2[i]]))"
   ]
  },
  {
   "cell_type": "code",
   "execution_count": 25,
   "metadata": {},
   "outputs": [
    {
     "name": "stdout",
     "output_type": "stream",
     "text": [
      "1 clase:  hiperplasNbi  target:  1  total:  21\n",
      "2 clase:  adenomaWl  target:  2  total:  40\n",
      "3 clase:  serratedWl  target:  3  total:  15\n",
      "4 clase:  serratedNbi  target:  4  total:  15\n",
      "5 clase:  hiperplasWl  target:  5  total:  21\n",
      "6 clase:  adenomaNbi  target:  6  total:  40\n"
     ]
    }
   ],
   "source": [
    "predictor2 = []\n",
    "target2 = []\n",
    "resize_value = 100\n",
    "for i, classes in enumerate(classes_names2):\n",
    "    print((i+1), \"clase: \", classes, \" target: \", (i+1), \" total: \", len(dic_img[classes]))\n",
    "    for img_name in dic_img[classes]:\n",
    "        path_image = path_classes2+classes+'/'+img_name\n",
    "        img = cv.resize(cv.imread(path_image,0),(100,100))*1.\n",
    "        flatt_img = img.reshape(resize_value*resize_value)        \n",
    "        predictor2.append(flatt_img)\n",
    "        target2.append(i+1)\n",
    "predictor2 = np.r_[predictor2]        \n",
    "target2 = np.r_[target2]"
   ]
  },
  {
   "cell_type": "markdown",
   "metadata": {},
   "source": [
    "### Normalizando "
   ]
  },
  {
   "cell_type": "code",
   "execution_count": 26,
   "metadata": {
    "collapsed": true
   },
   "outputs": [],
   "source": [
    "predictor2_norm = preprocessing.normalize(predictor2)"
   ]
  },
  {
   "cell_type": "code",
   "execution_count": 27,
   "metadata": {},
   "outputs": [
    {
     "name": "stdout",
     "output_type": "stream",
     "text": [
      "[2 4 1 2 2 4 6 4 5 2 2 2 5 6 6 6 5 4 5 4 6 2 3 6 2 5 2 1 2 1 6]\n"
     ]
    }
   ],
   "source": [
    "from sklearn.model_selection import train_test_split\n",
    "test_size = 0.2\n",
    "X_train2, X_test2, y_train2, y_test2 = train_test_split(predictor2_norm,target2,test_size=test_size)\n",
    "print (y_test2)"
   ]
  },
  {
   "cell_type": "code",
   "execution_count": 35,
   "metadata": {},
   "outputs": [
    {
     "data": {
      "text/plain": [
       "RandomForestClassifier(bootstrap=True, class_weight=None, criterion='gini',\n",
       "            max_depth=None, max_features='auto', max_leaf_nodes=None,\n",
       "            min_impurity_decrease=0.0, min_impurity_split=None,\n",
       "            min_samples_leaf=1, min_samples_split=2,\n",
       "            min_weight_fraction_leaf=0.0, n_estimators=100, n_jobs=2,\n",
       "            oob_score=True, random_state=None, verbose=0, warm_start=False)"
      ]
     },
     "execution_count": 35,
     "metadata": {},
     "output_type": "execute_result"
    }
   ],
   "source": [
    "forest3 = RandomForestClassifier(n_jobs=2, oob_score=True, n_estimators=num_trees)\n",
    "forest3.fit(X_train2,y_train2)"
   ]
  },
  {
   "cell_type": "code",
   "execution_count": 36,
   "metadata": {},
   "outputs": [
    {
     "data": {
      "text/plain": [
       "0.1935483870967742"
      ]
     },
     "execution_count": 36,
     "metadata": {},
     "output_type": "execute_result"
    }
   ],
   "source": [
    "forest3.score(X_test2,y_test2)"
   ]
  },
  {
   "cell_type": "markdown",
   "metadata": {},
   "source": [
    "### Standardization"
   ]
  },
  {
   "cell_type": "code",
   "execution_count": 30,
   "metadata": {
    "collapsed": true
   },
   "outputs": [],
   "source": [
    "predictor2_cent = preprocessing.scale(predictor2)"
   ]
  },
  {
   "cell_type": "code",
   "execution_count": 32,
   "metadata": {},
   "outputs": [
    {
     "name": "stdout",
     "output_type": "stream",
     "text": [
      "[6 2 2 6 2 5 2 2 6 1 6 6 2 2 2 1 2 5 2 5 1 6 6 6 6 6 6 6 2 2 3]\n"
     ]
    }
   ],
   "source": [
    "from sklearn.model_selection import train_test_split\n",
    "test_size = 0.2\n",
    "X_train, X_test, y_train, y_test = train_test_split(predictor2_cent,target2,test_size=test_size)\n",
    "print (y2_test)"
   ]
  },
  {
   "cell_type": "code",
   "execution_count": 37,
   "metadata": {},
   "outputs": [
    {
     "data": {
      "text/plain": [
       "RandomForestClassifier(bootstrap=True, class_weight=None, criterion='gini',\n",
       "            max_depth=None, max_features='auto', max_leaf_nodes=None,\n",
       "            min_impurity_decrease=0.0, min_impurity_split=None,\n",
       "            min_samples_leaf=1, min_samples_split=2,\n",
       "            min_weight_fraction_leaf=0.0, n_estimators=100, n_jobs=2,\n",
       "            oob_score=True, random_state=None, verbose=0, warm_start=False)"
      ]
     },
     "execution_count": 37,
     "metadata": {},
     "output_type": "execute_result"
    }
   ],
   "source": [
    "forest4 = RandomForestClassifier(n_jobs=2, oob_score=True, n_estimators=num_trees)\n",
    "forest4.fit(X_train,y_train)"
   ]
  },
  {
   "cell_type": "code",
   "execution_count": 38,
   "metadata": {},
   "outputs": [
    {
     "data": {
      "text/plain": [
       "0.4838709677419355"
      ]
     },
     "execution_count": 38,
     "metadata": {},
     "output_type": "execute_result"
    }
   ],
   "source": [
    "forest4.score(X_test, y_test)"
   ]
  },
  {
   "cell_type": "markdown",
   "metadata": {},
   "source": [
    "# LOOCV"
   ]
  },
  {
   "cell_type": "markdown",
   "metadata": {},
   "source": [
    "### Normalizado"
   ]
  },
  {
   "cell_type": "code",
   "execution_count": 39,
   "metadata": {
    "collapsed": true
   },
   "outputs": [],
   "source": [
    "cv3 = KFold(n_splits = predictor2_norm.shape[0], shuffle = True, random_state = 1)"
   ]
  },
  {
   "cell_type": "code",
   "execution_count": 40,
   "metadata": {},
   "outputs": [
    {
     "data": {
      "text/plain": [
       "0.25"
      ]
     },
     "execution_count": 40,
     "metadata": {},
     "output_type": "execute_result"
    }
   ],
   "source": [
    "acc3 = np.mean(cross_val_score(forest, predictor2_norm, target2, scoring = \"accuracy\", cv = cv3, n_jobs=1))\n",
    "acc3"
   ]
  },
  {
   "cell_type": "markdown",
   "metadata": {},
   "source": [
    "### Standardization"
   ]
  },
  {
   "cell_type": "code",
   "execution_count": 41,
   "metadata": {
    "collapsed": true
   },
   "outputs": [],
   "source": [
    "cv4 = KFold(n_splits = predictor2_cent.shape[0], shuffle = True, random_state = 1)"
   ]
  },
  {
   "cell_type": "code",
   "execution_count": 47,
   "metadata": {},
   "outputs": [
    {
     "data": {
      "text/plain": [
       "0.26973684210526316"
      ]
     },
     "execution_count": 47,
     "metadata": {},
     "output_type": "execute_result"
    }
   ],
   "source": [
    "acc4 = np.mean(cross_val_score(forest4, predictor2_cent, target2, scoring = \"accuracy\", cv = cv4, n_jobs=1))\n",
    "acc4"
   ]
  },
  {
   "cell_type": "markdown",
   "metadata": {},
   "source": [
    "# <span style=\"color:red\">Random forest para las derivadas</span>"
   ]
  },
  {
   "cell_type": "code",
   "execution_count": 48,
   "metadata": {},
   "outputs": [
    {
     "name": "stdout",
     "output_type": "stream",
     "text": [
      "['adenomaWl', 'hyperplasWl', 'hyperplasNbi', 'serratedWl', 'serratedNbi', 'adenomaNbi']\n",
      "class:  hiperplasNbi total  21\n",
      "class:  adenomaWl total  40\n",
      "class:  serratedWl total  15\n",
      "class:  serratedNbi total  15\n",
      "class:  hiperplasWl total  21\n",
      "class:  adenomaNbi total  40\n"
     ]
    }
   ],
   "source": [
    "path_classes3 = \"/home/franklinsierra/Documentos/Biomedica/Polipos/notebooks/mix_der_img/\"\n",
    "classes_names3 = os.listdir(path_classes3)\n",
    "print (classes_names)\n",
    "dic_img ={}\n",
    "#numero de arboles para el random forest\n",
    "num_trees = 100\n",
    "#bins para el histograma\n",
    "bins = 8\n",
    "test_size = 0.2\n",
    "#semilla para reproducir los mismos resultados\n",
    "seed = 9\n",
    "\n",
    "for i, name_class in enumerate(classes_names3):\n",
    "    dic_img[classes_names3[i]] = np.array(os.listdir(path_classes3+classes_names3[i]))\n",
    "    print (\"class: \", name_class, \"total \", len(dic_img[classes_names3[i]]))"
   ]
  },
  {
   "cell_type": "code",
   "execution_count": 49,
   "metadata": {},
   "outputs": [
    {
     "name": "stdout",
     "output_type": "stream",
     "text": [
      "1 clase:  hiperplasNbi  target:  1  total:  21\n",
      "2 clase:  adenomaWl  target:  2  total:  40\n",
      "3 clase:  serratedWl  target:  3  total:  15\n",
      "4 clase:  serratedNbi  target:  4  total:  15\n",
      "5 clase:  hiperplasWl  target:  5  total:  21\n",
      "6 clase:  adenomaNbi  target:  6  total:  40\n"
     ]
    }
   ],
   "source": [
    "\n",
    "predictor3 = []\n",
    "target3 = []\n",
    "resize_value = 100\n",
    "for i, classes in enumerate(classes_names3):\n",
    "    print((i+1), \"clase: \", classes, \" target: \", (i+1), \" total: \", len(dic_img[classes]))\n",
    "    for img_name in dic_img[classes]:\n",
    "        path_image = path_classes3+classes+'/'+img_name\n",
    "        img = cv.resize(cv.imread(path_image,0),(100,100))*1.\n",
    "        flatt_img = img.reshape(resize_value*resize_value)        \n",
    "        predictor3.append(flatt_img)\n",
    "        target3.append(i+1)\n",
    "predictor3 = np.r_[predictor3]        \n",
    "target3 = np.r_[target3]"
   ]
  },
  {
   "cell_type": "markdown",
   "metadata": {},
   "source": [
    "### Normalizando"
   ]
  },
  {
   "cell_type": "code",
   "execution_count": 50,
   "metadata": {
    "collapsed": true
   },
   "outputs": [],
   "source": [
    "predictor3_norm = preprocessing.normalize(predictor3)"
   ]
  },
  {
   "cell_type": "code",
   "execution_count": 51,
   "metadata": {},
   "outputs": [
    {
     "name": "stdout",
     "output_type": "stream",
     "text": [
      "[5 5 2 6 1 2 2 3 1 5 5 4 6 1 5 2 5 4 6 6 6 1 3 2 3 2 2 1 2 4 1]\n"
     ]
    }
   ],
   "source": [
    "from sklearn.model_selection import train_test_split\n",
    "test_size = 0.2\n",
    "X_train3, X_test3, y_train3, y_test3 = train_test_split(predictor3_norm,target3,test_size=test_size)\n",
    "print (y_test3)"
   ]
  },
  {
   "cell_type": "code",
   "execution_count": 52,
   "metadata": {},
   "outputs": [
    {
     "data": {
      "text/plain": [
       "RandomForestClassifier(bootstrap=True, class_weight=None, criterion='gini',\n",
       "            max_depth=None, max_features='auto', max_leaf_nodes=None,\n",
       "            min_impurity_decrease=0.0, min_impurity_split=None,\n",
       "            min_samples_leaf=1, min_samples_split=2,\n",
       "            min_weight_fraction_leaf=0.0, n_estimators=100, n_jobs=2,\n",
       "            oob_score=True, random_state=None, verbose=0, warm_start=False)"
      ]
     },
     "execution_count": 52,
     "metadata": {},
     "output_type": "execute_result"
    }
   ],
   "source": [
    "forest5 = RandomForestClassifier(n_jobs=2, oob_score=True, n_estimators=num_trees)\n",
    "forest5.fit(X_train3,y_train3)"
   ]
  },
  {
   "cell_type": "code",
   "execution_count": 53,
   "metadata": {},
   "outputs": [
    {
     "data": {
      "text/plain": [
       "0.2903225806451613"
      ]
     },
     "execution_count": 53,
     "metadata": {},
     "output_type": "execute_result"
    }
   ],
   "source": [
    "forest5.score(X_test3,y_test3)"
   ]
  },
  {
   "cell_type": "markdown",
   "metadata": {},
   "source": [
    "### Standardization"
   ]
  },
  {
   "cell_type": "code",
   "execution_count": 55,
   "metadata": {},
   "outputs": [],
   "source": [
    "predictor3_cent = preprocessing.scale(predictor3)"
   ]
  },
  {
   "cell_type": "code",
   "execution_count": 57,
   "metadata": {},
   "outputs": [
    {
     "name": "stdout",
     "output_type": "stream",
     "text": [
      "[6 1 3 3 6 3 6 2 3 1 2 2 1 4 6 3 1 2 1 4 3 3 1 5 2 6 6 6 6 2 4]\n"
     ]
    }
   ],
   "source": [
    "from sklearn.model_selection import train_test_split\n",
    "test_size = 0.2\n",
    "X_train, X_test, y_train, y_test = train_test_split(predictor3_cent,target3,test_size=test_size)\n",
    "print (y_test)"
   ]
  },
  {
   "cell_type": "code",
   "execution_count": 58,
   "metadata": {},
   "outputs": [
    {
     "data": {
      "text/plain": [
       "RandomForestClassifier(bootstrap=True, class_weight=None, criterion='gini',\n",
       "            max_depth=None, max_features='auto', max_leaf_nodes=None,\n",
       "            min_impurity_decrease=0.0, min_impurity_split=None,\n",
       "            min_samples_leaf=1, min_samples_split=2,\n",
       "            min_weight_fraction_leaf=0.0, n_estimators=100, n_jobs=2,\n",
       "            oob_score=True, random_state=None, verbose=0, warm_start=False)"
      ]
     },
     "execution_count": 58,
     "metadata": {},
     "output_type": "execute_result"
    }
   ],
   "source": [
    "forest6 = RandomForestClassifier(n_jobs=2, oob_score=True, n_estimators=num_trees)\n",
    "forest6.fit(X_train,y_train)"
   ]
  },
  {
   "cell_type": "code",
   "execution_count": 59,
   "metadata": {},
   "outputs": [
    {
     "data": {
      "text/plain": [
       "0.25806451612903225"
      ]
     },
     "execution_count": 59,
     "metadata": {},
     "output_type": "execute_result"
    }
   ],
   "source": [
    "forest6.score(X_test, y_test)"
   ]
  },
  {
   "cell_type": "markdown",
   "metadata": {},
   "source": [
    "# LOOCV"
   ]
  },
  {
   "cell_type": "markdown",
   "metadata": {},
   "source": [
    "### Normalizated"
   ]
  },
  {
   "cell_type": "code",
   "execution_count": 62,
   "metadata": {
    "collapsed": true
   },
   "outputs": [],
   "source": [
    "cv5 = KFold(n_splits = predictor3_norm.shape[0], shuffle = True, random_state = 1)"
   ]
  },
  {
   "cell_type": "code",
   "execution_count": 63,
   "metadata": {},
   "outputs": [
    {
     "data": {
      "text/plain": [
       "0.3223684210526316"
      ]
     },
     "execution_count": 63,
     "metadata": {},
     "output_type": "execute_result"
    }
   ],
   "source": [
    "acc5 = np.mean(cross_val_score(forest5, predictor3_norm, target3, scoring = \"accuracy\", cv = cv5, n_jobs=1))\n",
    "acc5"
   ]
  },
  {
   "cell_type": "markdown",
   "metadata": {},
   "source": [
    "### Standardization"
   ]
  },
  {
   "cell_type": "code",
   "execution_count": 64,
   "metadata": {
    "collapsed": true
   },
   "outputs": [],
   "source": [
    "cv6 = KFold(n_splits = predictor3_cent.shape[0], shuffle = True, random_state = 1)"
   ]
  },
  {
   "cell_type": "code",
   "execution_count": 65,
   "metadata": {},
   "outputs": [
    {
     "data": {
      "text/plain": [
       "0.27631578947368424"
      ]
     },
     "execution_count": 65,
     "metadata": {},
     "output_type": "execute_result"
    }
   ],
   "source": [
    "acc6 = np.mean(cross_val_score(forest6, predictor3_norm, target3, scoring = \"accuracy\", cv = cv6, n_jobs=1))\n",
    "acc6"
   ]
  },
  {
   "cell_type": "code",
   "execution_count": null,
   "metadata": {
    "collapsed": true
   },
   "outputs": [],
   "source": []
  }
 ],
 "metadata": {
  "kernelspec": {
   "display_name": "Python 3",
   "language": "python",
   "name": "python3"
  },
  "language_info": {
   "codemirror_mode": {
    "name": "ipython",
    "version": 3
   },
   "file_extension": ".py",
   "mimetype": "text/x-python",
   "name": "python",
   "nbconvert_exporter": "python",
   "pygments_lexer": "ipython3",
   "version": "3.6.3"
  }
 },
 "nbformat": 4,
 "nbformat_minor": 2
}
