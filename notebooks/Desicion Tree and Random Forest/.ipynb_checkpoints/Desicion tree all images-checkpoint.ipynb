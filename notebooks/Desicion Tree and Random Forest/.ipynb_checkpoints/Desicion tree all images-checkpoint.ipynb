{
 "cells": [
  {
   "cell_type": "code",
   "execution_count": 1,
   "metadata": {},
   "outputs": [
    {
     "name": "stderr",
     "output_type": "stream",
     "text": [
      "/home/franklinsierra/anaconda3/lib/python3.6/site-packages/h5py/__init__.py:34: FutureWarning: Conversion of the second argument of issubdtype from `float` to `np.floating` is deprecated. In future, it will be treated as `np.float64 == np.dtype(float).type`.\n",
      "  from ._conv import register_converters as _register_converters\n"
     ]
    }
   ],
   "source": [
    "import cv2 as cv\n",
    "import os\n",
    "import sys\n",
    "import numpy as np\n",
    "import matplotlib.pyplot as plt\n",
    "from ipywidgets import interact, interactive, fixed, interact_manual\n",
    "import ipywidgets as widgets\n",
    "from sklearn.tree import DecisionTreeClassifier \n",
    "from sklearn.utils import shuffle\n",
    "import pandas as pd\n",
    "from sklearn.preprocessing import LabelEncoder\n",
    "from sklearn.preprocessing import MinMaxScaler\n",
    "#import mahotas\n",
    "import h5py\n",
    "from sklearn.model_selection import KFold\n",
    "from sklearn.model_selection import cross_val_score\n",
    "from sklearn import preprocessing"
   ]
  },
  {
   "cell_type": "markdown",
   "metadata": {},
   "source": [
    "# <span style=\"color:red\">============== DECISION TREE ===============</span>"
   ]
  },
  {
   "cell_type": "markdown",
   "metadata": {},
   "source": [
    "# <span style=\"color:red\"> DT para imagenes promedio</span>"
   ]
  },
  {
   "cell_type": "code",
   "execution_count": 4,
   "metadata": {},
   "outputs": [
    {
     "name": "stdout",
     "output_type": "stream",
     "text": [
      "['adenomaWl', 'hyperplasWl', 'hyperplasNbi', 'serratedWl', 'serratedNbi', 'adenomaNbi']\n",
      "class:  adenomaWl total  40\n",
      "class:  hyperplasWl total  21\n",
      "class:  hyperplasNbi total  21\n",
      "class:  serratedWl total  15\n",
      "class:  serratedNbi total  15\n",
      "class:  adenomaNbi total  40\n"
     ]
    }
   ],
   "source": [
    "path_classes = \"/home/franklinsierra/Documentos/Biomedica/Experimentos/notebooks/mix_avg_img/\"\n",
    "classes_names = os.listdir(path_classes)\n",
    "print (classes_names)\n",
    "dic_img ={}\n",
    "\n",
    "for i, name_class in enumerate(classes_names):\n",
    "    dic_img[classes_names[i]] = np.array(os.listdir(path_classes+classes_names[i]))\n",
    "    print (\"class: \", name_class, \"total \", len(dic_img[classes_names[i]]))"
   ]
  },
  {
   "cell_type": "code",
   "execution_count": 11,
   "metadata": {
    "collapsed": true
   },
   "outputs": [],
   "source": [
    "#Para la forma\n",
    "def fd_hu_moments(image):\n",
    "    image = cv.cvtColor(image, cv.COLOR_BGR2GRAY)\n",
    "    feature = cv.HuMoments(cv.moments(image)).flatten()\n",
    "    return feature"
   ]
  },
  {
   "cell_type": "code",
   "execution_count": 12,
   "metadata": {
    "collapsed": true
   },
   "outputs": [],
   "source": [
    "#textura\n",
    "def fd_haralick(image):\n",
    "    gray = cv.cvtColor(image, cv.COLOR_BAYER_BG2GRAY)\n",
    "    haralick = mahotas.features.haralick(gray).mean(axis=0)\n",
    "    return haralick"
   ]
  },
  {
   "cell_type": "code",
   "execution_count": 13,
   "metadata": {
    "collapsed": true
   },
   "outputs": [],
   "source": [
    "#histograma del color\n",
    "def fd_histogram(image, mask= None):\n",
    "    #se convierte la imagen a HSV\n",
    "    image = cv.cvtColor(image, cv.COLOR_BGR2HSV)\n",
    "    #Histograma\n",
    "    hist = cv.calcHist([image], [0,1,2], None, [bins,bins,bins],[0,256,0,256,0,256])\n",
    "    #normalizar hist\n",
    "    cv.normalize(hist,hist)\n",
    "    return hist.flatten()"
   ]
  },
  {
   "cell_type": "code",
   "execution_count": 14,
   "metadata": {},
   "outputs": [
    {
     "name": "stdout",
     "output_type": "stream",
     "text": [
      "1 clase:  adenomaWl  target:  1  total:  40\n",
      "2 clase:  hyperplasWl  target:  2  total:  21\n",
      "3 clase:  hyperplasNbi  target:  3  total:  21\n",
      "4 clase:  serratedWl  target:  4  total:  15\n",
      "5 clase:  serratedNbi  target:  5  total:  15\n",
      "6 clase:  adenomaNbi  target:  6  total:  40\n"
     ]
    }
   ],
   "source": [
    "predictor = []\n",
    "target = []\n",
    "resize_value = 100\n",
    "for i, classes in enumerate(classes_names):\n",
    "    print((i+1), \"clase: \", classes, \" target: \", (i+1), \" total: \", len(dic_img[classes]))\n",
    "    for img_name in dic_img[classes]:\n",
    "        path_image = path_classes+classes+'/'+img_name\n",
    "        img = cv.resize(cv.imread(path_image,0),(100,100))*1.\n",
    "        flatt_img = img.reshape(resize_value*resize_value)\n",
    "        ########################\n",
    "        #Caracteristicas globales\n",
    "        ########################\n",
    "        #fv_hu_moments = fd_hu_moments(flatt_img)\n",
    "        #fv_haralick = fd_haralick(flatt_img)\n",
    "        #fv_histogram = fd_histogram(flatt_img)\n",
    "        #######################\n",
    "        #Concatenacion de todas las features\n",
    "        #######################\n",
    "        #predictor = np.hstack([fv_hu_moments, fv_haralick, fv_histogram])\n",
    "        \n",
    "        predictor.append(flatt_img)\n",
    "        target.append(i+1)\n",
    "predictor = np.r_[predictor]        \n",
    "target = np.r_[target]"
   ]
  },
  {
   "cell_type": "code",
   "execution_count": 15,
   "metadata": {},
   "outputs": [
    {
     "name": "stdout",
     "output_type": "stream",
     "text": [
      "(152, 10000)\n"
     ]
    }
   ],
   "source": [
    "print(predictor.shape)"
   ]
  },
  {
   "cell_type": "markdown",
   "metadata": {},
   "source": [
    "### Normalizando "
   ]
  },
  {
   "cell_type": "code",
   "execution_count": 23,
   "metadata": {
    "collapsed": true
   },
   "outputs": [],
   "source": [
    "predictor_norm = preprocessing.normalize(predictor)"
   ]
  },
  {
   "cell_type": "code",
   "execution_count": 24,
   "metadata": {},
   "outputs": [
    {
     "name": "stdout",
     "output_type": "stream",
     "text": [
      "[2 6 6 6 2 6 1 5 4 1 6 1 2 1 2 3 6 1 5 6 6 2 6 3 6 2 6 2 3 2 1]\n"
     ]
    }
   ],
   "source": [
    "from sklearn.model_selection import train_test_split\n",
    "test_size = 0.2\n",
    "X_train, X_test, y_train, y_test = train_test_split(predictor_norm,target,test_size=test_size)\n",
    "print (y_test)"
   ]
  },
  {
   "cell_type": "code",
   "execution_count": 25,
   "metadata": {
    "collapsed": true
   },
   "outputs": [],
   "source": [
    "tree = DecisionTreeClassifier(criterion=\"entropy\",max_depth=6, min_samples_split=20, random_state=99 )"
   ]
  },
  {
   "cell_type": "code",
   "execution_count": 26,
   "metadata": {},
   "outputs": [
    {
     "data": {
      "text/plain": [
       "DecisionTreeClassifier(class_weight=None, criterion='entropy', max_depth=6,\n",
       "            max_features=None, max_leaf_nodes=None,\n",
       "            min_impurity_decrease=0.0, min_impurity_split=None,\n",
       "            min_samples_leaf=1, min_samples_split=20,\n",
       "            min_weight_fraction_leaf=0.0, presort=False, random_state=99,\n",
       "            splitter='best')"
      ]
     },
     "execution_count": 26,
     "metadata": {},
     "output_type": "execute_result"
    }
   ],
   "source": [
    "tree.fit(X_train,y_train)"
   ]
  },
  {
   "cell_type": "code",
   "execution_count": 27,
   "metadata": {},
   "outputs": [
    {
     "data": {
      "text/plain": [
       "0.3870967741935484"
      ]
     },
     "execution_count": 27,
     "metadata": {},
     "output_type": "execute_result"
    }
   ],
   "source": [
    "tree.score(X_test,y_test)"
   ]
  },
  {
   "cell_type": "markdown",
   "metadata": {},
   "source": [
    "# Visualizacion del árbol"
   ]
  },
  {
   "cell_type": "code",
   "execution_count": 166,
   "metadata": {
    "collapsed": true
   },
   "outputs": [],
   "source": [
    "from sklearn.tree import export_graphviz"
   ]
  },
  {
   "cell_type": "code",
   "execution_count": 167,
   "metadata": {
    "collapsed": true
   },
   "outputs": [],
   "source": [
    "with open(\"../resouces/polyp_dtree.dot\", 'w') as dotfile:\n",
    "    export_graphviz(tree, out_file=dotfile, feature_names=predictor[0,:])\n",
    "    dotfile.close()"
   ]
  },
  {
   "cell_type": "code",
   "execution_count": 168,
   "metadata": {
    "collapsed": true
   },
   "outputs": [],
   "source": [
    "from graphviz import Source"
   ]
  },
  {
   "cell_type": "code",
   "execution_count": 169,
   "metadata": {},
   "outputs": [
    {
     "data": {
      "text/plain": [
       "'digraph Tree {\\nnode [shape=box] ;\\n0 [label=\"0.0 <= 0.0\\\\nentropy = 2.455\\\\nsamples = 121\\\\nvalue = [11, 33, 12, 17, 31, 17]\"] ;\\n1 [label=\"0.0 <= 0.005\\\\nentropy = 2.391\\\\nsamples = 92\\\\nvalue = [11, 18, 6, 17, 31, 9]\"] ;\\n0 -> 1 [labeldistance=2.5, labelangle=45, headlabel=\"True\"] ;\\n2 [label=\"122.0 <= 0.014\\\\nentropy = 2.343\\\\nsamples = 52\\\\nvalue = [2, 17, 4, 9, 11, 9]\"] ;\\n1 -> 2 ;\\n3 [label=\"13.0 <= 0.009\\\\nentropy = 1.408\\\\nsamples = 24\\\\nvalue = [0, 12, 1, 0, 10, 1]\"] ;\\n2 -> 3 ;\\n4 [label=\"entropy = 1.061\\\\nsamples = 8\\\\nvalue = [0, 6, 1, 0, 0, 1]\"] ;\\n3 -> 4 ;\\n5 [label=\"entropy = 0.954\\\\nsamples = 16\\\\nvalue = [0, 6, 0, 0, 10, 0]\"] ;\\n3 -> 5 ;\\n6 [label=\"132.0 <= 0.014\\\\nentropy = 2.275\\\\nsamples = 28\\\\nvalue = [2, 5, 3, 9, 1, 8]\"] ;\\n2 -> 6 ;\\n7 [label=\"entropy = 1.264\\\\nsamples = 14\\\\nvalue = [0, 0, 1, 5, 0, 8]\"] ;\\n6 -> 7 ;\\n8 [label=\"entropy = 2.121\\\\nsamples = 14\\\\nvalue = [2, 5, 2, 4, 1, 0]\"] ;\\n6 -> 8 ;\\n9 [label=\"0.0 <= 0.0\\\\nentropy = 1.798\\\\nsamples = 40\\\\nvalue = [9, 1, 2, 8, 20, 0]\"] ;\\n1 -> 9 ;\\n10 [label=\"0.0 <= 0.001\\\\nentropy = 1.258\\\\nsamples = 30\\\\nvalue = [3, 0, 0, 8, 19, 0]\"] ;\\n9 -> 10 ;\\n11 [label=\"83.0 <= 0.012\\\\nentropy = 1.035\\\\nsamples = 25\\\\nvalue = [3, 0, 0, 3, 19, 0]\"] ;\\n10 -> 11 ;\\n12 [label=\"entropy = 0.629\\\\nsamples = 19\\\\nvalue = [3, 0, 0, 0, 16, 0]\"] ;\\n11 -> 12 ;\\n13 [label=\"entropy = 1.0\\\\nsamples = 6\\\\nvalue = [0, 0, 0, 3, 3, 0]\"] ;\\n11 -> 13 ;\\n14 [label=\"entropy = 0.0\\\\nsamples = 5\\\\nvalue = [0, 0, 0, 5, 0, 0]\"] ;\\n10 -> 14 ;\\n15 [label=\"entropy = 1.571\\\\nsamples = 10\\\\nvalue = [6, 1, 2, 0, 1, 0]\"] ;\\n9 -> 15 ;\\n16 [label=\"0.0 <= 0.003\\\\nentropy = 1.475\\\\nsamples = 29\\\\nvalue = [0, 15, 6, 0, 0, 8]\"] ;\\n0 -> 16 [labeldistance=2.5, labelangle=-45, headlabel=\"False\"] ;\\n17 [label=\"0.0 <= 0.0\\\\nentropy = 1.143\\\\nsamples = 24\\\\nvalue = [0, 15, 1, 0, 0, 8]\"] ;\\n16 -> 17 ;\\n18 [label=\"entropy = 0.986\\\\nsamples = 9\\\\nvalue = [0, 1, 1, 0, 0, 7]\"] ;\\n17 -> 18 ;\\n19 [label=\"entropy = 0.353\\\\nsamples = 15\\\\nvalue = [0, 14, 0, 0, 0, 1]\"] ;\\n17 -> 19 ;\\n20 [label=\"entropy = 0.0\\\\nsamples = 5\\\\nvalue = [0, 0, 5, 0, 0, 0]\"] ;\\n16 -> 20 ;\\n}'"
      ]
     },
     "execution_count": 169,
     "metadata": {},
     "output_type": "execute_result"
    }
   ],
   "source": [
    "file = open(\"../resouces/polyp_dtree.dot\", \"r\")\n",
    "text = file.read()\n",
    "text"
   ]
  },
  {
   "cell_type": "code",
   "execution_count": 170,
   "metadata": {},
   "outputs": [
    {
     "data": {
      "image/svg+xml": [
       "<?xml version=\"1.0\" encoding=\"UTF-8\" standalone=\"no\"?>\n",
       "<!DOCTYPE svg PUBLIC \"-//W3C//DTD SVG 1.1//EN\"\n",
       " \"http://www.w3.org/Graphics/SVG/1.1/DTD/svg11.dtd\">\n",
       "<!-- Generated by graphviz version 2.40.1 (20161225.0304)\n",
       " -->\n",
       "<!-- Title: Tree Pages: 1 -->\n",
       "<svg width=\"1344pt\" height=\"581pt\"\n",
       " viewBox=\"0.00 0.00 1344.00 581.00\" xmlns=\"http://www.w3.org/2000/svg\" xmlns:xlink=\"http://www.w3.org/1999/xlink\">\n",
       "<g id=\"graph0\" class=\"graph\" transform=\"scale(1 1) rotate(0) translate(4 577)\">\n",
       "<title>Tree</title>\n",
       "<polygon fill=\"#ffffff\" stroke=\"transparent\" points=\"-4,4 -4,-577 1340,-577 1340,4 -4,4\"/>\n",
       "<!-- 0 -->\n",
       "<g id=\"node1\" class=\"node\">\n",
       "<title>0</title>\n",
       "<polygon fill=\"none\" stroke=\"#000000\" points=\"1090,-573 901,-573 901,-505 1090,-505 1090,-573\"/>\n",
       "<text text-anchor=\"middle\" x=\"995.5\" y=\"-557.8\" font-family=\"Times,serif\" font-size=\"14.00\" fill=\"#000000\">0.0 &lt;= 0.0</text>\n",
       "<text text-anchor=\"middle\" x=\"995.5\" y=\"-542.8\" font-family=\"Times,serif\" font-size=\"14.00\" fill=\"#000000\">entropy = 2.455</text>\n",
       "<text text-anchor=\"middle\" x=\"995.5\" y=\"-527.8\" font-family=\"Times,serif\" font-size=\"14.00\" fill=\"#000000\">samples = 121</text>\n",
       "<text text-anchor=\"middle\" x=\"995.5\" y=\"-512.8\" font-family=\"Times,serif\" font-size=\"14.00\" fill=\"#000000\">value = [11, 33, 12, 17, 31, 17]</text>\n",
       "</g>\n",
       "<!-- 1 -->\n",
       "<g id=\"node2\" class=\"node\">\n",
       "<title>1</title>\n",
       "<polygon fill=\"none\" stroke=\"#000000\" points=\"915.5,-469 739.5,-469 739.5,-401 915.5,-401 915.5,-469\"/>\n",
       "<text text-anchor=\"middle\" x=\"827.5\" y=\"-453.8\" font-family=\"Times,serif\" font-size=\"14.00\" fill=\"#000000\">0.0 &lt;= 0.005</text>\n",
       "<text text-anchor=\"middle\" x=\"827.5\" y=\"-438.8\" font-family=\"Times,serif\" font-size=\"14.00\" fill=\"#000000\">entropy = 2.391</text>\n",
       "<text text-anchor=\"middle\" x=\"827.5\" y=\"-423.8\" font-family=\"Times,serif\" font-size=\"14.00\" fill=\"#000000\">samples = 92</text>\n",
       "<text text-anchor=\"middle\" x=\"827.5\" y=\"-408.8\" font-family=\"Times,serif\" font-size=\"14.00\" fill=\"#000000\">value = [11, 18, 6, 17, 31, 9]</text>\n",
       "</g>\n",
       "<!-- 0&#45;&gt;1 -->\n",
       "<g id=\"edge1\" class=\"edge\">\n",
       "<title>0&#45;&gt;1</title>\n",
       "<path fill=\"none\" stroke=\"#000000\" d=\"M940.4905,-504.9465C924.8264,-495.2497 907.6293,-484.6039 891.4804,-474.6069\"/>\n",
       "<polygon fill=\"#000000\" stroke=\"#000000\" points=\"892.978,-471.4177 882.6331,-469.13 889.2935,-477.3695 892.978,-471.4177\"/>\n",
       "<text text-anchor=\"middle\" x=\"887.2139\" y=\"-484.8983\" font-family=\"Times,serif\" font-size=\"14.00\" fill=\"#000000\">True</text>\n",
       "</g>\n",
       "<!-- 16 -->\n",
       "<g id=\"node17\" class=\"node\">\n",
       "<title>16</title>\n",
       "<polygon fill=\"none\" stroke=\"#000000\" points=\"1166,-469 1011,-469 1011,-401 1166,-401 1166,-469\"/>\n",
       "<text text-anchor=\"middle\" x=\"1088.5\" y=\"-453.8\" font-family=\"Times,serif\" font-size=\"14.00\" fill=\"#000000\">0.0 &lt;= 0.003</text>\n",
       "<text text-anchor=\"middle\" x=\"1088.5\" y=\"-438.8\" font-family=\"Times,serif\" font-size=\"14.00\" fill=\"#000000\">entropy = 1.475</text>\n",
       "<text text-anchor=\"middle\" x=\"1088.5\" y=\"-423.8\" font-family=\"Times,serif\" font-size=\"14.00\" fill=\"#000000\">samples = 29</text>\n",
       "<text text-anchor=\"middle\" x=\"1088.5\" y=\"-408.8\" font-family=\"Times,serif\" font-size=\"14.00\" fill=\"#000000\">value = [0, 15, 6, 0, 0, 8]</text>\n",
       "</g>\n",
       "<!-- 0&#45;&gt;16 -->\n",
       "<g id=\"edge16\" class=\"edge\">\n",
       "<title>0&#45;&gt;16</title>\n",
       "<path fill=\"none\" stroke=\"#000000\" d=\"M1025.9517,-504.9465C1033.9806,-495.968 1042.737,-486.1758 1051.0867,-476.8385\"/>\n",
       "<polygon fill=\"#000000\" stroke=\"#000000\" points=\"1053.923,-478.9174 1057.9799,-469.13 1048.705,-474.2512 1053.923,-478.9174\"/>\n",
       "<text text-anchor=\"middle\" x=\"1059.0949\" y=\"-485.3989\" font-family=\"Times,serif\" font-size=\"14.00\" fill=\"#000000\">False</text>\n",
       "</g>\n",
       "<!-- 2 -->\n",
       "<g id=\"node3\" class=\"node\">\n",
       "<title>2</title>\n",
       "<polygon fill=\"none\" stroke=\"#000000\" points=\"577.5,-365 415.5,-365 415.5,-297 577.5,-297 577.5,-365\"/>\n",
       "<text text-anchor=\"middle\" x=\"496.5\" y=\"-349.8\" font-family=\"Times,serif\" font-size=\"14.00\" fill=\"#000000\">122.0 &lt;= 0.014</text>\n",
       "<text text-anchor=\"middle\" x=\"496.5\" y=\"-334.8\" font-family=\"Times,serif\" font-size=\"14.00\" fill=\"#000000\">entropy = 2.343</text>\n",
       "<text text-anchor=\"middle\" x=\"496.5\" y=\"-319.8\" font-family=\"Times,serif\" font-size=\"14.00\" fill=\"#000000\">samples = 52</text>\n",
       "<text text-anchor=\"middle\" x=\"496.5\" y=\"-304.8\" font-family=\"Times,serif\" font-size=\"14.00\" fill=\"#000000\">value = [2, 17, 4, 9, 11, 9]</text>\n",
       "</g>\n",
       "<!-- 1&#45;&gt;2 -->\n",
       "<g id=\"edge2\" class=\"edge\">\n",
       "<title>1&#45;&gt;2</title>\n",
       "<path fill=\"none\" stroke=\"#000000\" d=\"M739.2329,-407.2665C692.2909,-392.5174 634.6629,-374.4107 587.3391,-359.5416\"/>\n",
       "<polygon fill=\"#000000\" stroke=\"#000000\" points=\"588.3011,-356.1752 577.7117,-356.5167 586.2028,-362.8533 588.3011,-356.1752\"/>\n",
       "</g>\n",
       "<!-- 9 -->\n",
       "<g id=\"node10\" class=\"node\">\n",
       "<title>9</title>\n",
       "<polygon fill=\"none\" stroke=\"#000000\" points=\"905,-365 750,-365 750,-297 905,-297 905,-365\"/>\n",
       "<text text-anchor=\"middle\" x=\"827.5\" y=\"-349.8\" font-family=\"Times,serif\" font-size=\"14.00\" fill=\"#000000\">0.0 &lt;= 0.0</text>\n",
       "<text text-anchor=\"middle\" x=\"827.5\" y=\"-334.8\" font-family=\"Times,serif\" font-size=\"14.00\" fill=\"#000000\">entropy = 1.798</text>\n",
       "<text text-anchor=\"middle\" x=\"827.5\" y=\"-319.8\" font-family=\"Times,serif\" font-size=\"14.00\" fill=\"#000000\">samples = 40</text>\n",
       "<text text-anchor=\"middle\" x=\"827.5\" y=\"-304.8\" font-family=\"Times,serif\" font-size=\"14.00\" fill=\"#000000\">value = [9, 1, 2, 8, 20, 0]</text>\n",
       "</g>\n",
       "<!-- 1&#45;&gt;9 -->\n",
       "<g id=\"edge9\" class=\"edge\">\n",
       "<title>1&#45;&gt;9</title>\n",
       "<path fill=\"none\" stroke=\"#000000\" d=\"M827.5,-400.9465C827.5,-392.776 827.5,-383.9318 827.5,-375.3697\"/>\n",
       "<polygon fill=\"#000000\" stroke=\"#000000\" points=\"831.0001,-375.13 827.5,-365.13 824.0001,-375.13 831.0001,-375.13\"/>\n",
       "</g>\n",
       "<!-- 3 -->\n",
       "<g id=\"node4\" class=\"node\">\n",
       "<title>3</title>\n",
       "<polygon fill=\"none\" stroke=\"#000000\" points=\"325.5,-261 163.5,-261 163.5,-193 325.5,-193 325.5,-261\"/>\n",
       "<text text-anchor=\"middle\" x=\"244.5\" y=\"-245.8\" font-family=\"Times,serif\" font-size=\"14.00\" fill=\"#000000\">13.0 &lt;= 0.009</text>\n",
       "<text text-anchor=\"middle\" x=\"244.5\" y=\"-230.8\" font-family=\"Times,serif\" font-size=\"14.00\" fill=\"#000000\">entropy = 1.408</text>\n",
       "<text text-anchor=\"middle\" x=\"244.5\" y=\"-215.8\" font-family=\"Times,serif\" font-size=\"14.00\" fill=\"#000000\">samples = 24</text>\n",
       "<text text-anchor=\"middle\" x=\"244.5\" y=\"-200.8\" font-family=\"Times,serif\" font-size=\"14.00\" fill=\"#000000\">value = [0, 12, 1, 0, 10, 1]</text>\n",
       "</g>\n",
       "<!-- 2&#45;&gt;3 -->\n",
       "<g id=\"edge3\" class=\"edge\">\n",
       "<title>2&#45;&gt;3</title>\n",
       "<path fill=\"none\" stroke=\"#000000\" d=\"M415.3785,-297.5213C389.8776,-286.9971 361.5557,-275.3087 335.4214,-264.5231\"/>\n",
       "<polygon fill=\"#000000\" stroke=\"#000000\" points=\"336.4802,-261.1738 325.9012,-260.5942 333.8098,-267.6444 336.4802,-261.1738\"/>\n",
       "</g>\n",
       "<!-- 6 -->\n",
       "<g id=\"node7\" class=\"node\">\n",
       "<title>6</title>\n",
       "<polygon fill=\"none\" stroke=\"#000000\" points=\"571,-261 422,-261 422,-193 571,-193 571,-261\"/>\n",
       "<text text-anchor=\"middle\" x=\"496.5\" y=\"-245.8\" font-family=\"Times,serif\" font-size=\"14.00\" fill=\"#000000\">132.0 &lt;= 0.014</text>\n",
       "<text text-anchor=\"middle\" x=\"496.5\" y=\"-230.8\" font-family=\"Times,serif\" font-size=\"14.00\" fill=\"#000000\">entropy = 2.275</text>\n",
       "<text text-anchor=\"middle\" x=\"496.5\" y=\"-215.8\" font-family=\"Times,serif\" font-size=\"14.00\" fill=\"#000000\">samples = 28</text>\n",
       "<text text-anchor=\"middle\" x=\"496.5\" y=\"-200.8\" font-family=\"Times,serif\" font-size=\"14.00\" fill=\"#000000\">value = [2, 5, 3, 9, 1, 8]</text>\n",
       "</g>\n",
       "<!-- 2&#45;&gt;6 -->\n",
       "<g id=\"edge6\" class=\"edge\">\n",
       "<title>2&#45;&gt;6</title>\n",
       "<path fill=\"none\" stroke=\"#000000\" d=\"M496.5,-296.9465C496.5,-288.776 496.5,-279.9318 496.5,-271.3697\"/>\n",
       "<polygon fill=\"#000000\" stroke=\"#000000\" points=\"500.0001,-271.13 496.5,-261.13 493.0001,-271.13 500.0001,-271.13\"/>\n",
       "</g>\n",
       "<!-- 4 -->\n",
       "<g id=\"node5\" class=\"node\">\n",
       "<title>4</title>\n",
       "<polygon fill=\"none\" stroke=\"#000000\" points=\"149,-149.5 0,-149.5 0,-96.5 149,-96.5 149,-149.5\"/>\n",
       "<text text-anchor=\"middle\" x=\"74.5\" y=\"-134.3\" font-family=\"Times,serif\" font-size=\"14.00\" fill=\"#000000\">entropy = 1.061</text>\n",
       "<text text-anchor=\"middle\" x=\"74.5\" y=\"-119.3\" font-family=\"Times,serif\" font-size=\"14.00\" fill=\"#000000\">samples = 8</text>\n",
       "<text text-anchor=\"middle\" x=\"74.5\" y=\"-104.3\" font-family=\"Times,serif\" font-size=\"14.00\" fill=\"#000000\">value = [0, 6, 1, 0, 0, 1]</text>\n",
       "</g>\n",
       "<!-- 3&#45;&gt;4 -->\n",
       "<g id=\"edge4\" class=\"edge\">\n",
       "<title>3&#45;&gt;4</title>\n",
       "<path fill=\"none\" stroke=\"#000000\" d=\"M188.8356,-192.9465C168.7599,-180.6649 146.1957,-166.8609 126.4499,-154.7811\"/>\n",
       "<polygon fill=\"#000000\" stroke=\"#000000\" points=\"128.2431,-151.7751 117.8862,-149.5422 124.5901,-157.7464 128.2431,-151.7751\"/>\n",
       "</g>\n",
       "<!-- 5 -->\n",
       "<g id=\"node6\" class=\"node\">\n",
       "<title>5</title>\n",
       "<polygon fill=\"none\" stroke=\"#000000\" points=\"322,-149.5 167,-149.5 167,-96.5 322,-96.5 322,-149.5\"/>\n",
       "<text text-anchor=\"middle\" x=\"244.5\" y=\"-134.3\" font-family=\"Times,serif\" font-size=\"14.00\" fill=\"#000000\">entropy = 0.954</text>\n",
       "<text text-anchor=\"middle\" x=\"244.5\" y=\"-119.3\" font-family=\"Times,serif\" font-size=\"14.00\" fill=\"#000000\">samples = 16</text>\n",
       "<text text-anchor=\"middle\" x=\"244.5\" y=\"-104.3\" font-family=\"Times,serif\" font-size=\"14.00\" fill=\"#000000\">value = [0, 6, 0, 0, 10, 0]</text>\n",
       "</g>\n",
       "<!-- 3&#45;&gt;5 -->\n",
       "<g id=\"edge5\" class=\"edge\">\n",
       "<title>3&#45;&gt;5</title>\n",
       "<path fill=\"none\" stroke=\"#000000\" d=\"M244.5,-192.9465C244.5,-182.2621 244.5,-170.4254 244.5,-159.5742\"/>\n",
       "<polygon fill=\"#000000\" stroke=\"#000000\" points=\"248.0001,-159.5421 244.5,-149.5422 241.0001,-159.5422 248.0001,-159.5421\"/>\n",
       "</g>\n",
       "<!-- 7 -->\n",
       "<g id=\"node8\" class=\"node\">\n",
       "<title>7</title>\n",
       "<polygon fill=\"none\" stroke=\"#000000\" points=\"489,-149.5 340,-149.5 340,-96.5 489,-96.5 489,-149.5\"/>\n",
       "<text text-anchor=\"middle\" x=\"414.5\" y=\"-134.3\" font-family=\"Times,serif\" font-size=\"14.00\" fill=\"#000000\">entropy = 1.264</text>\n",
       "<text text-anchor=\"middle\" x=\"414.5\" y=\"-119.3\" font-family=\"Times,serif\" font-size=\"14.00\" fill=\"#000000\">samples = 14</text>\n",
       "<text text-anchor=\"middle\" x=\"414.5\" y=\"-104.3\" font-family=\"Times,serif\" font-size=\"14.00\" fill=\"#000000\">value = [0, 0, 1, 5, 0, 8]</text>\n",
       "</g>\n",
       "<!-- 6&#45;&gt;7 -->\n",
       "<g id=\"edge7\" class=\"edge\">\n",
       "<title>6&#45;&gt;7</title>\n",
       "<path fill=\"none\" stroke=\"#000000\" d=\"M469.6501,-192.9465C460.7048,-181.6012 450.7351,-168.9567 441.759,-157.5724\"/>\n",
       "<polygon fill=\"#000000\" stroke=\"#000000\" points=\"444.3675,-155.2278 435.4275,-149.5422 438.8706,-159.5619 444.3675,-155.2278\"/>\n",
       "</g>\n",
       "<!-- 8 -->\n",
       "<g id=\"node9\" class=\"node\">\n",
       "<title>8</title>\n",
       "<polygon fill=\"none\" stroke=\"#000000\" points=\"656,-149.5 507,-149.5 507,-96.5 656,-96.5 656,-149.5\"/>\n",
       "<text text-anchor=\"middle\" x=\"581.5\" y=\"-134.3\" font-family=\"Times,serif\" font-size=\"14.00\" fill=\"#000000\">entropy = 2.121</text>\n",
       "<text text-anchor=\"middle\" x=\"581.5\" y=\"-119.3\" font-family=\"Times,serif\" font-size=\"14.00\" fill=\"#000000\">samples = 14</text>\n",
       "<text text-anchor=\"middle\" x=\"581.5\" y=\"-104.3\" font-family=\"Times,serif\" font-size=\"14.00\" fill=\"#000000\">value = [2, 5, 2, 4, 1, 0]</text>\n",
       "</g>\n",
       "<!-- 6&#45;&gt;8 -->\n",
       "<g id=\"edge8\" class=\"edge\">\n",
       "<title>6&#45;&gt;8</title>\n",
       "<path fill=\"none\" stroke=\"#000000\" d=\"M524.3322,-192.9465C533.6048,-181.6012 543.9392,-168.9567 553.2437,-157.5724\"/>\n",
       "<polygon fill=\"#000000\" stroke=\"#000000\" points=\"556.1885,-159.5 559.8069,-149.5422 550.7685,-155.0701 556.1885,-159.5\"/>\n",
       "</g>\n",
       "<!-- 10 -->\n",
       "<g id=\"node11\" class=\"node\">\n",
       "<title>10</title>\n",
       "<polygon fill=\"none\" stroke=\"#000000\" points=\"829,-261 674,-261 674,-193 829,-193 829,-261\"/>\n",
       "<text text-anchor=\"middle\" x=\"751.5\" y=\"-245.8\" font-family=\"Times,serif\" font-size=\"14.00\" fill=\"#000000\">0.0 &lt;= 0.001</text>\n",
       "<text text-anchor=\"middle\" x=\"751.5\" y=\"-230.8\" font-family=\"Times,serif\" font-size=\"14.00\" fill=\"#000000\">entropy = 1.258</text>\n",
       "<text text-anchor=\"middle\" x=\"751.5\" y=\"-215.8\" font-family=\"Times,serif\" font-size=\"14.00\" fill=\"#000000\">samples = 30</text>\n",
       "<text text-anchor=\"middle\" x=\"751.5\" y=\"-200.8\" font-family=\"Times,serif\" font-size=\"14.00\" fill=\"#000000\">value = [3, 0, 0, 8, 19, 0]</text>\n",
       "</g>\n",
       "<!-- 9&#45;&gt;10 -->\n",
       "<g id=\"edge10\" class=\"edge\">\n",
       "<title>9&#45;&gt;10</title>\n",
       "<path fill=\"none\" stroke=\"#000000\" d=\"M802.6148,-296.9465C796.1847,-288.1475 789.1837,-278.5672 782.4841,-269.3993\"/>\n",
       "<polygon fill=\"#000000\" stroke=\"#000000\" points=\"785.1672,-267.1389 776.4412,-261.13 779.5155,-271.269 785.1672,-267.1389\"/>\n",
       "</g>\n",
       "<!-- 15 -->\n",
       "<g id=\"node16\" class=\"node\">\n",
       "<title>15</title>\n",
       "<polygon fill=\"none\" stroke=\"#000000\" points=\"996,-253.5 847,-253.5 847,-200.5 996,-200.5 996,-253.5\"/>\n",
       "<text text-anchor=\"middle\" x=\"921.5\" y=\"-238.3\" font-family=\"Times,serif\" font-size=\"14.00\" fill=\"#000000\">entropy = 1.571</text>\n",
       "<text text-anchor=\"middle\" x=\"921.5\" y=\"-223.3\" font-family=\"Times,serif\" font-size=\"14.00\" fill=\"#000000\">samples = 10</text>\n",
       "<text text-anchor=\"middle\" x=\"921.5\" y=\"-208.3\" font-family=\"Times,serif\" font-size=\"14.00\" fill=\"#000000\">value = [6, 1, 2, 0, 1, 0]</text>\n",
       "</g>\n",
       "<!-- 9&#45;&gt;15 -->\n",
       "<g id=\"edge15\" class=\"edge\">\n",
       "<title>9&#45;&gt;15</title>\n",
       "<path fill=\"none\" stroke=\"#000000\" d=\"M858.2791,-296.9465C868.6331,-285.491 880.1842,-272.711 890.5513,-261.2412\"/>\n",
       "<polygon fill=\"#000000\" stroke=\"#000000\" points=\"893.4011,-263.3078 897.51,-253.5422 888.208,-258.614 893.4011,-263.3078\"/>\n",
       "</g>\n",
       "<!-- 11 -->\n",
       "<g id=\"node12\" class=\"node\">\n",
       "<title>11</title>\n",
       "<polygon fill=\"none\" stroke=\"#000000\" points=\"829,-157 674,-157 674,-89 829,-89 829,-157\"/>\n",
       "<text text-anchor=\"middle\" x=\"751.5\" y=\"-141.8\" font-family=\"Times,serif\" font-size=\"14.00\" fill=\"#000000\">83.0 &lt;= 0.012</text>\n",
       "<text text-anchor=\"middle\" x=\"751.5\" y=\"-126.8\" font-family=\"Times,serif\" font-size=\"14.00\" fill=\"#000000\">entropy = 1.035</text>\n",
       "<text text-anchor=\"middle\" x=\"751.5\" y=\"-111.8\" font-family=\"Times,serif\" font-size=\"14.00\" fill=\"#000000\">samples = 25</text>\n",
       "<text text-anchor=\"middle\" x=\"751.5\" y=\"-96.8\" font-family=\"Times,serif\" font-size=\"14.00\" fill=\"#000000\">value = [3, 0, 0, 3, 19, 0]</text>\n",
       "</g>\n",
       "<!-- 10&#45;&gt;11 -->\n",
       "<g id=\"edge11\" class=\"edge\">\n",
       "<title>10&#45;&gt;11</title>\n",
       "<path fill=\"none\" stroke=\"#000000\" d=\"M751.5,-192.9465C751.5,-184.776 751.5,-175.9318 751.5,-167.3697\"/>\n",
       "<polygon fill=\"#000000\" stroke=\"#000000\" points=\"755.0001,-167.13 751.5,-157.13 748.0001,-167.13 755.0001,-167.13\"/>\n",
       "</g>\n",
       "<!-- 14 -->\n",
       "<g id=\"node15\" class=\"node\">\n",
       "<title>14</title>\n",
       "<polygon fill=\"none\" stroke=\"#000000\" points=\"996,-149.5 847,-149.5 847,-96.5 996,-96.5 996,-149.5\"/>\n",
       "<text text-anchor=\"middle\" x=\"921.5\" y=\"-134.3\" font-family=\"Times,serif\" font-size=\"14.00\" fill=\"#000000\">entropy = 0.0</text>\n",
       "<text text-anchor=\"middle\" x=\"921.5\" y=\"-119.3\" font-family=\"Times,serif\" font-size=\"14.00\" fill=\"#000000\">samples = 5</text>\n",
       "<text text-anchor=\"middle\" x=\"921.5\" y=\"-104.3\" font-family=\"Times,serif\" font-size=\"14.00\" fill=\"#000000\">value = [0, 0, 0, 5, 0, 0]</text>\n",
       "</g>\n",
       "<!-- 10&#45;&gt;14 -->\n",
       "<g id=\"edge14\" class=\"edge\">\n",
       "<title>10&#45;&gt;14</title>\n",
       "<path fill=\"none\" stroke=\"#000000\" d=\"M807.1644,-192.9465C827.2401,-180.6649 849.8043,-166.8609 869.5501,-154.7811\"/>\n",
       "<polygon fill=\"#000000\" stroke=\"#000000\" points=\"871.4099,-157.7464 878.1138,-149.5422 867.7569,-151.7751 871.4099,-157.7464\"/>\n",
       "</g>\n",
       "<!-- 12 -->\n",
       "<g id=\"node13\" class=\"node\">\n",
       "<title>12</title>\n",
       "<polygon fill=\"none\" stroke=\"#000000\" points=\"744,-53 589,-53 589,0 744,0 744,-53\"/>\n",
       "<text text-anchor=\"middle\" x=\"666.5\" y=\"-37.8\" font-family=\"Times,serif\" font-size=\"14.00\" fill=\"#000000\">entropy = 0.629</text>\n",
       "<text text-anchor=\"middle\" x=\"666.5\" y=\"-22.8\" font-family=\"Times,serif\" font-size=\"14.00\" fill=\"#000000\">samples = 19</text>\n",
       "<text text-anchor=\"middle\" x=\"666.5\" y=\"-7.8\" font-family=\"Times,serif\" font-size=\"14.00\" fill=\"#000000\">value = [3, 0, 0, 0, 16, 0]</text>\n",
       "</g>\n",
       "<!-- 11&#45;&gt;12 -->\n",
       "<g id=\"edge12\" class=\"edge\">\n",
       "<title>11&#45;&gt;12</title>\n",
       "<path fill=\"none\" stroke=\"#000000\" d=\"M721.5322,-88.9777C713.5471,-79.9123 704.9138,-70.111 696.9056,-61.0192\"/>\n",
       "<polygon fill=\"#000000\" stroke=\"#000000\" points=\"699.2971,-58.4391 690.0608,-53.2485 694.0442,-63.066 699.2971,-58.4391\"/>\n",
       "</g>\n",
       "<!-- 13 -->\n",
       "<g id=\"node14\" class=\"node\">\n",
       "<title>13</title>\n",
       "<polygon fill=\"none\" stroke=\"#000000\" points=\"911,-53 762,-53 762,0 911,0 911,-53\"/>\n",
       "<text text-anchor=\"middle\" x=\"836.5\" y=\"-37.8\" font-family=\"Times,serif\" font-size=\"14.00\" fill=\"#000000\">entropy = 1.0</text>\n",
       "<text text-anchor=\"middle\" x=\"836.5\" y=\"-22.8\" font-family=\"Times,serif\" font-size=\"14.00\" fill=\"#000000\">samples = 6</text>\n",
       "<text text-anchor=\"middle\" x=\"836.5\" y=\"-7.8\" font-family=\"Times,serif\" font-size=\"14.00\" fill=\"#000000\">value = [0, 0, 0, 3, 3, 0]</text>\n",
       "</g>\n",
       "<!-- 11&#45;&gt;13 -->\n",
       "<g id=\"edge13\" class=\"edge\">\n",
       "<title>11&#45;&gt;13</title>\n",
       "<path fill=\"none\" stroke=\"#000000\" d=\"M781.4678,-88.9777C789.4529,-79.9123 798.0862,-70.111 806.0944,-61.0192\"/>\n",
       "<polygon fill=\"#000000\" stroke=\"#000000\" points=\"808.9558,-63.066 812.9392,-53.2485 803.7029,-58.4391 808.9558,-63.066\"/>\n",
       "</g>\n",
       "<!-- 17 -->\n",
       "<g id=\"node18\" class=\"node\">\n",
       "<title>17</title>\n",
       "<polygon fill=\"none\" stroke=\"#000000\" points=\"1166,-365 1011,-365 1011,-297 1166,-297 1166,-365\"/>\n",
       "<text text-anchor=\"middle\" x=\"1088.5\" y=\"-349.8\" font-family=\"Times,serif\" font-size=\"14.00\" fill=\"#000000\">0.0 &lt;= 0.0</text>\n",
       "<text text-anchor=\"middle\" x=\"1088.5\" y=\"-334.8\" font-family=\"Times,serif\" font-size=\"14.00\" fill=\"#000000\">entropy = 1.143</text>\n",
       "<text text-anchor=\"middle\" x=\"1088.5\" y=\"-319.8\" font-family=\"Times,serif\" font-size=\"14.00\" fill=\"#000000\">samples = 24</text>\n",
       "<text text-anchor=\"middle\" x=\"1088.5\" y=\"-304.8\" font-family=\"Times,serif\" font-size=\"14.00\" fill=\"#000000\">value = [0, 15, 1, 0, 0, 8]</text>\n",
       "</g>\n",
       "<!-- 16&#45;&gt;17 -->\n",
       "<g id=\"edge17\" class=\"edge\">\n",
       "<title>16&#45;&gt;17</title>\n",
       "<path fill=\"none\" stroke=\"#000000\" d=\"M1088.5,-400.9465C1088.5,-392.776 1088.5,-383.9318 1088.5,-375.3697\"/>\n",
       "<polygon fill=\"#000000\" stroke=\"#000000\" points=\"1092.0001,-375.13 1088.5,-365.13 1085.0001,-375.13 1092.0001,-375.13\"/>\n",
       "</g>\n",
       "<!-- 20 -->\n",
       "<g id=\"node21\" class=\"node\">\n",
       "<title>20</title>\n",
       "<polygon fill=\"none\" stroke=\"#000000\" points=\"1333,-357.5 1184,-357.5 1184,-304.5 1333,-304.5 1333,-357.5\"/>\n",
       "<text text-anchor=\"middle\" x=\"1258.5\" y=\"-342.3\" font-family=\"Times,serif\" font-size=\"14.00\" fill=\"#000000\">entropy = 0.0</text>\n",
       "<text text-anchor=\"middle\" x=\"1258.5\" y=\"-327.3\" font-family=\"Times,serif\" font-size=\"14.00\" fill=\"#000000\">samples = 5</text>\n",
       "<text text-anchor=\"middle\" x=\"1258.5\" y=\"-312.3\" font-family=\"Times,serif\" font-size=\"14.00\" fill=\"#000000\">value = [0, 0, 5, 0, 0, 0]</text>\n",
       "</g>\n",
       "<!-- 16&#45;&gt;20 -->\n",
       "<g id=\"edge20\" class=\"edge\">\n",
       "<title>16&#45;&gt;20</title>\n",
       "<path fill=\"none\" stroke=\"#000000\" d=\"M1144.1644,-400.9465C1164.2401,-388.6649 1186.8043,-374.8609 1206.5501,-362.7811\"/>\n",
       "<polygon fill=\"#000000\" stroke=\"#000000\" points=\"1208.4099,-365.7464 1215.1138,-357.5422 1204.7569,-359.7751 1208.4099,-365.7464\"/>\n",
       "</g>\n",
       "<!-- 18 -->\n",
       "<g id=\"node19\" class=\"node\">\n",
       "<title>18</title>\n",
       "<polygon fill=\"none\" stroke=\"#000000\" points=\"1163,-253.5 1014,-253.5 1014,-200.5 1163,-200.5 1163,-253.5\"/>\n",
       "<text text-anchor=\"middle\" x=\"1088.5\" y=\"-238.3\" font-family=\"Times,serif\" font-size=\"14.00\" fill=\"#000000\">entropy = 0.986</text>\n",
       "<text text-anchor=\"middle\" x=\"1088.5\" y=\"-223.3\" font-family=\"Times,serif\" font-size=\"14.00\" fill=\"#000000\">samples = 9</text>\n",
       "<text text-anchor=\"middle\" x=\"1088.5\" y=\"-208.3\" font-family=\"Times,serif\" font-size=\"14.00\" fill=\"#000000\">value = [0, 1, 1, 0, 0, 7]</text>\n",
       "</g>\n",
       "<!-- 17&#45;&gt;18 -->\n",
       "<g id=\"edge18\" class=\"edge\">\n",
       "<title>17&#45;&gt;18</title>\n",
       "<path fill=\"none\" stroke=\"#000000\" d=\"M1088.5,-296.9465C1088.5,-286.2621 1088.5,-274.4254 1088.5,-263.5742\"/>\n",
       "<polygon fill=\"#000000\" stroke=\"#000000\" points=\"1092.0001,-263.5421 1088.5,-253.5422 1085.0001,-263.5422 1092.0001,-263.5421\"/>\n",
       "</g>\n",
       "<!-- 19 -->\n",
       "<g id=\"node20\" class=\"node\">\n",
       "<title>19</title>\n",
       "<polygon fill=\"none\" stroke=\"#000000\" points=\"1336,-253.5 1181,-253.5 1181,-200.5 1336,-200.5 1336,-253.5\"/>\n",
       "<text text-anchor=\"middle\" x=\"1258.5\" y=\"-238.3\" font-family=\"Times,serif\" font-size=\"14.00\" fill=\"#000000\">entropy = 0.353</text>\n",
       "<text text-anchor=\"middle\" x=\"1258.5\" y=\"-223.3\" font-family=\"Times,serif\" font-size=\"14.00\" fill=\"#000000\">samples = 15</text>\n",
       "<text text-anchor=\"middle\" x=\"1258.5\" y=\"-208.3\" font-family=\"Times,serif\" font-size=\"14.00\" fill=\"#000000\">value = [0, 14, 0, 0, 0, 1]</text>\n",
       "</g>\n",
       "<!-- 17&#45;&gt;19 -->\n",
       "<g id=\"edge19\" class=\"edge\">\n",
       "<title>17&#45;&gt;19</title>\n",
       "<path fill=\"none\" stroke=\"#000000\" d=\"M1144.1644,-296.9465C1164.2401,-284.6649 1186.8043,-270.8609 1206.5501,-258.7811\"/>\n",
       "<polygon fill=\"#000000\" stroke=\"#000000\" points=\"1208.4099,-261.7464 1215.1138,-253.5422 1204.7569,-255.7751 1208.4099,-261.7464\"/>\n",
       "</g>\n",
       "</g>\n",
       "</svg>\n"
      ],
      "text/plain": [
       "<graphviz.files.Source at 0x7f22a4601198>"
      ]
     },
     "execution_count": 170,
     "metadata": {},
     "output_type": "execute_result"
    }
   ],
   "source": [
    "Source(text)"
   ]
  },
  {
   "cell_type": "markdown",
   "metadata": {},
   "source": [
    "## Standardization"
   ]
  },
  {
   "cell_type": "code",
   "execution_count": 32,
   "metadata": {
    "collapsed": true
   },
   "outputs": [],
   "source": [
    "predictor_cent = preprocessing.scale(predictor)"
   ]
  },
  {
   "cell_type": "code",
   "execution_count": 33,
   "metadata": {},
   "outputs": [
    {
     "name": "stdout",
     "output_type": "stream",
     "text": [
      "[1 1 5 2 1 1 4 1 6 1 4 6 6 6 6 2 2 1 3 6 6 3 6 6 5 1 1 4 5 5 2]\n"
     ]
    }
   ],
   "source": [
    "from sklearn.model_selection import train_test_split\n",
    "test_size = 0.2\n",
    "X_train, X_test, y_train, y_test = train_test_split(predictor_cent,target,test_size=test_size)\n",
    "print (y_test)"
   ]
  },
  {
   "cell_type": "code",
   "execution_count": 36,
   "metadata": {
    "collapsed": true
   },
   "outputs": [],
   "source": [
    "tree2 = DecisionTreeClassifier(criterion=\"entropy\",max_depth=6, min_samples_split=20, random_state=99 )"
   ]
  },
  {
   "cell_type": "code",
   "execution_count": 37,
   "metadata": {},
   "outputs": [
    {
     "data": {
      "text/plain": [
       "DecisionTreeClassifier(class_weight=None, criterion='entropy', max_depth=6,\n",
       "            max_features=None, max_leaf_nodes=None,\n",
       "            min_impurity_decrease=0.0, min_impurity_split=None,\n",
       "            min_samples_leaf=1, min_samples_split=20,\n",
       "            min_weight_fraction_leaf=0.0, presort=False, random_state=99,\n",
       "            splitter='best')"
      ]
     },
     "execution_count": 37,
     "metadata": {},
     "output_type": "execute_result"
    }
   ],
   "source": [
    "tree2.fit(X_train,y_train)"
   ]
  },
  {
   "cell_type": "code",
   "execution_count": 38,
   "metadata": {},
   "outputs": [
    {
     "data": {
      "text/plain": [
       "0.5161290322580645"
      ]
     },
     "execution_count": 38,
     "metadata": {},
     "output_type": "execute_result"
    }
   ],
   "source": [
    "tree2.score(X_test,y_test)"
   ]
  },
  {
   "cell_type": "markdown",
   "metadata": {},
   "source": [
    "# <span style=\"color:red\">Cross validation</span>"
   ]
  },
  {
   "cell_type": "markdown",
   "metadata": {},
   "source": [
    "### Normalizated"
   ]
  },
  {
   "cell_type": "code",
   "execution_count": 39,
   "metadata": {
    "collapsed": true
   },
   "outputs": [],
   "source": [
    "cv = KFold(n_splits = 10, shuffle = True, random_state = 1)"
   ]
  },
  {
   "cell_type": "code",
   "execution_count": 40,
   "metadata": {},
   "outputs": [
    {
     "data": {
      "text/plain": [
       "0.28958333333333336"
      ]
     },
     "execution_count": 40,
     "metadata": {},
     "output_type": "execute_result"
    }
   ],
   "source": [
    "score = np.mean(cross_val_score(tree, predictor_norm, target, scoring = \"accuracy\", cv = cv, n_jobs=1))\n",
    "score"
   ]
  },
  {
   "cell_type": "markdown",
   "metadata": {},
   "source": [
    "### Standardization"
   ]
  },
  {
   "cell_type": "code",
   "execution_count": 44,
   "metadata": {
    "collapsed": true
   },
   "outputs": [],
   "source": [
    "cv2 = KFold(n_splits = 10, shuffle = True, random_state = 1)"
   ]
  },
  {
   "cell_type": "code",
   "execution_count": 45,
   "metadata": {},
   "outputs": [
    {
     "data": {
      "text/plain": [
       "0.3625"
      ]
     },
     "execution_count": 45,
     "metadata": {},
     "output_type": "execute_result"
    }
   ],
   "source": [
    "score2 = np.mean(cross_val_score(tree2, predictor_cent, target, scoring = \"accuracy\", cv = cv, n_jobs=1))\n",
    "score2"
   ]
  },
  {
   "cell_type": "markdown",
   "metadata": {},
   "source": [
    "# <span style=\"color:red\">LOOCV</span>"
   ]
  },
  {
   "cell_type": "markdown",
   "metadata": {},
   "source": [
    "### Normalized"
   ]
  },
  {
   "cell_type": "code",
   "execution_count": 46,
   "metadata": {
    "collapsed": true
   },
   "outputs": [],
   "source": [
    "cv3 = KFold(n_splits = predictor_norm.shape[0], shuffle = True, random_state = 1)"
   ]
  },
  {
   "cell_type": "code",
   "execution_count": 47,
   "metadata": {},
   "outputs": [
    {
     "data": {
      "text/plain": [
       "0.28958333333333336"
      ]
     },
     "execution_count": 47,
     "metadata": {},
     "output_type": "execute_result"
    }
   ],
   "source": [
    "score3 = np.mean(cross_val_score(tree, predictor_norm, target, scoring = \"accuracy\", cv = cv, n_jobs=1))\n",
    "score3"
   ]
  },
  {
   "cell_type": "markdown",
   "metadata": {},
   "source": [
    "### Standardization"
   ]
  },
  {
   "cell_type": "code",
   "execution_count": 48,
   "metadata": {
    "collapsed": true
   },
   "outputs": [],
   "source": [
    "cv4 = KFold(n_splits = predictor_cent.shape[0], shuffle = True, random_state = 1)"
   ]
  },
  {
   "cell_type": "code",
   "execution_count": 49,
   "metadata": {},
   "outputs": [
    {
     "data": {
      "text/plain": [
       "0.3625"
      ]
     },
     "execution_count": 49,
     "metadata": {},
     "output_type": "execute_result"
    }
   ],
   "source": [
    "score4 = np.mean(cross_val_score(tree2, predictor_cent, target, scoring = \"accuracy\", cv = cv, n_jobs=1))\n",
    "score4"
   ]
  },
  {
   "cell_type": "markdown",
   "metadata": {},
   "source": [
    "# Changing deep"
   ]
  },
  {
   "cell_type": "code",
   "execution_count": 173,
   "metadata": {},
   "outputs": [
    {
     "name": "stdout",
     "output_type": "stream",
     "text": [
      "Score de: 0.28208333333333335 para la profundidad:  1\n",
      "Score de: 0.34125 para la profundidad:  2\n",
      "Score de: 0.3291666666666667 para la profundidad:  3\n",
      "Score de: 0.3229166666666667 para la profundidad:  4\n",
      "Score de: 0.3433333333333334 para la profundidad:  5\n",
      "Score de: 0.3366666666666667 para la profundidad:  6\n",
      "Score de: 0.3366666666666667 para la profundidad:  7\n",
      "Score de: 0.33708333333333335 para la profundidad:  8\n",
      "Score de: 0.33708333333333335 para la profundidad:  9\n",
      "Score de: 0.33708333333333335 para la profundidad:  10\n"
     ]
    }
   ],
   "source": [
    "for i in range(1,11):\n",
    "    tree = DecisionTreeClassifier(criterion=\"entropy\", max_depth=i, min_samples_split=20, random_state=99 )\n",
    "    tree.fit(X_train, y_train)\n",
    "    score = np.mean(cross_val_score(tree, predictor_norm, target, scoring=\"accuracy\", cv =cv, n_jobs=1))\n",
    "    print(\"Score de:\", score, \"para la profundidad: \", i)\n",
    "    #print(\"    \", tree.feature_importances_)"
   ]
  },
  {
   "cell_type": "markdown",
   "metadata": {},
   "source": [
    "# <span style=\"color:red\">DT para imagenes de varianza</span>"
   ]
  },
  {
   "cell_type": "code",
   "execution_count": 5,
   "metadata": {},
   "outputs": [
    {
     "name": "stdout",
     "output_type": "stream",
     "text": [
      "['hiperplasNbi', 'adenomaWl', 'serratedWl', 'serratedNbi', 'hiperplasWl', 'adenomaNbi']\n",
      "class:  hiperplasNbi total  21\n",
      "class:  adenomaWl total  40\n",
      "class:  serratedWl total  15\n",
      "class:  serratedNbi total  15\n",
      "class:  hiperplasWl total  21\n",
      "class:  adenomaNbi total  40\n"
     ]
    }
   ],
   "source": [
    "path_classes2 = \"/home/franklinsierra/Documentos/Biomedica/Experimentos/notebooks/mix_var_img/\"\n",
    "classes_names2 = os.listdir(path_classes2)\n",
    "print (classes_names2)\n",
    "\n",
    "for i, name_class in enumerate(classes_names2):\n",
    "    dic_img[classes_names2[i]] = np.array(os.listdir(path_classes2+classes_names2[i]))\n",
    "    print (\"class: \", name_class, \"total \", len(dic_img[classes_names2[i]]))"
   ]
  },
  {
   "cell_type": "code",
   "execution_count": 6,
   "metadata": {},
   "outputs": [
    {
     "name": "stdout",
     "output_type": "stream",
     "text": [
      "1 clase:  hiperplasNbi  target:  1  total:  21\n",
      "2 clase:  adenomaWl  target:  2  total:  40\n",
      "3 clase:  serratedWl  target:  3  total:  15\n",
      "4 clase:  serratedNbi  target:  4  total:  15\n",
      "5 clase:  hiperplasWl  target:  5  total:  21\n",
      "6 clase:  adenomaNbi  target:  6  total:  40\n"
     ]
    }
   ],
   "source": [
    "predictor2 = []\n",
    "target2 = []\n",
    "resize_value = 100\n",
    "for i, classes in enumerate(classes_names2):\n",
    "    print((i+1), \"clase: \", classes, \" target: \", (i+1), \" total: \", len(dic_img[classes]))\n",
    "    for img_name in dic_img[classes]:\n",
    "        path_image = path_classes2+classes+'/'+img_name\n",
    "        img = cv.resize(cv.imread(path_image,0),(100,100))*1.\n",
    "        flatt_img = img.reshape(resize_value*resize_value)\n",
    "        ########################\n",
    "        #Caracteristicas globales\n",
    "        ########################\n",
    "        #fv_hu_moments = fd_hu_moments(flatt_img)\n",
    "        #fv_haralick = fd_haralick(flatt_img)\n",
    "        #fv_histogram = fd_histogram(flatt_img)\n",
    "        #######################\n",
    "        #Concatenacion de todas las features\n",
    "        #######################\n",
    "        #predictor = np.hstack([fv_hu_moments, fv_haralick, fv_histogram])\n",
    "        \n",
    "        predictor2.append(flatt_img)\n",
    "        target2.append(i+1)\n",
    "predictor2 = np.r_[predictor2]        \n",
    "target2 = np.r_[target2]"
   ]
  },
  {
   "cell_type": "markdown",
   "metadata": {},
   "source": [
    "### Normalizando"
   ]
  },
  {
   "cell_type": "code",
   "execution_count": 7,
   "metadata": {
    "collapsed": true
   },
   "outputs": [],
   "source": [
    "predictor2_norm = preprocessing.normalize(predictor2)"
   ]
  },
  {
   "cell_type": "code",
   "execution_count": 8,
   "metadata": {},
   "outputs": [
    {
     "name": "stdout",
     "output_type": "stream",
     "text": [
      "[6 2 6 1 5 3 2 2 2 2 5 2 4 5 2 2 2 3 1 6 5 6 1 2 4 2 1 6 2 2 2]\n"
     ]
    }
   ],
   "source": [
    "from sklearn.model_selection import train_test_split\n",
    "test_size = 0.2\n",
    "X_train2, X_test2, y_train2, y_test2 = train_test_split(predictor2_norm,target2,test_size=test_size)\n",
    "print (y_test2)"
   ]
  },
  {
   "cell_type": "code",
   "execution_count": 9,
   "metadata": {
    "collapsed": true
   },
   "outputs": [],
   "source": [
    "tree2 = DecisionTreeClassifier(criterion=\"entropy\",max_depth=6, min_samples_split=20, random_state=99 )"
   ]
  },
  {
   "cell_type": "code",
   "execution_count": 10,
   "metadata": {},
   "outputs": [
    {
     "data": {
      "text/plain": [
       "DecisionTreeClassifier(class_weight=None, criterion='entropy', max_depth=6,\n",
       "            max_features=None, max_leaf_nodes=None,\n",
       "            min_impurity_decrease=0.0, min_impurity_split=None,\n",
       "            min_samples_leaf=1, min_samples_split=20,\n",
       "            min_weight_fraction_leaf=0.0, presort=False, random_state=99,\n",
       "            splitter='best')"
      ]
     },
     "execution_count": 10,
     "metadata": {},
     "output_type": "execute_result"
    }
   ],
   "source": [
    "tree2.fit(X_train2,y_train2)"
   ]
  },
  {
   "cell_type": "code",
   "execution_count": 12,
   "metadata": {},
   "outputs": [
    {
     "data": {
      "text/plain": [
       "0.3548387096774194"
      ]
     },
     "execution_count": 12,
     "metadata": {},
     "output_type": "execute_result"
    }
   ],
   "source": [
    "tree2.score(X_test2, y_test2)"
   ]
  },
  {
   "cell_type": "markdown",
   "metadata": {},
   "source": [
    "## Cross validation"
   ]
  },
  {
   "cell_type": "code",
   "execution_count": 13,
   "metadata": {
    "collapsed": true
   },
   "outputs": [],
   "source": [
    "valid = KFold(n_splits = 10, shuffle = True, random_state = 1)"
   ]
  },
  {
   "cell_type": "code",
   "execution_count": 14,
   "metadata": {},
   "outputs": [
    {
     "data": {
      "text/plain": [
       "0.26375000000000004"
      ]
     },
     "execution_count": 14,
     "metadata": {},
     "output_type": "execute_result"
    }
   ],
   "source": [
    "acc = np.mean(cross_val_score(tree2, predictor2_norm, target2, scoring = \"accuracy\", cv = valid, n_jobs=1))\n",
    "acc"
   ]
  },
  {
   "cell_type": "markdown",
   "metadata": {},
   "source": [
    "## Changing deep"
   ]
  },
  {
   "cell_type": "code",
   "execution_count": 16,
   "metadata": {},
   "outputs": [
    {
     "name": "stdout",
     "output_type": "stream",
     "text": [
      "Score de: 0.32875000000000004 para la profundidad:  1\n",
      "Score de: 0.30875 para la profundidad:  2\n",
      "Score de: 0.25125000000000003 para la profundidad:  3\n",
      "Score de: 0.24375000000000005 para la profundidad:  4\n",
      "Score de: 0.26375000000000004 para la profundidad:  5\n",
      "Score de: 0.26375000000000004 para la profundidad:  6\n",
      "Score de: 0.26375000000000004 para la profundidad:  7\n",
      "Score de: 0.26375000000000004 para la profundidad:  8\n",
      "Score de: 0.26375000000000004 para la profundidad:  9\n",
      "Score de: 0.26375000000000004 para la profundidad:  10\n"
     ]
    }
   ],
   "source": [
    "for i in range(1,11):\n",
    "    tree2 = DecisionTreeClassifier(criterion=\"entropy\", max_depth=i, min_samples_split=20, random_state=99 )\n",
    "    tree2.fit(X_train2, y_train2)\n",
    "    score = np.mean(cross_val_score(tree2, predictor2_norm, target2, scoring=\"accuracy\", cv =valid, n_jobs=1))\n",
    "    print(\"Score de:\", score, \"para la profundidad: \", i)"
   ]
  },
  {
   "cell_type": "markdown",
   "metadata": {},
   "source": [
    "## Standardization"
   ]
  },
  {
   "cell_type": "code",
   "execution_count": 25,
   "metadata": {
    "collapsed": true
   },
   "outputs": [],
   "source": [
    "predictor2_cent = preprocessing.scale(predictor2)"
   ]
  },
  {
   "cell_type": "code",
   "execution_count": 26,
   "metadata": {},
   "outputs": [
    {
     "name": "stdout",
     "output_type": "stream",
     "text": [
      "[1 4 5 4 3 6 5 2 1 3 5 6 2 5 2 6 2 1 4 2 5 6 6 3 1 2 2 2 6 6 5]\n"
     ]
    }
   ],
   "source": [
    "from sklearn.model_selection import train_test_split\n",
    "test_size = 0.2\n",
    "X_train2, X_test2, y_train2, y_test2 = train_test_split(predictor2_cent,target2,test_size=test_size)\n",
    "print (y_test2)"
   ]
  },
  {
   "cell_type": "code",
   "execution_count": 27,
   "metadata": {
    "collapsed": true
   },
   "outputs": [],
   "source": [
    "tree3 = DecisionTreeClassifier(criterion=\"entropy\",max_depth=6, min_samples_split=20, random_state=99 )"
   ]
  },
  {
   "cell_type": "code",
   "execution_count": 28,
   "metadata": {},
   "outputs": [
    {
     "data": {
      "text/plain": [
       "DecisionTreeClassifier(class_weight=None, criterion='entropy', max_depth=6,\n",
       "            max_features=None, max_leaf_nodes=None,\n",
       "            min_impurity_decrease=0.0, min_impurity_split=None,\n",
       "            min_samples_leaf=1, min_samples_split=20,\n",
       "            min_weight_fraction_leaf=0.0, presort=False, random_state=99,\n",
       "            splitter='best')"
      ]
     },
     "execution_count": 28,
     "metadata": {},
     "output_type": "execute_result"
    }
   ],
   "source": [
    "tree3.fit(X_train2,y_train2)"
   ]
  },
  {
   "cell_type": "code",
   "execution_count": 29,
   "metadata": {},
   "outputs": [
    {
     "data": {
      "text/plain": [
       "0.2903225806451613"
      ]
     },
     "execution_count": 29,
     "metadata": {},
     "output_type": "execute_result"
    }
   ],
   "source": [
    "tree3.score(X_test2, y_test2)"
   ]
  },
  {
   "cell_type": "markdown",
   "metadata": {},
   "source": [
    "## Cross validation"
   ]
  },
  {
   "cell_type": "code",
   "execution_count": 30,
   "metadata": {
    "collapsed": true
   },
   "outputs": [],
   "source": [
    "valid2 = KFold(n_splits = 10, shuffle = True, random_state = 1)"
   ]
  },
  {
   "cell_type": "code",
   "execution_count": 31,
   "metadata": {},
   "outputs": [
    {
     "data": {
      "text/plain": [
       "0.24208333333333337"
      ]
     },
     "execution_count": 31,
     "metadata": {},
     "output_type": "execute_result"
    }
   ],
   "source": [
    "acc2 = np.mean(cross_val_score(tree3, predictor2_cent, target2, scoring = \"accuracy\", cv = valid2, n_jobs=1))\n",
    "acc2"
   ]
  },
  {
   "cell_type": "markdown",
   "metadata": {},
   "source": [
    "## <span style=\"color:red\">LOOCV</span>"
   ]
  },
  {
   "cell_type": "markdown",
   "metadata": {},
   "source": [
    "## Normalized"
   ]
  },
  {
   "cell_type": "code",
   "execution_count": 32,
   "metadata": {
    "collapsed": true
   },
   "outputs": [],
   "source": [
    "valid3 = KFold(n_splits = predictor2_norm.shape[0], shuffle = True, random_state = 1)"
   ]
  },
  {
   "cell_type": "code",
   "execution_count": 33,
   "metadata": {},
   "outputs": [
    {
     "data": {
      "text/plain": [
       "0.26375000000000004"
      ]
     },
     "execution_count": 33,
     "metadata": {},
     "output_type": "execute_result"
    }
   ],
   "source": [
    "acc3 = np.mean(cross_val_score(tree2, predictor2_norm, target2, scoring = \"accuracy\", cv = valid2, n_jobs=1))\n",
    "acc3"
   ]
  },
  {
   "cell_type": "markdown",
   "metadata": {},
   "source": [
    "## Standardization"
   ]
  },
  {
   "cell_type": "code",
   "execution_count": 34,
   "metadata": {
    "collapsed": true
   },
   "outputs": [],
   "source": [
    "valid4 = KFold(n_splits = predictor2_cent.shape[0], shuffle = True, random_state = 1)"
   ]
  },
  {
   "cell_type": "code",
   "execution_count": 35,
   "metadata": {},
   "outputs": [
    {
     "data": {
      "text/plain": [
       "0.24208333333333337"
      ]
     },
     "execution_count": 35,
     "metadata": {},
     "output_type": "execute_result"
    }
   ],
   "source": [
    "acc4 = np.mean(cross_val_score(tree3, predictor2_cent, target2, scoring = \"accuracy\", cv = valid2, n_jobs=1))\n",
    "acc4"
   ]
  },
  {
   "cell_type": "markdown",
   "metadata": {},
   "source": [
    "# <span style=\"color:red\">DT para las derivadas de las imagenes </span>"
   ]
  },
  {
   "cell_type": "code",
   "execution_count": 36,
   "metadata": {},
   "outputs": [
    {
     "name": "stdout",
     "output_type": "stream",
     "text": [
      "['hiperplasNbi', 'adenomaWl', 'serratedWl', 'serratedNbi', 'hiperplasWl', 'adenomaNbi']\n",
      "class:  hiperplasNbi total  21\n",
      "class:  adenomaWl total  40\n",
      "class:  serratedWl total  15\n",
      "class:  serratedNbi total  15\n",
      "class:  hiperplasWl total  21\n",
      "class:  adenomaNbi total  40\n"
     ]
    }
   ],
   "source": [
    "path_classes3 = \"/home/franklinsierra/Documentos/Biomedica/Experimentos/notebooks/mix_der_img/\"\n",
    "classes_names3 = os.listdir(path_classes3)\n",
    "print (classes_names3)\n",
    "\n",
    "for i, name_class in enumerate(classes_names3):\n",
    "    dic_img[classes_names3[i]] = np.array(os.listdir(path_classes3+classes_names3[i]))\n",
    "    print (\"class: \", name_class, \"total \", len(dic_img[classes_names3[i]]))"
   ]
  },
  {
   "cell_type": "code",
   "execution_count": 37,
   "metadata": {},
   "outputs": [
    {
     "name": "stdout",
     "output_type": "stream",
     "text": [
      "1 clase:  hiperplasNbi  target:  1  total:  21\n",
      "2 clase:  adenomaWl  target:  2  total:  40\n",
      "3 clase:  serratedWl  target:  3  total:  15\n",
      "4 clase:  serratedNbi  target:  4  total:  15\n",
      "5 clase:  hiperplasWl  target:  5  total:  21\n",
      "6 clase:  adenomaNbi  target:  6  total:  40\n"
     ]
    }
   ],
   "source": [
    "predictor3 = []\n",
    "target3 = []\n",
    "resize_value = 100\n",
    "for i, classes in enumerate(classes_names3):\n",
    "    print((i+1), \"clase: \", classes, \" target: \", (i+1), \" total: \", len(dic_img[classes]))\n",
    "    for img_name in dic_img[classes]:\n",
    "        path_image = path_classes3+classes+'/'+img_name\n",
    "        img = cv.resize(cv.imread(path_image,0),(100,100))*1.\n",
    "        flatt_img = img.reshape(resize_value*resize_value)\n",
    "        ########################\n",
    "        #Caracteristicas globales\n",
    "        ########################\n",
    "        #fv_hu_moments = fd_hu_moments(flatt_img)\n",
    "        #fv_haralick = fd_haralick(flatt_img)\n",
    "        #fv_histogram = fd_histogram(flatt_img)\n",
    "        #######################\n",
    "        #Concatenacion de todas las features\n",
    "        #######################\n",
    "        #predictor = np.hstack([fv_hu_moments, fv_haralick, fv_histogram])\n",
    "        \n",
    "        predictor3.append(flatt_img)\n",
    "        target3.append(i+1)\n",
    "predictor3 = np.r_[predictor3]        \n",
    "target3 = np.r_[target3]"
   ]
  },
  {
   "cell_type": "markdown",
   "metadata": {},
   "source": [
    "### Normalizando datos"
   ]
  },
  {
   "cell_type": "code",
   "execution_count": 38,
   "metadata": {
    "collapsed": true
   },
   "outputs": [],
   "source": [
    "predictor3_norm = preprocessing.normalize(predictor3)"
   ]
  },
  {
   "cell_type": "code",
   "execution_count": 39,
   "metadata": {},
   "outputs": [
    {
     "name": "stdout",
     "output_type": "stream",
     "text": [
      "[6 4 2 2 2 3 6 2 1 5 6 3 1 1 6 2 4 6 6 6 4 6 5 2 2 4 1 6 4 5 3]\n"
     ]
    }
   ],
   "source": [
    "from sklearn.model_selection import train_test_split\n",
    "test_size = 0.2\n",
    "X_train3, X_test3, y_train3, y_test3 = train_test_split(predictor3_norm,target3,test_size=test_size)\n",
    "print (y_test3)"
   ]
  },
  {
   "cell_type": "code",
   "execution_count": 40,
   "metadata": {
    "collapsed": true
   },
   "outputs": [],
   "source": [
    "tree4 = DecisionTreeClassifier(criterion=\"entropy\",max_depth=6, min_samples_split=20, random_state=99 )"
   ]
  },
  {
   "cell_type": "code",
   "execution_count": 41,
   "metadata": {},
   "outputs": [
    {
     "data": {
      "text/plain": [
       "DecisionTreeClassifier(class_weight=None, criterion='entropy', max_depth=6,\n",
       "            max_features=None, max_leaf_nodes=None,\n",
       "            min_impurity_decrease=0.0, min_impurity_split=None,\n",
       "            min_samples_leaf=1, min_samples_split=20,\n",
       "            min_weight_fraction_leaf=0.0, presort=False, random_state=99,\n",
       "            splitter='best')"
      ]
     },
     "execution_count": 41,
     "metadata": {},
     "output_type": "execute_result"
    }
   ],
   "source": [
    "tree4.fit(X_train3,y_train3)"
   ]
  },
  {
   "cell_type": "code",
   "execution_count": 42,
   "metadata": {},
   "outputs": [
    {
     "data": {
      "text/plain": [
       "0.1935483870967742"
      ]
     },
     "execution_count": 42,
     "metadata": {},
     "output_type": "execute_result"
    }
   ],
   "source": [
    "tree4.score(X_test3, y_test3)"
   ]
  },
  {
   "cell_type": "markdown",
   "metadata": {},
   "source": [
    "## Standardization"
   ]
  },
  {
   "cell_type": "code",
   "execution_count": 43,
   "metadata": {
    "collapsed": true
   },
   "outputs": [],
   "source": [
    "predictor3_cent = preprocessing.scale(predictor3)"
   ]
  },
  {
   "cell_type": "code",
   "execution_count": 44,
   "metadata": {},
   "outputs": [
    {
     "name": "stdout",
     "output_type": "stream",
     "text": [
      "[6 6 5 3 5 1 1 6 6 2 2 4 2 5 6 2 2 2 1 4 2 6 5 6 2 1 3 4 6 2 6]\n"
     ]
    }
   ],
   "source": [
    "from sklearn.model_selection import train_test_split\n",
    "test_size = 0.2\n",
    "X_train3, X_test3, y_train3, y_test3 = train_test_split(predictor3_cent,target3,test_size=test_size)\n",
    "print (y_test3)"
   ]
  },
  {
   "cell_type": "code",
   "execution_count": 45,
   "metadata": {
    "collapsed": true
   },
   "outputs": [],
   "source": [
    "tree5 = DecisionTreeClassifier(criterion=\"entropy\",max_depth=6, min_samples_split=20, random_state=99 )"
   ]
  },
  {
   "cell_type": "code",
   "execution_count": 46,
   "metadata": {},
   "outputs": [
    {
     "data": {
      "text/plain": [
       "DecisionTreeClassifier(class_weight=None, criterion='entropy', max_depth=6,\n",
       "            max_features=None, max_leaf_nodes=None,\n",
       "            min_impurity_decrease=0.0, min_impurity_split=None,\n",
       "            min_samples_leaf=1, min_samples_split=20,\n",
       "            min_weight_fraction_leaf=0.0, presort=False, random_state=99,\n",
       "            splitter='best')"
      ]
     },
     "execution_count": 46,
     "metadata": {},
     "output_type": "execute_result"
    }
   ],
   "source": [
    "tree5.fit(X_train3,y_train3)"
   ]
  },
  {
   "cell_type": "code",
   "execution_count": 47,
   "metadata": {},
   "outputs": [
    {
     "data": {
      "text/plain": [
       "0.3548387096774194"
      ]
     },
     "execution_count": 47,
     "metadata": {},
     "output_type": "execute_result"
    }
   ],
   "source": [
    "tree5.score(X_test3, y_test3)"
   ]
  },
  {
   "cell_type": "markdown",
   "metadata": {},
   "source": [
    "## <span style=\"color:red\">Cross validation</span> "
   ]
  },
  {
   "cell_type": "markdown",
   "metadata": {},
   "source": [
    "## Normalized"
   ]
  },
  {
   "cell_type": "code",
   "execution_count": 48,
   "metadata": {
    "collapsed": true
   },
   "outputs": [],
   "source": [
    "valid4 = KFold(n_splits = 10, shuffle = True, random_state = 1)"
   ]
  },
  {
   "cell_type": "code",
   "execution_count": 49,
   "metadata": {},
   "outputs": [
    {
     "data": {
      "text/plain": [
       "0.3170833333333333"
      ]
     },
     "execution_count": 49,
     "metadata": {},
     "output_type": "execute_result"
    }
   ],
   "source": [
    "score4 = np.mean(cross_val_score(tree4, predictor3_norm, target3, scoring = \"accuracy\", cv = valid4, n_jobs=1))\n",
    "score4"
   ]
  },
  {
   "cell_type": "markdown",
   "metadata": {},
   "source": [
    "## Standardization"
   ]
  },
  {
   "cell_type": "code",
   "execution_count": 51,
   "metadata": {
    "collapsed": true
   },
   "outputs": [],
   "source": [
    "valid5 = KFold(n_splits = 10, shuffle = True, random_state = 1)"
   ]
  },
  {
   "cell_type": "code",
   "execution_count": 52,
   "metadata": {},
   "outputs": [
    {
     "data": {
      "text/plain": [
       "0.2504166666666667"
      ]
     },
     "execution_count": 52,
     "metadata": {},
     "output_type": "execute_result"
    }
   ],
   "source": [
    "score5 = np.mean(cross_val_score(tree5, predictor3_cent, target3, scoring = \"accuracy\", cv = valid5, n_jobs=1))\n",
    "score5"
   ]
  },
  {
   "cell_type": "markdown",
   "metadata": {},
   "source": [
    "## <span style=\"color:red\">LOOCV</span>"
   ]
  },
  {
   "cell_type": "markdown",
   "metadata": {},
   "source": [
    "## Normalized"
   ]
  },
  {
   "cell_type": "code",
   "execution_count": null,
   "metadata": {
    "collapsed": true
   },
   "outputs": [],
   "source": []
  },
  {
   "cell_type": "markdown",
   "metadata": {},
   "source": [
    "## Changing deep"
   ]
  },
  {
   "cell_type": "code",
   "execution_count": 175,
   "metadata": {},
   "outputs": [
    {
     "name": "stdout",
     "output_type": "stream",
     "text": [
      "Score de: 0.3954166666666667 para la profundidad:  1\n",
      "Score de: 0.33625000000000005 para la profundidad:  2\n",
      "Score de: 0.3291666666666667 para la profundidad:  3\n",
      "Score de: 0.26416666666666666 para la profundidad:  4\n",
      "Score de: 0.26416666666666666 para la profundidad:  5\n",
      "Score de: 0.26416666666666666 para la profundidad:  6\n",
      "Score de: 0.26416666666666666 para la profundidad:  7\n",
      "Score de: 0.26416666666666666 para la profundidad:  8\n",
      "Score de: 0.26416666666666666 para la profundidad:  9\n",
      "Score de: 0.26416666666666666 para la profundidad:  10\n"
     ]
    }
   ],
   "source": [
    "for i in range(1,11):\n",
    "    tree3 = DecisionTreeClassifier(criterion=\"entropy\", max_depth=i, min_samples_split=20, random_state=99 )\n",
    "    tree3.fit(X_train3, y_train3)\n",
    "    score = np.mean(cross_val_score(tree3, predictor3_norm, target3, scoring=\"accuracy\", cv =cv2, n_jobs=1))\n",
    "    print(\"Score de:\", score, \"para la profundidad: \", i)"
   ]
  },
  {
   "cell_type": "code",
   "execution_count": null,
   "metadata": {
    "collapsed": true
   },
   "outputs": [],
   "source": []
  }
 ],
 "metadata": {
  "kernelspec": {
   "display_name": "Python 3",
   "language": "python",
   "name": "python3"
  },
  "language_info": {
   "codemirror_mode": {
    "name": "ipython",
    "version": 3
   },
   "file_extension": ".py",
   "mimetype": "text/x-python",
   "name": "python",
   "nbconvert_exporter": "python",
   "pygments_lexer": "ipython3",
   "version": "3.6.3"
  }
 },
 "nbformat": 4,
 "nbformat_minor": 2
}
