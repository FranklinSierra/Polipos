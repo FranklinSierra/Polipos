{
 "cells": [
  {
   "cell_type": "code",
   "execution_count": 3,
   "metadata": {},
   "outputs": [],
   "source": [
    "import cv2 as cv\n",
    "import matplotlib.pyplot as plt\n",
    "import numpy as np\n",
    "import os"
   ]
  },
  {
   "cell_type": "markdown",
   "metadata": {},
   "source": [
    "## Conjunto de todas las imagenes promedio"
   ]
  },
  {
   "cell_type": "code",
   "execution_count": 4,
   "metadata": {},
   "outputs": [
    {
     "name": "stdout",
     "output_type": "stream",
     "text": [
      "['adenomaWl', 'hyperplasWl', 'hyperplasNbi', 'serratedWl', 'serratedNbi', 'adenomaNbi']\n",
      "class:  adenomaWl total  40\n",
      "class:  hyperplasWl total  21\n",
      "class:  hyperplasNbi total  21\n",
      "class:  serratedWl total  15\n",
      "class:  serratedNbi total  15\n",
      "class:  adenomaNbi total  40\n"
     ]
    }
   ],
   "source": [
    "path_classes = \"/home/franklinsierra/Documentos/Biomedica/Polipos/notebooks/mix_avg_img/\"\n",
    "classes_names = os.listdir(path_classes)\n",
    "print (classes_names)\n",
    "dic_img ={}\n",
    "\n",
    "for i, name_class in enumerate(classes_names):\n",
    "    dic_img[classes_names[i]] = np.array(os.listdir(path_classes+classes_names[i]))\n",
    "    print (\"class: \", name_class, \"total \", len(dic_img[classes_names[i]]))"
   ]
  },
  {
   "cell_type": "code",
   "execution_count": 5,
   "metadata": {},
   "outputs": [
    {
     "name": "stdout",
     "output_type": "stream",
     "text": [
      "1 clase:  adenomaWl  target:  1  total:  40\n",
      "2 clase:  hyperplasWl  target:  2  total:  21\n",
      "3 clase:  hyperplasNbi  target:  3  total:  21\n",
      "4 clase:  serratedWl  target:  4  total:  15\n",
      "5 clase:  serratedNbi  target:  5  total:  15\n",
      "6 clase:  adenomaNbi  target:  6  total:  40\n"
     ]
    }
   ],
   "source": [
    "x1 = []\n",
    "y1 = []\n",
    "resize_value = 100\n",
    "for i, classes in enumerate(classes_names):\n",
    "    print((i+1), \"clase: \", classes, \" target: \", (i+1), \" total: \", len(dic_img[classes]))\n",
    "    for img_name in dic_img[classes]:\n",
    "        path_image = path_classes+classes+'/'+img_name\n",
    "        img = cv.resize(cv.imread(path_image,0),(100,100))*1.\n",
    "        flatt_img = img.reshape(resize_value*resize_value)\n",
    "        x1.append(flatt_img)\n",
    "        y1.append(i+1)\n",
    "x1 = np.r_[x1]        \n",
    "y1 = np.r_[y1]"
   ]
  },
  {
   "cell_type": "code",
   "execution_count": 10,
   "metadata": {},
   "outputs": [
    {
     "data": {
      "text/plain": [
       "(152, 10000)"
      ]
     },
     "execution_count": 10,
     "metadata": {},
     "output_type": "execute_result"
    }
   ],
   "source": [
    "x1.shape"
   ]
  },
  {
   "cell_type": "markdown",
   "metadata": {},
   "source": [
    "## Conjunto de todas las imagenes varianza"
   ]
  },
  {
   "cell_type": "code",
   "execution_count": 6,
   "metadata": {},
   "outputs": [
    {
     "name": "stdout",
     "output_type": "stream",
     "text": [
      "['hiperplasNbi', 'adenomaWl', 'serratedWl', 'serratedNbi', 'hiperplasWl', 'adenomaNbi']\n",
      "class:  hiperplasNbi total  21\n",
      "class:  adenomaWl total  40\n",
      "class:  serratedWl total  15\n",
      "class:  serratedNbi total  15\n",
      "class:  hiperplasWl total  21\n",
      "class:  adenomaNbi total  40\n"
     ]
    }
   ],
   "source": [
    "path_classes = \"/home/franklinsierra/Documentos/Biomedica/Polipos/notebooks/mix_var_img/\"\n",
    "classes_names = os.listdir(path_classes)\n",
    "print (classes_names)\n",
    "dic_img ={}\n",
    "\n",
    "for i, name_class in enumerate(classes_names):\n",
    "    dic_img[classes_names[i]] = np.array(os.listdir(path_classes+classes_names[i]))\n",
    "    print (\"class: \", name_class, \"total \", len(dic_img[classes_names[i]]))"
   ]
  },
  {
   "cell_type": "code",
   "execution_count": 7,
   "metadata": {},
   "outputs": [
    {
     "name": "stdout",
     "output_type": "stream",
     "text": [
      "1 clase:  hiperplasNbi  target:  1  total:  21\n",
      "2 clase:  adenomaWl  target:  2  total:  40\n",
      "3 clase:  serratedWl  target:  3  total:  15\n",
      "4 clase:  serratedNbi  target:  4  total:  15\n",
      "5 clase:  hiperplasWl  target:  5  total:  21\n",
      "6 clase:  adenomaNbi  target:  6  total:  40\n"
     ]
    }
   ],
   "source": [
    "x2 = []\n",
    "y2 = []\n",
    "resize_value = 100\n",
    "for i, classes in enumerate(classes_names):\n",
    "    print((i+1), \"clase: \", classes, \" target: \", (i+1), \" total: \", len(dic_img[classes]))\n",
    "    for img_name in dic_img[classes]:\n",
    "        path_image = path_classes+classes+'/'+img_name\n",
    "        img = cv.resize(cv.imread(path_image,0),(100,100))*1.\n",
    "        flatt_img = img.reshape(resize_value*resize_value)\n",
    "        x2.append(flatt_img)\n",
    "        y2.append(i+1)\n",
    "x2 = np.r_[x2]        \n",
    "y2 = np.r_[y2]"
   ]
  },
  {
   "cell_type": "code",
   "execution_count": 11,
   "metadata": {},
   "outputs": [
    {
     "data": {
      "text/plain": [
       "(152, 10000)"
      ]
     },
     "execution_count": 11,
     "metadata": {},
     "output_type": "execute_result"
    }
   ],
   "source": [
    "x2.shape"
   ]
  },
  {
   "cell_type": "markdown",
   "metadata": {},
   "source": [
    "## Conjunto de todas las imagenes derivadas"
   ]
  },
  {
   "cell_type": "code",
   "execution_count": 8,
   "metadata": {},
   "outputs": [
    {
     "name": "stdout",
     "output_type": "stream",
     "text": [
      "['hiperplasNbi', 'adenomaWl', 'serratedWl', 'serratedNbi', 'hiperplasWl', 'adenomaNbi']\n",
      "class:  hiperplasNbi total  21\n",
      "class:  adenomaWl total  40\n",
      "class:  serratedWl total  15\n",
      "class:  serratedNbi total  15\n",
      "class:  hiperplasWl total  21\n",
      "class:  adenomaNbi total  40\n"
     ]
    }
   ],
   "source": [
    "path_classes = \"/home/franklinsierra/Documentos/Biomedica/Polipos/notebooks/mix_der_img/\"\n",
    "classes_names = os.listdir(path_classes)\n",
    "print (classes_names)\n",
    "dic_img ={}\n",
    "\n",
    "for i, name_class in enumerate(classes_names):\n",
    "    dic_img[classes_names[i]] = np.array(os.listdir(path_classes+classes_names[i]))\n",
    "    print (\"class: \", name_class, \"total \", len(dic_img[classes_names[i]]))"
   ]
  },
  {
   "cell_type": "code",
   "execution_count": 9,
   "metadata": {},
   "outputs": [
    {
     "name": "stdout",
     "output_type": "stream",
     "text": [
      "1 clase:  hiperplasNbi  target:  1  total:  21\n",
      "2 clase:  adenomaWl  target:  2  total:  40\n",
      "3 clase:  serratedWl  target:  3  total:  15\n",
      "4 clase:  serratedNbi  target:  4  total:  15\n",
      "5 clase:  hiperplasWl  target:  5  total:  21\n",
      "6 clase:  adenomaNbi  target:  6  total:  40\n"
     ]
    }
   ],
   "source": [
    "x3 = []\n",
    "y3 = []\n",
    "resize_value = 100\n",
    "for i, classes in enumerate(classes_names):\n",
    "    print((i+1), \"clase: \", classes, \" target: \", (i+1), \" total: \", len(dic_img[classes]))\n",
    "    for img_name in dic_img[classes]:\n",
    "        path_image = path_classes+classes+'/'+img_name\n",
    "        img = cv.resize(cv.imread(path_image,0),(100,100))*1.\n",
    "        flatt_img = img.reshape(resize_value*resize_value)\n",
    "        x3.append(flatt_img)\n",
    "        y3.append(i+1)\n",
    "x3 = np.r_[x3]        \n",
    "y3 = np.r_[y3]"
   ]
  },
  {
   "cell_type": "code",
   "execution_count": 15,
   "metadata": {},
   "outputs": [
    {
     "data": {
      "text/plain": [
       "numpy.ndarray"
      ]
     },
     "execution_count": 15,
     "metadata": {},
     "output_type": "execute_result"
    }
   ],
   "source": [
    "type(x3)"
   ]
  },
  {
   "cell_type": "markdown",
   "metadata": {},
   "source": [
    "# Juntando todo"
   ]
  },
  {
   "cell_type": "code",
   "execution_count": null,
   "metadata": {},
   "outputs": [],
   "source": []
  },
  {
   "cell_type": "code",
   "execution_count": null,
   "metadata": {},
   "outputs": [],
   "source": []
  }
 ],
 "metadata": {
  "kernelspec": {
   "display_name": "Python 3",
   "language": "python",
   "name": "python3"
  },
  "language_info": {
   "codemirror_mode": {
    "name": "ipython",
    "version": 3
   },
   "file_extension": ".py",
   "mimetype": "text/x-python",
   "name": "python",
   "nbconvert_exporter": "python",
   "pygments_lexer": "ipython3",
   "version": "3.6.8"
  }
 },
 "nbformat": 4,
 "nbformat_minor": 2
}
